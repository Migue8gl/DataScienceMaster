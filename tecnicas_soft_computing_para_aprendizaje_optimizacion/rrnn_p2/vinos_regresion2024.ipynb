{
 "cells": [
  {
   "cell_type": "code",
   "execution_count": null,
   "metadata": {},
   "outputs": [],
   "source": [
    "# Import pandas\n",
    "import pandas as pd\n",
    "\n",
    "# Read in white wine data\n",
    "white = pd.read_csv(\"winequality-white.csv\", sep=\";\")\n",
    "\n",
    "# Read in red wine data\n",
    "red = pd.read_csv(\"winequality-red.csv\", sep=\";\")\n"
   ]
  },
  {
   "cell_type": "code",
   "execution_count": 3,
   "metadata": {},
   "outputs": [],
   "source": [
    "# Add `type` column to `red` with value 1\n",
    "red[\"type\"] = 1\n",
    "\n",
    "# Add `type` column to `white` with value 0\n",
    "white[\"type\"] = 0\n",
    "\n",
    "# Append `white` to `red`\n",
    "# wines = red.append(white, ignore_index=True)\n",
    "wines = pd.concat([red, white], ignore_index=True)"
   ]
  },
  {
   "cell_type": "code",
   "execution_count": 4,
   "metadata": {
    "scrolled": true
   },
   "outputs": [
    {
     "data": {
      "text/html": [
       "<div>\n",
       "<style scoped>\n",
       "    .dataframe tbody tr th:only-of-type {\n",
       "        vertical-align: middle;\n",
       "    }\n",
       "\n",
       "    .dataframe tbody tr th {\n",
       "        vertical-align: top;\n",
       "    }\n",
       "\n",
       "    .dataframe thead th {\n",
       "        text-align: right;\n",
       "    }\n",
       "</style>\n",
       "<table border=\"1\" class=\"dataframe\">\n",
       "  <thead>\n",
       "    <tr style=\"text-align: right;\">\n",
       "      <th></th>\n",
       "      <th>fixed acidity</th>\n",
       "      <th>volatile acidity</th>\n",
       "      <th>citric acid</th>\n",
       "      <th>residual sugar</th>\n",
       "      <th>chlorides</th>\n",
       "      <th>free sulfur dioxide</th>\n",
       "      <th>total sulfur dioxide</th>\n",
       "      <th>density</th>\n",
       "      <th>pH</th>\n",
       "      <th>sulphates</th>\n",
       "      <th>alcohol</th>\n",
       "      <th>quality</th>\n",
       "      <th>type</th>\n",
       "    </tr>\n",
       "  </thead>\n",
       "  <tbody>\n",
       "    <tr>\n",
       "      <th>0</th>\n",
       "      <td>7.4</td>\n",
       "      <td>0.70</td>\n",
       "      <td>0.00</td>\n",
       "      <td>1.9</td>\n",
       "      <td>0.076</td>\n",
       "      <td>11.0</td>\n",
       "      <td>34.0</td>\n",
       "      <td>0.99780</td>\n",
       "      <td>3.51</td>\n",
       "      <td>0.56</td>\n",
       "      <td>9.4</td>\n",
       "      <td>5</td>\n",
       "      <td>1</td>\n",
       "    </tr>\n",
       "    <tr>\n",
       "      <th>1</th>\n",
       "      <td>7.8</td>\n",
       "      <td>0.88</td>\n",
       "      <td>0.00</td>\n",
       "      <td>2.6</td>\n",
       "      <td>0.098</td>\n",
       "      <td>25.0</td>\n",
       "      <td>67.0</td>\n",
       "      <td>0.99680</td>\n",
       "      <td>3.20</td>\n",
       "      <td>0.68</td>\n",
       "      <td>9.8</td>\n",
       "      <td>5</td>\n",
       "      <td>1</td>\n",
       "    </tr>\n",
       "    <tr>\n",
       "      <th>2</th>\n",
       "      <td>7.8</td>\n",
       "      <td>0.76</td>\n",
       "      <td>0.04</td>\n",
       "      <td>2.3</td>\n",
       "      <td>0.092</td>\n",
       "      <td>15.0</td>\n",
       "      <td>54.0</td>\n",
       "      <td>0.99700</td>\n",
       "      <td>3.26</td>\n",
       "      <td>0.65</td>\n",
       "      <td>9.8</td>\n",
       "      <td>5</td>\n",
       "      <td>1</td>\n",
       "    </tr>\n",
       "    <tr>\n",
       "      <th>3</th>\n",
       "      <td>11.2</td>\n",
       "      <td>0.28</td>\n",
       "      <td>0.56</td>\n",
       "      <td>1.9</td>\n",
       "      <td>0.075</td>\n",
       "      <td>17.0</td>\n",
       "      <td>60.0</td>\n",
       "      <td>0.99800</td>\n",
       "      <td>3.16</td>\n",
       "      <td>0.58</td>\n",
       "      <td>9.8</td>\n",
       "      <td>6</td>\n",
       "      <td>1</td>\n",
       "    </tr>\n",
       "    <tr>\n",
       "      <th>4</th>\n",
       "      <td>7.4</td>\n",
       "      <td>0.70</td>\n",
       "      <td>0.00</td>\n",
       "      <td>1.9</td>\n",
       "      <td>0.076</td>\n",
       "      <td>11.0</td>\n",
       "      <td>34.0</td>\n",
       "      <td>0.99780</td>\n",
       "      <td>3.51</td>\n",
       "      <td>0.56</td>\n",
       "      <td>9.4</td>\n",
       "      <td>5</td>\n",
       "      <td>1</td>\n",
       "    </tr>\n",
       "    <tr>\n",
       "      <th>...</th>\n",
       "      <td>...</td>\n",
       "      <td>...</td>\n",
       "      <td>...</td>\n",
       "      <td>...</td>\n",
       "      <td>...</td>\n",
       "      <td>...</td>\n",
       "      <td>...</td>\n",
       "      <td>...</td>\n",
       "      <td>...</td>\n",
       "      <td>...</td>\n",
       "      <td>...</td>\n",
       "      <td>...</td>\n",
       "      <td>...</td>\n",
       "    </tr>\n",
       "    <tr>\n",
       "      <th>6492</th>\n",
       "      <td>6.2</td>\n",
       "      <td>0.21</td>\n",
       "      <td>0.29</td>\n",
       "      <td>1.6</td>\n",
       "      <td>0.039</td>\n",
       "      <td>24.0</td>\n",
       "      <td>92.0</td>\n",
       "      <td>0.99114</td>\n",
       "      <td>3.27</td>\n",
       "      <td>0.50</td>\n",
       "      <td>11.2</td>\n",
       "      <td>6</td>\n",
       "      <td>0</td>\n",
       "    </tr>\n",
       "    <tr>\n",
       "      <th>6493</th>\n",
       "      <td>6.6</td>\n",
       "      <td>0.32</td>\n",
       "      <td>0.36</td>\n",
       "      <td>8.0</td>\n",
       "      <td>0.047</td>\n",
       "      <td>57.0</td>\n",
       "      <td>168.0</td>\n",
       "      <td>0.99490</td>\n",
       "      <td>3.15</td>\n",
       "      <td>0.46</td>\n",
       "      <td>9.6</td>\n",
       "      <td>5</td>\n",
       "      <td>0</td>\n",
       "    </tr>\n",
       "    <tr>\n",
       "      <th>6494</th>\n",
       "      <td>6.5</td>\n",
       "      <td>0.24</td>\n",
       "      <td>0.19</td>\n",
       "      <td>1.2</td>\n",
       "      <td>0.041</td>\n",
       "      <td>30.0</td>\n",
       "      <td>111.0</td>\n",
       "      <td>0.99254</td>\n",
       "      <td>2.99</td>\n",
       "      <td>0.46</td>\n",
       "      <td>9.4</td>\n",
       "      <td>6</td>\n",
       "      <td>0</td>\n",
       "    </tr>\n",
       "    <tr>\n",
       "      <th>6495</th>\n",
       "      <td>5.5</td>\n",
       "      <td>0.29</td>\n",
       "      <td>0.30</td>\n",
       "      <td>1.1</td>\n",
       "      <td>0.022</td>\n",
       "      <td>20.0</td>\n",
       "      <td>110.0</td>\n",
       "      <td>0.98869</td>\n",
       "      <td>3.34</td>\n",
       "      <td>0.38</td>\n",
       "      <td>12.8</td>\n",
       "      <td>7</td>\n",
       "      <td>0</td>\n",
       "    </tr>\n",
       "    <tr>\n",
       "      <th>6496</th>\n",
       "      <td>6.0</td>\n",
       "      <td>0.21</td>\n",
       "      <td>0.38</td>\n",
       "      <td>0.8</td>\n",
       "      <td>0.020</td>\n",
       "      <td>22.0</td>\n",
       "      <td>98.0</td>\n",
       "      <td>0.98941</td>\n",
       "      <td>3.26</td>\n",
       "      <td>0.32</td>\n",
       "      <td>11.8</td>\n",
       "      <td>6</td>\n",
       "      <td>0</td>\n",
       "    </tr>\n",
       "  </tbody>\n",
       "</table>\n",
       "<p>6497 rows × 13 columns</p>\n",
       "</div>"
      ],
      "text/plain": [
       "      fixed acidity  volatile acidity  citric acid  residual sugar  chlorides  \\\n",
       "0               7.4              0.70         0.00             1.9      0.076   \n",
       "1               7.8              0.88         0.00             2.6      0.098   \n",
       "2               7.8              0.76         0.04             2.3      0.092   \n",
       "3              11.2              0.28         0.56             1.9      0.075   \n",
       "4               7.4              0.70         0.00             1.9      0.076   \n",
       "...             ...               ...          ...             ...        ...   \n",
       "6492            6.2              0.21         0.29             1.6      0.039   \n",
       "6493            6.6              0.32         0.36             8.0      0.047   \n",
       "6494            6.5              0.24         0.19             1.2      0.041   \n",
       "6495            5.5              0.29         0.30             1.1      0.022   \n",
       "6496            6.0              0.21         0.38             0.8      0.020   \n",
       "\n",
       "      free sulfur dioxide  total sulfur dioxide  density    pH  sulphates  \\\n",
       "0                    11.0                  34.0  0.99780  3.51       0.56   \n",
       "1                    25.0                  67.0  0.99680  3.20       0.68   \n",
       "2                    15.0                  54.0  0.99700  3.26       0.65   \n",
       "3                    17.0                  60.0  0.99800  3.16       0.58   \n",
       "4                    11.0                  34.0  0.99780  3.51       0.56   \n",
       "...                   ...                   ...      ...   ...        ...   \n",
       "6492                 24.0                  92.0  0.99114  3.27       0.50   \n",
       "6493                 57.0                 168.0  0.99490  3.15       0.46   \n",
       "6494                 30.0                 111.0  0.99254  2.99       0.46   \n",
       "6495                 20.0                 110.0  0.98869  3.34       0.38   \n",
       "6496                 22.0                  98.0  0.98941  3.26       0.32   \n",
       "\n",
       "      alcohol  quality  type  \n",
       "0         9.4        5     1  \n",
       "1         9.8        5     1  \n",
       "2         9.8        5     1  \n",
       "3         9.8        6     1  \n",
       "4         9.4        5     1  \n",
       "...       ...      ...   ...  \n",
       "6492     11.2        6     0  \n",
       "6493      9.6        5     0  \n",
       "6494      9.4        6     0  \n",
       "6495     12.8        7     0  \n",
       "6496     11.8        6     0  \n",
       "\n",
       "[6497 rows x 13 columns]"
      ]
     },
     "execution_count": 4,
     "metadata": {},
     "output_type": "execute_result"
    }
   ],
   "source": [
    "wines"
   ]
  },
  {
   "cell_type": "code",
   "execution_count": 5,
   "metadata": {},
   "outputs": [],
   "source": [
    "X = wines.iloc[:, 0:12]"
   ]
  },
  {
   "cell_type": "code",
   "execution_count": 6,
   "metadata": {},
   "outputs": [],
   "source": [
    "X = wines.drop(\"quality\", axis=1)"
   ]
  },
  {
   "cell_type": "code",
   "execution_count": 7,
   "metadata": {},
   "outputs": [],
   "source": [
    "# Isolate target labels\n",
    "# Y = wines.quality\n",
    "import numpy as np\n",
    "\n",
    "Y = np.ravel(wines.quality)"
   ]
  },
  {
   "cell_type": "code",
   "execution_count": null,
   "metadata": {},
   "outputs": [],
   "source": [
    "# Import `StandardScaler` from `sklearn.preprocessing`\n",
    "from sklearn.preprocessing import StandardScaler\n",
    "\n",
    "# Scale\n",
    "X_train = StandardScaler().fit_transform(X)"
   ]
  },
  {
   "cell_type": "code",
   "execution_count": 17,
   "metadata": {},
   "outputs": [
    {
     "name": "stderr",
     "output_type": "stream",
     "text": [
      "/home/miguel.garcialopez/DataScienceMaster/tecnicas_soft_computing_para_aprendizaje_optimizacion/.venv/lib/python3.10/site-packages/keras/src/layers/core/dense.py:87: UserWarning: Do not pass an `input_shape`/`input_dim` argument to a layer. When using Sequential models, prefer using an `Input(shape)` object as the first layer in the model instead.\n",
      "  super().__init__(activity_regularizer=activity_regularizer, **kwargs)\n"
     ]
    },
    {
     "name": "stdout",
     "output_type": "stream",
     "text": [
      "\u001b[1m41/41\u001b[0m \u001b[32m━━━━━━━━━━━━━━━━━━━━\u001b[0m\u001b[37m\u001b[0m \u001b[1m0s\u001b[0m 2ms/step\n",
      "Validation MSE: 0.48285\n",
      "Validation MAE: 0.53817\n",
      "Test MSE: 0.41985\n",
      "Test MAE: 0.49941\n"
     ]
    }
   ],
   "source": [
    "# Import `Sequential` from `keras.models`\n",
    "from keras import Sequential\n",
    "\n",
    "# Import `Dense` from `keras.layers`\n",
    "from keras.layers import Dense\n",
    "\n",
    "import numpy as np\n",
    "from sklearn.model_selection import StratifiedKFold\n",
    "\n",
    "seed = 7\n",
    "np.random.seed(seed)\n",
    "\n",
    "test = np.random.choice(\n",
    "    X_train.shape[0], size=int(X_train.shape[0] * 0.2), replace=False\n",
    ")\n",
    "mse_vals = []\n",
    "mae_vals = []\n",
    "\n",
    "kfold = StratifiedKFold(n_splits=5, shuffle=True, random_state=seed)\n",
    "for train, val in kfold.split(X, Y):\n",
    "    model = Sequential()\n",
    "    model.add(Dense(64, input_dim=12, activation=\"relu\"))\n",
    "    model.add(Dense(1))\n",
    "    model.compile(optimizer=\"rmsprop\", loss=\"mse\", metrics=[\"mae\"])\n",
    "    model.fit(X_train[train], Y[train], epochs=50, verbose=0)\n",
    "    mse_aux_value, mae_aux_value = model.evaluate(X_train[val], Y[val], verbose=0)\n",
    "    mse_vals.append(mse_aux_value)\n",
    "    mae_vals.append(mae_aux_value)\n",
    "\n",
    "mse_val_value = np.mean(mse_vals)\n",
    "mae_val_value = np.mean(mae_vals)\n",
    "\n",
    "# En caso de haber guardado un modelo...\n",
    "y_test_pred = model.predict(X_train[test])\n",
    "mse_test_value, mae_test_value = model.evaluate(X_train[test], Y[test], verbose=0)\n",
    "\n",
    "print(f\"Validation MSE: {mse_val_value:.5f}\")\n",
    "print(f\"Validation MAE: {mae_val_value:.5f}\")\n",
    "print(f\"Test MSE: {mse_test_value:.5f}\")\n",
    "print(f\"Test MAE: {mae_test_value:.5f}\")\n"
   ]
  },
  {
   "cell_type": "code",
   "execution_count": 10,
   "metadata": {},
   "outputs": [
    {
     "data": {
      "text/plain": [
       "0.37035661935806274"
      ]
     },
     "execution_count": 10,
     "metadata": {},
     "output_type": "execute_result"
    }
   ],
   "source": [
    "from sklearn.metrics import r2_score\n",
    "\n",
    "r2_score(Y[test], y_test_pred)"
   ]
  },
  {
   "cell_type": "markdown",
   "metadata": {},
   "source": [
    "# EJERCICIO\n",
    "- Recoge  los  resultados  anteriores  en  una  tabla  donde  se  indiquen  los  parámetros, \n",
    "resultados y métricas estudiados hasta el momento. Realizar estas ejecuciones para un número \n",
    "mayor  de  iteraciones  del  algoritmo  (por  ejemplo  20,  30,  40,  50...)  ver  qué  ocurre.  Comentar \n",
    "conclusiones obtenidas al observar los resultados. "
   ]
  },
  {
   "cell_type": "code",
   "execution_count": 19,
   "metadata": {},
   "outputs": [
    {
     "name": "stderr",
     "output_type": "stream",
     "text": [
      "/home/miguel.garcialopez/DataScienceMaster/tecnicas_soft_computing_para_aprendizaje_optimizacion/.venv/lib/python3.10/site-packages/keras/src/layers/core/dense.py:87: UserWarning: Do not pass an `input_shape`/`input_dim` argument to a layer. When using Sequential models, prefer using an `Input(shape)` object as the first layer in the model instead.\n",
      "  super().__init__(activity_regularizer=activity_regularizer, **kwargs)\n"
     ]
    },
    {
     "name": "stdout",
     "output_type": "stream",
     "text": [
      "\u001b[1m41/41\u001b[0m \u001b[32m━━━━━━━━━━━━━━━━━━━━\u001b[0m\u001b[37m\u001b[0m \u001b[1m0s\u001b[0m 3ms/step\n"
     ]
    },
    {
     "name": "stderr",
     "output_type": "stream",
     "text": [
      "/home/miguel.garcialopez/DataScienceMaster/tecnicas_soft_computing_para_aprendizaje_optimizacion/.venv/lib/python3.10/site-packages/keras/src/layers/core/dense.py:87: UserWarning: Do not pass an `input_shape`/`input_dim` argument to a layer. When using Sequential models, prefer using an `Input(shape)` object as the first layer in the model instead.\n",
      "  super().__init__(activity_regularizer=activity_regularizer, **kwargs)\n"
     ]
    },
    {
     "name": "stdout",
     "output_type": "stream",
     "text": [
      "\u001b[1m41/41\u001b[0m \u001b[32m━━━━━━━━━━━━━━━━━━━━\u001b[0m\u001b[37m\u001b[0m \u001b[1m0s\u001b[0m 2ms/step\n"
     ]
    },
    {
     "name": "stderr",
     "output_type": "stream",
     "text": [
      "/home/miguel.garcialopez/DataScienceMaster/tecnicas_soft_computing_para_aprendizaje_optimizacion/.venv/lib/python3.10/site-packages/keras/src/layers/core/dense.py:87: UserWarning: Do not pass an `input_shape`/`input_dim` argument to a layer. When using Sequential models, prefer using an `Input(shape)` object as the first layer in the model instead.\n",
      "  super().__init__(activity_regularizer=activity_regularizer, **kwargs)\n"
     ]
    },
    {
     "name": "stdout",
     "output_type": "stream",
     "text": [
      "\u001b[1m41/41\u001b[0m \u001b[32m━━━━━━━━━━━━━━━━━━━━\u001b[0m\u001b[37m\u001b[0m \u001b[1m0s\u001b[0m 3ms/step\n"
     ]
    },
    {
     "name": "stderr",
     "output_type": "stream",
     "text": [
      "/home/miguel.garcialopez/DataScienceMaster/tecnicas_soft_computing_para_aprendizaje_optimizacion/.venv/lib/python3.10/site-packages/keras/src/layers/core/dense.py:87: UserWarning: Do not pass an `input_shape`/`input_dim` argument to a layer. When using Sequential models, prefer using an `Input(shape)` object as the first layer in the model instead.\n",
      "  super().__init__(activity_regularizer=activity_regularizer, **kwargs)\n"
     ]
    },
    {
     "name": "stdout",
     "output_type": "stream",
     "text": [
      "\u001b[1m41/41\u001b[0m \u001b[32m━━━━━━━━━━━━━━━━━━━━\u001b[0m\u001b[37m\u001b[0m \u001b[1m0s\u001b[0m 2ms/step\n",
      "   Epochs  Validation MSE  Validation MAE  Test MSE  Test MAE   Test R2\n",
      "0      20        0.490854        0.541988  0.450810  0.518260  0.397220\n",
      "1      30        0.486871        0.542332  0.430446  0.508088  0.424448\n",
      "2      40        0.485462        0.540701  0.436752  0.510709  0.416017\n",
      "3      50        0.477619        0.537426  0.405196  0.493823  0.458210\n"
     ]
    }
   ],
   "source": [
    "epochs_list = [20, 30, 40, 50]\n",
    "\n",
    "# Diccionario para almacenar los resultados\n",
    "results = {\n",
    "    'Epochs': [],\n",
    "    'Validation MSE': [],\n",
    "    'Validation MAE': [],\n",
    "    'Test MSE': [],\n",
    "    'Test MAE': [],\n",
    "    'Test R2': []\n",
    "}\n",
    "\n",
    "for epochs in epochs_list:\n",
    "    mse_vals = []\n",
    "    mae_vals = []\n",
    "\n",
    "    kfold = StratifiedKFold(n_splits=5, shuffle=True, random_state=seed)\n",
    "    for train, val in kfold.split(X, Y):\n",
    "        model = Sequential()\n",
    "        model.add(Dense(64, input_dim=12, activation=\"relu\"))\n",
    "        model.add(Dense(1))\n",
    "        model.compile(optimizer=\"rmsprop\", loss=\"mse\", metrics=[\"mae\"])\n",
    "        model.fit(X_train[train], Y[train], epochs=epochs, verbose=0)\n",
    "        mse_aux_value, mae_aux_value = model.evaluate(X_train[val], Y[val], verbose=0)\n",
    "        mse_vals.append(mse_aux_value)\n",
    "        mae_vals.append(mae_aux_value)\n",
    "\n",
    "    mse_val_value = np.mean(mse_vals)\n",
    "    mae_val_value = np.mean(mae_vals)\n",
    "\n",
    "    y_test_pred = model.predict(X_train[test])\n",
    "    mse_test_value, mae_test_value = model.evaluate(X_train[test], Y[test], verbose=0)\n",
    "\n",
    "    results['Epochs'].append(epochs)\n",
    "    results['Validation MSE'].append(mse_val_value)\n",
    "    results['Validation MAE'].append(mae_val_value)\n",
    "    results['Test MSE'].append(mse_test_value)\n",
    "    results['Test MAE'].append(mae_test_value)\n",
    "    results['Test R2'].append(r2_score(Y[test], y_test_pred))\n",
    "\n",
    "results_df = pd.DataFrame(results)\n",
    "print(results_df)"
   ]
  },
  {
   "cell_type": "markdown",
   "metadata": {},
   "source": [
    "- Parece que aumentar el número de épocas mejora el rendimiento del modelo en el conjunto de prueba, ya que el test MSE y el test MAE disminuyen, mientras que el test r^2 aumenta, lo que indica un mejor ajuste.\n",
    "- La métrica de validación no mejora tanto como la del test, pero tampoco muestra signos de sobreajuste grave. La diferencia entre validation MSE y test MSE es pequeña, lo cual es positivo.\n",
    "- Con 50 épocas, el Test r^2 alcanza 0.458, que es el mejor valor de la tabla. Un mayor r^2 significa que el modelo explica mejor la varianza de los datos."
   ]
  },
  {
   "cell_type": "code",
   "execution_count": 11,
   "metadata": {},
   "outputs": [
    {
     "name": "stderr",
     "output_type": "stream",
     "text": [
      "/home/miguel.garcialopez/DataScienceMaster/tecnicas_soft_computing_para_aprendizaje_optimizacion/.venv/lib/python3.10/site-packages/keras/src/layers/core/dense.py:87: UserWarning: Do not pass an `input_shape`/`input_dim` argument to a layer. When using Sequential models, prefer using an `Input(shape)` object as the first layer in the model instead.\n",
      "  super().__init__(activity_regularizer=activity_regularizer, **kwargs)\n"
     ]
    },
    {
     "name": "stdout",
     "output_type": "stream",
     "text": [
      "\u001b[1m41/41\u001b[0m \u001b[32m━━━━━━━━━━━━━━━━━━━━\u001b[0m\u001b[37m\u001b[0m \u001b[1m0s\u001b[0m 4ms/step\n",
      "Validation MSE: 0.52350\n",
      "Validation MAE: 0.55939\n",
      "Test MSE: 0.45089\n",
      "Test MAE: 0.52047\n"
     ]
    }
   ],
   "source": [
    "# Import `Sequential` from `keras.models`\n",
    "from keras import Sequential\n",
    "\n",
    "# Import `Dense` from `keras.layers`\n",
    "from keras.layers import Dense\n",
    "\n",
    "import numpy as np\n",
    "from sklearn.model_selection import StratifiedKFold\n",
    "\n",
    "\n",
    "seed = 7\n",
    "np.random.seed(seed)\n",
    "\n",
    "test = np.random.choice(\n",
    "    X_train.shape[0], size=int(X_train.shape[0] * 0.2), replace=False\n",
    ")\n",
    "mse_vals = []\n",
    "mae_vals = []\n",
    "\n",
    "kfold = StratifiedKFold(n_splits=5, shuffle=True, random_state=seed)\n",
    "for train, val in kfold.split(X, Y):\n",
    "    model = Sequential()\n",
    "    model.add(Dense(64, input_dim=12, activation=\"relu\"))\n",
    "    model.add(Dense(64, activation=\"relu\"))\n",
    "    model.add(Dense(1))\n",
    "    model.compile(optimizer=\"rmsprop\", loss=\"mse\", metrics=[\"mae\"])\n",
    "    model.fit(X_train[train], Y[train], epochs=10, verbose=0)\n",
    "    mse_aux_value, mae_aux_value = model.evaluate(X_train[val], Y[val], verbose=0)\n",
    "    mse_vals.append(mse_aux_value)\n",
    "    mae_vals.append(mae_aux_value)\n",
    "\n",
    "mse_val_value = np.mean(mse_vals)\n",
    "mae_val_value = np.mean(mae_vals)\n",
    "\n",
    "# En caso de haber guardado un modelo...\n",
    "y_test_pred = model.predict(X_train[test])\n",
    "mse_test_value, mae_test_value = model.evaluate(X_train[test], Y[test], verbose=0)\n",
    "\n",
    "print(f\"Validation MSE: {mse_val_value:.5f}\")\n",
    "print(f\"Validation MAE: {mae_val_value:.5f}\")\n",
    "print(f\"Test MSE: {mse_test_value:.5f}\")\n",
    "print(f\"Test MAE: {mae_test_value:.5f}\")\n"
   ]
  },
  {
   "cell_type": "markdown",
   "metadata": {},
   "source": [
    "# EJERCICIO\n",
    "- Agregar  más  capas.  Probemos  a  añadir  más  capas.  Realizar  la  ejecución  con  diferentes \n",
    "números de capas y construir una tabla con los resultados. Mantened por el momento el mismo \n",
    "número  de  neuronas,  ya  que  veremos  el  resultado  de  cambiar  el  número  de  las  neuronas \n",
    "posteriormente.  Construir  una  tabla  con  los  parámetros  y  métricas  utilizadas.  Comentad  los \n",
    "resultados y sacar conclusiones."
   ]
  },
  {
   "cell_type": "code",
   "execution_count": 22,
   "metadata": {},
   "outputs": [
    {
     "name": "stderr",
     "output_type": "stream",
     "text": [
      "/home/miguel.garcialopez/DataScienceMaster/tecnicas_soft_computing_para_aprendizaje_optimizacion/.venv/lib/python3.10/site-packages/keras/src/layers/core/dense.py:87: UserWarning: Do not pass an `input_shape`/`input_dim` argument to a layer. When using Sequential models, prefer using an `Input(shape)` object as the first layer in the model instead.\n",
      "  super().__init__(activity_regularizer=activity_regularizer, **kwargs)\n"
     ]
    },
    {
     "name": "stdout",
     "output_type": "stream",
     "text": [
      "\u001b[1m41/41\u001b[0m \u001b[32m━━━━━━━━━━━━━━━━━━━━\u001b[0m\u001b[37m\u001b[0m \u001b[1m0s\u001b[0m 2ms/step\n"
     ]
    },
    {
     "name": "stderr",
     "output_type": "stream",
     "text": [
      "/home/miguel.garcialopez/DataScienceMaster/tecnicas_soft_computing_para_aprendizaje_optimizacion/.venv/lib/python3.10/site-packages/keras/src/layers/core/dense.py:87: UserWarning: Do not pass an `input_shape`/`input_dim` argument to a layer. When using Sequential models, prefer using an `Input(shape)` object as the first layer in the model instead.\n",
      "  super().__init__(activity_regularizer=activity_regularizer, **kwargs)\n"
     ]
    },
    {
     "name": "stdout",
     "output_type": "stream",
     "text": [
      "\u001b[1m41/41\u001b[0m \u001b[32m━━━━━━━━━━━━━━━━━━━━\u001b[0m\u001b[37m\u001b[0m \u001b[1m0s\u001b[0m 3ms/step\n"
     ]
    },
    {
     "name": "stderr",
     "output_type": "stream",
     "text": [
      "/home/miguel.garcialopez/DataScienceMaster/tecnicas_soft_computing_para_aprendizaje_optimizacion/.venv/lib/python3.10/site-packages/keras/src/layers/core/dense.py:87: UserWarning: Do not pass an `input_shape`/`input_dim` argument to a layer. When using Sequential models, prefer using an `Input(shape)` object as the first layer in the model instead.\n",
      "  super().__init__(activity_regularizer=activity_regularizer, **kwargs)\n"
     ]
    },
    {
     "name": "stdout",
     "output_type": "stream",
     "text": [
      "\u001b[1m41/41\u001b[0m \u001b[32m━━━━━━━━━━━━━━━━━━━━\u001b[0m\u001b[37m\u001b[0m \u001b[1m0s\u001b[0m 3ms/step\n"
     ]
    },
    {
     "name": "stderr",
     "output_type": "stream",
     "text": [
      "/home/miguel.garcialopez/DataScienceMaster/tecnicas_soft_computing_para_aprendizaje_optimizacion/.venv/lib/python3.10/site-packages/keras/src/layers/core/dense.py:87: UserWarning: Do not pass an `input_shape`/`input_dim` argument to a layer. When using Sequential models, prefer using an `Input(shape)` object as the first layer in the model instead.\n",
      "  super().__init__(activity_regularizer=activity_regularizer, **kwargs)\n"
     ]
    },
    {
     "name": "stdout",
     "output_type": "stream",
     "text": [
      "\u001b[1m41/41\u001b[0m \u001b[32m━━━━━━━━━━━━━━━━━━━━\u001b[0m\u001b[37m\u001b[0m \u001b[1m0s\u001b[0m 4ms/step\n"
     ]
    },
    {
     "name": "stderr",
     "output_type": "stream",
     "text": [
      "/home/miguel.garcialopez/DataScienceMaster/tecnicas_soft_computing_para_aprendizaje_optimizacion/.venv/lib/python3.10/site-packages/keras/src/layers/core/dense.py:87: UserWarning: Do not pass an `input_shape`/`input_dim` argument to a layer. When using Sequential models, prefer using an `Input(shape)` object as the first layer in the model instead.\n",
      "  super().__init__(activity_regularizer=activity_regularizer, **kwargs)\n"
     ]
    },
    {
     "name": "stdout",
     "output_type": "stream",
     "text": [
      "\u001b[1m41/41\u001b[0m \u001b[32m━━━━━━━━━━━━━━━━━━━━\u001b[0m\u001b[37m\u001b[0m \u001b[1m0s\u001b[0m 4ms/step\n"
     ]
    },
    {
     "name": "stderr",
     "output_type": "stream",
     "text": [
      "/home/miguel.garcialopez/DataScienceMaster/tecnicas_soft_computing_para_aprendizaje_optimizacion/.venv/lib/python3.10/site-packages/keras/src/layers/core/dense.py:87: UserWarning: Do not pass an `input_shape`/`input_dim` argument to a layer. When using Sequential models, prefer using an `Input(shape)` object as the first layer in the model instead.\n",
      "  super().__init__(activity_regularizer=activity_regularizer, **kwargs)\n"
     ]
    },
    {
     "name": "stdout",
     "output_type": "stream",
     "text": [
      "\u001b[1m41/41\u001b[0m \u001b[32m━━━━━━━━━━━━━━━━━━━━\u001b[0m\u001b[37m\u001b[0m \u001b[1m0s\u001b[0m 5ms/step\n",
      "   Number of Layers  Validation MSE  Validation MAE  Test MSE  Test MAE  \\\n",
      "0                 1        0.474895        0.532796  0.432659  0.504267   \n",
      "1                 2        0.525497        0.561687  0.401468  0.500961   \n",
      "2                 5        0.509260        0.540851  0.270539  0.378916   \n",
      "3                 8        0.531897        0.544751  0.234210  0.339053   \n",
      "4                12        0.573669        0.552903  0.278311  0.358529   \n",
      "5                16        0.547608        0.540656  0.317467  0.432008   \n",
      "\n",
      "    Test R2  \n",
      "0  0.421489  \n",
      "1  0.463195  \n",
      "2  0.638261  \n",
      "3  0.686836  \n",
      "4  0.627869  \n",
      "5  0.575513  \n"
     ]
    }
   ],
   "source": [
    "layers_list = [1, 2, 5, 8, 12, 16]\n",
    "\n",
    "# Diccionario para almacenar los resultados\n",
    "results = {\n",
    "    'Number of Layers': [],\n",
    "    'Validation MSE': [],\n",
    "    'Validation MAE': [],\n",
    "    'Test MSE': [],\n",
    "    'Test MAE': [],\n",
    "    'Test R2': []\n",
    "}\n",
    "\n",
    "for n_layers in layers_list:\n",
    "    mse_vals = []\n",
    "    mae_vals = []\n",
    "\n",
    "    kfold = StratifiedKFold(n_splits=5, shuffle=True, random_state=seed)\n",
    "    for train, val in kfold.split(X, Y):\n",
    "        model = Sequential()\n",
    "        for i in range(n_layers):\n",
    "            model.add(Dense(64, input_dim=12, activation=\"relu\"))\n",
    "        model.add(Dense(1))\n",
    "        model.compile(optimizer=\"rmsprop\", loss=\"mse\", metrics=[\"mae\"])\n",
    "        model.fit(X_train[train], Y[train], epochs=epochs, verbose=0)\n",
    "        mse_aux_value, mae_aux_value = model.evaluate(X_train[val], Y[val], verbose=0)\n",
    "        mse_vals.append(mse_aux_value)\n",
    "        mae_vals.append(mae_aux_value)\n",
    "\n",
    "    mse_val_value = np.mean(mse_vals)\n",
    "    mae_val_value = np.mean(mae_vals)\n",
    "\n",
    "    y_test_pred = model.predict(X_train[test])\n",
    "    mse_test_value, mae_test_value = model.evaluate(X_train[test], Y[test], verbose=0)\n",
    "\n",
    "    results['Number of Layers'].append(n_layers)\n",
    "    results['Validation MSE'].append(mse_val_value)\n",
    "    results['Validation MAE'].append(mae_val_value)\n",
    "    results['Test MSE'].append(mse_test_value)\n",
    "    results['Test MAE'].append(mae_test_value)\n",
    "    results['Test R2'].append(r2_score(Y[test], y_test_pred))\n",
    "\n",
    "results_df = pd.DataFrame(results)\n",
    "print(results_df)"
   ]
  },
  {
   "cell_type": "markdown",
   "metadata": {},
   "source": [
    "- Parece que aumentando el números de capas el modelo es capaz de mejorar bastante, ya que el MSE de test es cada vez mejor, con saltos de mejora bastante grandes. En cuanto al r^2 también mejora sustancialmente con respecto a los modelos con menos capas. Aunque se llega a un límite en el que parece que mayor número de capas provoca overfitting.\n",
    "- Vamos a visualizar la tendencia usando gráficas y ploteando tanto r^2 como MSE de test.\n",
    "- (IMPORTANTE): No se debe guiar la elección del modelo a través de la iterativa mejora del resultado de test, NO SIRVE PARA ESO Y SE ESTÁ REALIZANDO DATA SNOOPING. Para este caso se realizan simples comparativas, en otro caso se debería mirar validación para la mejora iterativa del modelo."
   ]
  },
  {
   "cell_type": "code",
   "execution_count": 23,
   "metadata": {},
   "outputs": [
    {
     "data": {
      "image/png": "[encoded data removed]",
      "text/plain": [
       "<Figure size 1000x500 with 2 Axes>"
      ]
     },
     "metadata": {},
     "output_type": "display_data"
    }
   ],
   "source": [
    "import matplotlib.pyplot as plt\n",
    "\n",
    "plt.figure(figsize=(10, 5))\n",
    "plt.subplot(1, 2, 1)\n",
    "plt.plot(results_df['Number of Layers'], results_df['Test MSE'], marker='o', linestyle='-', color='b', label='Test MSE')\n",
    "plt.xlabel('Number of Layers')\n",
    "plt.ylabel('Mean Squared Error (MSE)')\n",
    "plt.title('Test MSE vs. Number of Layers')\n",
    "plt.grid(True)\n",
    "plt.legend()\n",
    "\n",
    "plt.subplot(1, 2, 2)\n",
    "plt.plot(results_df['Number of Layers'], results_df['Test R2'], marker='o', linestyle='-', color='r', label='Test R²')\n",
    "plt.xlabel('Number of Layers')\n",
    "plt.ylabel('R² Score')\n",
    "plt.title('Test R² vs. Number of Layers')\n",
    "plt.grid(True)\n",
    "plt.legend()\n",
    "\n",
    "plt.tight_layout()\n",
    "plt.show()"
   ]
  },
  {
   "cell_type": "markdown",
   "metadata": {},
   "source": [
    "- Parece que un modelo con 8 capas es mejor en este problema, es el codo o pico donde el rendimiento es mejor en test (téngase siempre en cuenta lo explicado sobre data snooping, este caso es didáctico y no se guían las acciones de modelado por medio de mirar test)."
   ]
  },
  {
   "cell_type": "code",
   "execution_count": 12,
   "metadata": {},
   "outputs": [
    {
     "name": "stderr",
     "output_type": "stream",
     "text": [
      "/home/miguel.garcialopez/DataScienceMaster/tecnicas_soft_computing_para_aprendizaje_optimizacion/.venv/lib/python3.10/site-packages/keras/src/layers/core/dense.py:87: UserWarning: Do not pass an `input_shape`/`input_dim` argument to a layer. When using Sequential models, prefer using an `Input(shape)` object as the first layer in the model instead.\n",
      "  super().__init__(activity_regularizer=activity_regularizer, **kwargs)\n"
     ]
    },
    {
     "name": "stdout",
     "output_type": "stream",
     "text": [
      "\u001b[1m41/41\u001b[0m \u001b[32m━━━━━━━━━━━━━━━━━━━━\u001b[0m\u001b[37m\u001b[0m \u001b[1m0s\u001b[0m 2ms/step\n",
      "Validation MSE: 0.50072\n",
      "Validation MAE: 0.54922\n",
      "Test MSE: 0.46749\n",
      "Test MAE: 0.53150\n"
     ]
    }
   ],
   "source": [
    "# Import `Sequential` from `keras.models`\n",
    "from keras import Sequential\n",
    "\n",
    "# Import `Dense` from `keras.layers`\n",
    "from keras.layers import Dense\n",
    "\n",
    "import numpy as np\n",
    "from sklearn.model_selection import StratifiedKFold\n",
    "\n",
    "\n",
    "seed = 7\n",
    "np.random.seed(seed)\n",
    "\n",
    "test = np.random.choice(\n",
    "    X_train.shape[0], size=int(X_train.shape[0] * 0.2), replace=False\n",
    ")\n",
    "mse_vals = []\n",
    "mae_vals = []\n",
    "\n",
    "kfold = StratifiedKFold(n_splits=5, shuffle=True, random_state=seed)\n",
    "for train, val in kfold.split(X, Y):\n",
    "    model = Sequential()\n",
    "    model.add(Dense(128, input_dim=12, activation=\"relu\"))\n",
    "    model.add(Dense(1))\n",
    "    model.compile(optimizer=\"rmsprop\", loss=\"mse\", metrics=[\"mae\"])\n",
    "    model.fit(X_train[train], Y[train], epochs=10, verbose=0)\n",
    "    mse_aux_value, mae_aux_value = model.evaluate(X_train[val], Y[val], verbose=0)\n",
    "    mse_vals.append(mse_aux_value)\n",
    "    mae_vals.append(mae_aux_value)\n",
    "\n",
    "mse_val_value = np.mean(mse_vals)\n",
    "mae_val_value = np.mean(mae_vals)\n",
    "\n",
    "# En caso de haber guardado un modelo...\n",
    "y_test_pred = model.predict(X_train[test])\n",
    "mse_test_value, mae_test_value = model.evaluate(X_train[test], Y[test], verbose=0)\n",
    "\n",
    "print(f\"Validation MSE: {mse_val_value:.5f}\")\n",
    "print(f\"Validation MAE: {mae_val_value:.5f}\")\n",
    "print(f\"Test MSE: {mse_test_value:.5f}\")\n",
    "print(f\"Test MAE: {mae_test_value:.5f}\")\n"
   ]
  },
  {
   "cell_type": "markdown",
   "metadata": {},
   "source": [
    "# EJERCICIO\n",
    "- Agregar más unidades ocultas. Partiendo de la configuración de una única capa y \n",
    "posteriormente de varias capas, probad con diferente número de neuronas. Construir una tabla \n",
    "que recoja tanto los parámetros utilizados, como las métricas y resultados. Comentad los \n",
    "resultados y sacar conclusiones."
   ]
  },
  {
   "cell_type": "code",
   "execution_count": 24,
   "metadata": {},
   "outputs": [
    {
     "name": "stderr",
     "output_type": "stream",
     "text": [
      "/home/miguel.garcialopez/DataScienceMaster/tecnicas_soft_computing_para_aprendizaje_optimizacion/.venv/lib/python3.10/site-packages/keras/src/layers/core/dense.py:87: UserWarning: Do not pass an `input_shape`/`input_dim` argument to a layer. When using Sequential models, prefer using an `Input(shape)` object as the first layer in the model instead.\n",
      "  super().__init__(activity_regularizer=activity_regularizer, **kwargs)\n"
     ]
    },
    {
     "name": "stdout",
     "output_type": "stream",
     "text": [
      "\u001b[1m41/41\u001b[0m \u001b[32m━━━━━━━━━━━━━━━━━━━━\u001b[0m\u001b[37m\u001b[0m \u001b[1m0s\u001b[0m 2ms/step\n"
     ]
    },
    {
     "name": "stderr",
     "output_type": "stream",
     "text": [
      "/home/miguel.garcialopez/DataScienceMaster/tecnicas_soft_computing_para_aprendizaje_optimizacion/.venv/lib/python3.10/site-packages/keras/src/layers/core/dense.py:87: UserWarning: Do not pass an `input_shape`/`input_dim` argument to a layer. When using Sequential models, prefer using an `Input(shape)` object as the first layer in the model instead.\n",
      "  super().__init__(activity_regularizer=activity_regularizer, **kwargs)\n"
     ]
    },
    {
     "name": "stdout",
     "output_type": "stream",
     "text": [
      "\u001b[1m41/41\u001b[0m \u001b[32m━━━━━━━━━━━━━━━━━━━━\u001b[0m\u001b[37m\u001b[0m \u001b[1m0s\u001b[0m 2ms/step\n"
     ]
    },
    {
     "name": "stderr",
     "output_type": "stream",
     "text": [
      "/home/miguel.garcialopez/DataScienceMaster/tecnicas_soft_computing_para_aprendizaje_optimizacion/.venv/lib/python3.10/site-packages/keras/src/layers/core/dense.py:87: UserWarning: Do not pass an `input_shape`/`input_dim` argument to a layer. When using Sequential models, prefer using an `Input(shape)` object as the first layer in the model instead.\n",
      "  super().__init__(activity_regularizer=activity_regularizer, **kwargs)\n"
     ]
    },
    {
     "name": "stdout",
     "output_type": "stream",
     "text": [
      "\u001b[1m41/41\u001b[0m \u001b[32m━━━━━━━━━━━━━━━━━━━━\u001b[0m\u001b[37m\u001b[0m \u001b[1m0s\u001b[0m 3ms/step\n"
     ]
    },
    {
     "name": "stderr",
     "output_type": "stream",
     "text": [
      "/home/miguel.garcialopez/DataScienceMaster/tecnicas_soft_computing_para_aprendizaje_optimizacion/.venv/lib/python3.10/site-packages/keras/src/layers/core/dense.py:87: UserWarning: Do not pass an `input_shape`/`input_dim` argument to a layer. When using Sequential models, prefer using an `Input(shape)` object as the first layer in the model instead.\n",
      "  super().__init__(activity_regularizer=activity_regularizer, **kwargs)\n"
     ]
    },
    {
     "name": "stdout",
     "output_type": "stream",
     "text": [
      "\u001b[1m41/41\u001b[0m \u001b[32m━━━━━━━━━━━━━━━━━━━━\u001b[0m\u001b[37m\u001b[0m \u001b[1m0s\u001b[0m 3ms/step\n"
     ]
    },
    {
     "name": "stderr",
     "output_type": "stream",
     "text": [
      "/home/miguel.garcialopez/DataScienceMaster/tecnicas_soft_computing_para_aprendizaje_optimizacion/.venv/lib/python3.10/site-packages/keras/src/layers/core/dense.py:87: UserWarning: Do not pass an `input_shape`/`input_dim` argument to a layer. When using Sequential models, prefer using an `Input(shape)` object as the first layer in the model instead.\n",
      "  super().__init__(activity_regularizer=activity_regularizer, **kwargs)\n"
     ]
    },
    {
     "name": "stdout",
     "output_type": "stream",
     "text": [
      "\u001b[1m41/41\u001b[0m \u001b[32m━━━━━━━━━━━━━━━━━━━━\u001b[0m\u001b[37m\u001b[0m \u001b[1m0s\u001b[0m 3ms/step\n"
     ]
    },
    {
     "name": "stderr",
     "output_type": "stream",
     "text": [
      "/home/miguel.garcialopez/DataScienceMaster/tecnicas_soft_computing_para_aprendizaje_optimizacion/.venv/lib/python3.10/site-packages/keras/src/layers/core/dense.py:87: UserWarning: Do not pass an `input_shape`/`input_dim` argument to a layer. When using Sequential models, prefer using an `Input(shape)` object as the first layer in the model instead.\n",
      "  super().__init__(activity_regularizer=activity_regularizer, **kwargs)\n"
     ]
    },
    {
     "name": "stdout",
     "output_type": "stream",
     "text": [
      "\u001b[1m41/41\u001b[0m \u001b[32m━━━━━━━━━━━━━━━━━━━━\u001b[0m\u001b[37m\u001b[0m \u001b[1m0s\u001b[0m 3ms/step\n",
      "   Number of Neurons  Validation MSE  Validation MAE  Test MSE  Test MAE  \\\n",
      "0                 64        0.480944        0.536453  0.426018  0.503209   \n",
      "1                128        0.476268        0.534070  0.415258  0.489816   \n",
      "2                256        0.496865        0.548628  0.408188  0.494924   \n",
      "3                512        0.511764        0.554327  0.462939  0.531229   \n",
      "4               1024        0.524345        0.561168  0.423276  0.501236   \n",
      "5               2048        0.534723        0.569297  0.399460  0.503390   \n",
      "\n",
      "    Test R2  \n",
      "0  0.430369  \n",
      "1  0.444756  \n",
      "2  0.454209  \n",
      "3  0.381002  \n",
      "4  0.434035  \n",
      "5  0.465880  \n"
     ]
    }
   ],
   "source": [
    "neuron_list = [64, 128, 256, 512, 1024, 2048]\n",
    "\n",
    "# Diccionario para almacenar los resultados\n",
    "results = {\n",
    "    'Number of Neurons': [],\n",
    "    'Validation MSE': [],\n",
    "    'Validation MAE': [],\n",
    "    'Test MSE': [],\n",
    "    'Test MAE': [],\n",
    "    'Test R2': []\n",
    "}\n",
    "\n",
    "for n_neurons in neuron_list:\n",
    "    mse_vals = []\n",
    "    mae_vals = []\n",
    "\n",
    "    kfold = StratifiedKFold(n_splits=5, shuffle=True, random_state=seed)\n",
    "    for train, val in kfold.split(X, Y):\n",
    "        model = Sequential()\n",
    "        model.add(Dense(n_neurons, input_dim=12, activation=\"relu\"))\n",
    "        model.add(Dense(1))\n",
    "        model.compile(optimizer=\"rmsprop\", loss=\"mse\", metrics=[\"mae\"])\n",
    "        model.fit(X_train[train], Y[train], epochs=epochs, verbose=0)\n",
    "        mse_aux_value, mae_aux_value = model.evaluate(X_train[val], Y[val], verbose=0)\n",
    "        mse_vals.append(mse_aux_value)\n",
    "        mae_vals.append(mae_aux_value)\n",
    "\n",
    "    mse_val_value = np.mean(mse_vals)\n",
    "    mae_val_value = np.mean(mae_vals)\n",
    "\n",
    "    y_test_pred = model.predict(X_train[test])\n",
    "    mse_test_value, mae_test_value = model.evaluate(X_train[test], Y[test], verbose=0)\n",
    "\n",
    "    results['Number of Neurons'].append(n_neurons)\n",
    "    results['Validation MSE'].append(mse_val_value)\n",
    "    results['Validation MAE'].append(mae_val_value)\n",
    "    results['Test MSE'].append(mse_test_value)\n",
    "    results['Test MAE'].append(mae_test_value)\n",
    "    results['Test R2'].append(r2_score(Y[test], y_test_pred))\n",
    "\n",
    "results_df = pd.DataFrame(results)\n",
    "print(results_df)"
   ]
  },
  {
   "cell_type": "code",
   "execution_count": 25,
   "metadata": {},
   "outputs": [
    {
     "data": {
      "image/png": "[encoded data removed]",
      "text/plain": [
       "<Figure size 1000x500 with 2 Axes>"
      ]
     },
     "metadata": {},
     "output_type": "display_data"
    }
   ],
   "source": [
    "import matplotlib.pyplot as plt\n",
    "\n",
    "plt.figure(figsize=(10, 5))\n",
    "plt.subplot(1, 2, 1)\n",
    "plt.plot(results_df['Number of Neurons'], results_df['Test MSE'], marker='o', linestyle='-', color='b', label='Test MSE')\n",
    "plt.xlabel('Number of Neurons')\n",
    "plt.ylabel('Mean Squared Error (MSE)')\n",
    "plt.title('Test MSE vs. Number of Neurons')\n",
    "plt.grid(True)\n",
    "plt.legend()\n",
    "\n",
    "plt.subplot(1, 2, 2)\n",
    "plt.plot(results_df['Number of Neurons'], results_df['Test R2'], marker='o', linestyle='-', color='r', label='Test R²')\n",
    "plt.xlabel('Number of Neurons')\n",
    "plt.ylabel('R² Score')\n",
    "plt.title('Test R² vs. Number of Neurons')\n",
    "plt.grid(True)\n",
    "plt.legend()\n",
    "\n",
    "plt.tight_layout()\n",
    "plt.show()"
   ]
  },
  {
   "cell_type": "markdown",
   "metadata": {},
   "source": [
    "- Mayor número de neuronas también parece mejorar las métricas, pero en este caso vemos como las métricas de validación claramente van empeorando con mayor número de neuronas. El salto de mejora en test es ínfimo teniendo en cuenta que se ha aumentado en considerable medida la complejidad del modelo."
   ]
  },
  {
   "cell_type": "markdown",
   "metadata": {},
   "source": [
    "# EJERCICIO\n",
    "- Usar el menor número de neuronas posible en una red neuronal tiene varias ventajas. En primer lugar, ayuda a evitar el sobreajuste, ya que una red con demasiadas neuronas puede memorizar los datos de entrenamiento en lugar de aprender patrones generalizables, lo que resulta en un buen rendimiento en el conjunto de entrenamiento pero un rendimiento pobre en el conjunto de prueba o validación. \n",
    "- Además, reduce el costo computacional, dado que más neuronas implican más parámetros que deben ser calculados y almacenados, lo que incrementa el tiempo de entrenamiento y los requisitos de memoria, lo que puede ser un problema en aplicaciones en tiempo real o con hardware limitado. \n",
    "- También disminuye la necesidad de datos, ya que una red más grande requiere más datos para entrenar de manera efectiva, mientras que una red pequeña es menos propensa a sobreajustarse cuando los datos son limitados. \n",
    "- Cuando el modelo tarda demasiado tiempo en entrenarse en comparación a la mejora obtenida, se podría considerar que un mayor número de neuronas no es necesario, además que el rendimiento en el conjunto de validación pueda empezar a degradarse es un indicativo."
   ]
  },
  {
   "cell_type": "markdown",
   "metadata": {},
   "source": [
    "Usar el menor número de neuronas posible en una red neuronal tiene varias ventajas. En primer lugar, ayuda a evitar el sobreajuste, ya que una red con demasiadas neuronas puede memorizar los datos de entrenamiento en lugar de aprender patrones generalizables, lo que resulta en un buen rendimiento en el conjunto de entrenamiento pero un rendimiento pobre en el conjunto de prueba o validación. Además, reduce el costo computacional, dado que más neuronas implican más parámetros que deben ser calculados y almacenados, lo que incrementa el tiempo de entrenamiento y los requisitos de memoria, lo que puede ser un problema en aplicaciones en tiempo real o con hardware limitado. También disminuye la necesidad de datos, ya que una red más grande requiere más datos para entrenar de manera efectiva, mientras que una red pequeña es menos propensa a sobreajustarse cuando los datos son limitados. Además, las redes más pequeñas son más fáciles de interpretar y analizar, lo cual es crucial en aplicaciones donde la transparencia es importante, como en medicina o finanzas. Por último, una red más pequeña actúa como una forma de regularización implícita, limitando la capacidad del modelo para aprender patrones complejos y potencialmente irrelevantes en los datos."
   ]
  },
  {
   "cell_type": "code",
   "execution_count": 13,
   "metadata": {},
   "outputs": [
    {
     "name": "stderr",
     "output_type": "stream",
     "text": [
      "/home/miguel.garcialopez/DataScienceMaster/tecnicas_soft_computing_para_aprendizaje_optimizacion/.venv/lib/python3.10/site-packages/keras/src/layers/core/dense.py:87: UserWarning: Do not pass an `input_shape`/`input_dim` argument to a layer. When using Sequential models, prefer using an `Input(shape)` object as the first layer in the model instead.\n",
      "  super().__init__(activity_regularizer=activity_regularizer, **kwargs)\n"
     ]
    },
    {
     "name": "stdout",
     "output_type": "stream",
     "text": [
      "\u001b[1m41/41\u001b[0m \u001b[32m━━━━━━━━━━━━━━━━━━━━\u001b[0m\u001b[37m\u001b[0m \u001b[1m0s\u001b[0m 2ms/step\n",
      "Validation MSE: 0.50236\n",
      "Validation MAE: 0.54813\n",
      "Test MSE: 0.44116\n",
      "Test MAE: 0.50757\n"
     ]
    }
   ],
   "source": [
    "# Import `Sequential` from `keras.models`\n",
    "from keras import Sequential\n",
    "\n",
    "# Import `Dense` from `keras.layers`\n",
    "from keras.layers import Dense\n",
    "\n",
    "import numpy as np\n",
    "from sklearn.model_selection import StratifiedKFold\n",
    "\n",
    "\n",
    "from keras.optimizers import RMSprop\n",
    "\n",
    "\n",
    "rmsprop = RMSprop(learning_rate=0.0001)\n",
    "seed = 7\n",
    "np.random.seed(seed)\n",
    "\n",
    "test = np.random.choice(\n",
    "    X_train.shape[0], size=int(X_train.shape[0] * 0.2), replace=False\n",
    ")\n",
    "mse_vals = []\n",
    "mae_vals = []\n",
    "\n",
    "kfold = StratifiedKFold(n_splits=5, shuffle=True, random_state=seed)\n",
    "for train, val in kfold.split(X, Y):\n",
    "    model = Sequential()\n",
    "    model.add(Dense(128, input_dim=12, activation=\"relu\"))\n",
    "    model.add(Dense(1))\n",
    "    model.compile(optimizer=\"rmsprop\", loss=\"mse\", metrics=[\"mae\"])\n",
    "    model.fit(X_train[train], Y[train], epochs=10, verbose=0)\n",
    "    mse_aux_value, mae_aux_value = model.evaluate(X_train[val], Y[val], verbose=0)\n",
    "    mse_vals.append(mse_aux_value)\n",
    "    mae_vals.append(mae_aux_value)\n",
    "\n",
    "mse_val_value = np.mean(mse_vals)\n",
    "mae_val_value = np.mean(mae_vals)\n",
    "\n",
    "# En caso de haber guardado un modelo...\n",
    "y_test_pred = model.predict(X_train[test])\n",
    "mse_test_value, mae_test_value = model.evaluate(X_train[test], Y[test], verbose=0)\n",
    "\n",
    "print(f\"Validation MSE: {mse_val_value:.5f}\")\n",
    "print(f\"Validation MAE: {mae_val_value:.5f}\")\n",
    "print(f\"Test MSE: {mse_test_value:.5f}\")\n",
    "print(f\"Test MAE: {mae_test_value:.5f}\")\n"
   ]
  },
  {
   "cell_type": "code",
   "execution_count": 14,
   "metadata": {},
   "outputs": [
    {
     "name": "stderr",
     "output_type": "stream",
     "text": [
      "/home/miguel.garcialopez/DataScienceMaster/tecnicas_soft_computing_para_aprendizaje_optimizacion/.venv/lib/python3.10/site-packages/keras/src/layers/core/dense.py:87: UserWarning: Do not pass an `input_shape`/`input_dim` argument to a layer. When using Sequential models, prefer using an `Input(shape)` object as the first layer in the model instead.\n",
      "  super().__init__(activity_regularizer=activity_regularizer, **kwargs)\n"
     ]
    },
    {
     "name": "stdout",
     "output_type": "stream",
     "text": [
      "\u001b[1m41/41\u001b[0m \u001b[32m━━━━━━━━━━━━━━━━━━━━\u001b[0m\u001b[37m\u001b[0m \u001b[1m0s\u001b[0m 2ms/step\n",
      "Validation MSE: 0.50122\n",
      "Validation MAE: 0.54952\n",
      "Test MSE: 0.48917\n",
      "Test MAE: 0.53788\n"
     ]
    }
   ],
   "source": [
    "# Import `Sequential` from `keras.models`\n",
    "from keras import Sequential\n",
    "\n",
    "# Import `Dense` from `keras.layers`\n",
    "from keras.layers import Dense\n",
    "\n",
    "import numpy as np\n",
    "from sklearn.model_selection import StratifiedKFold\n",
    "\n",
    "from keras.optimizers import SGD, RMSprop\n",
    "\n",
    "\n",
    "sgd = SGD(learning_rate=0.1)\n",
    "seed = 7\n",
    "np.random.seed(seed)\n",
    "\n",
    "\n",
    "test = np.random.choice(\n",
    "    X_train.shape[0], size=int(X_train.shape[0] * 0.2), replace=False\n",
    ")\n",
    "mse_vals = []\n",
    "mae_vals = []\n",
    "\n",
    "kfold = StratifiedKFold(n_splits=5, shuffle=True, random_state=seed)\n",
    "for train, val in kfold.split(X, Y):\n",
    "    model = Sequential()\n",
    "    model.add(Dense(128, input_dim=12, activation=\"relu\"))\n",
    "    model.add(Dense(1))\n",
    "    model.compile(optimizer=\"rmsprop\", loss=\"mse\", metrics=[\"mae\"])\n",
    "    model.fit(X_train[train], Y[train], epochs=10, verbose=0)\n",
    "    mse_aux_value, mae_aux_value = model.evaluate(X_train[val], Y[val], verbose=0)\n",
    "    mse_vals.append(mse_aux_value)\n",
    "    mae_vals.append(mae_aux_value)\n",
    "\n",
    "mse_val_value = np.mean(mse_vals)\n",
    "mae_val_value = np.mean(mae_vals)\n",
    "\n",
    "# En caso de haber guardado un modelo...\n",
    "y_test_pred = model.predict(X_train[test])\n",
    "mse_test_value, mae_test_value = model.evaluate(X_train[test], Y[test], verbose=0)\n",
    "\n",
    "print(f\"Validation MSE: {mse_val_value:.5f}\")\n",
    "print(f\"Validation MAE: {mae_val_value:.5f}\")\n",
    "print(f\"Test MSE: {mse_test_value:.5f}\")\n",
    "print(f\"Test MAE: {mae_test_value:.5f}\")\n"
   ]
  },
  {
   "cell_type": "code",
   "execution_count": 15,
   "metadata": {},
   "outputs": [
    {
     "name": "stderr",
     "output_type": "stream",
     "text": [
      "/home/miguel.garcialopez/DataScienceMaster/tecnicas_soft_computing_para_aprendizaje_optimizacion/.venv/lib/python3.10/site-packages/keras/src/layers/core/dense.py:87: UserWarning: Do not pass an `input_shape`/`input_dim` argument to a layer. When using Sequential models, prefer using an `Input(shape)` object as the first layer in the model instead.\n",
      "  super().__init__(activity_regularizer=activity_regularizer, **kwargs)\n"
     ]
    },
    {
     "name": "stdout",
     "output_type": "stream",
     "text": [
      "\u001b[1m41/41\u001b[0m \u001b[32m━━━━━━━━━━━━━━━━━━━━\u001b[0m\u001b[37m\u001b[0m \u001b[1m0s\u001b[0m 2ms/step\n",
      "\u001b[1m41/41\u001b[0m \u001b[32m━━━━━━━━━━━━━━━━━━━━\u001b[0m\u001b[37m\u001b[0m \u001b[1m0s\u001b[0m 909us/step\n",
      "\u001b[1m41/41\u001b[0m \u001b[32m━━━━━━━━━━━━━━━━━━━━\u001b[0m\u001b[37m\u001b[0m \u001b[1m0s\u001b[0m 910us/step\n",
      "\u001b[1m41/41\u001b[0m \u001b[32m━━━━━━━━━━━━━━━━━━━━\u001b[0m\u001b[37m\u001b[0m \u001b[1m0s\u001b[0m 843us/step\n",
      "\u001b[1m41/41\u001b[0m \u001b[32m━━━━━━━━━━━━━━━━━━━━\u001b[0m\u001b[37m\u001b[0m \u001b[1m0s\u001b[0m 876us/step\n",
      "0.5235698819160461\n"
     ]
    }
   ],
   "source": [
    "from keras.optimizers import SGD, RMSprop\n",
    "\n",
    "\n",
    "sgd = SGD(learning_rate=0.1)\n",
    "seed = 7\n",
    "np.random.seed(seed)\n",
    "\n",
    "kfold = StratifiedKFold(n_splits=5, shuffle=True, random_state=seed)\n",
    "for train, test in kfold.split(X, Y):\n",
    "    model2 = Sequential()\n",
    "    model2.add(Dense(128, input_dim=12, activation=\"relu\"))\n",
    "    model2.add(Dense(1))\n",
    "    model2.compile(optimizer=\"sgd\", loss=\"mse\", metrics=[\"mae\"])\n",
    "    model2.fit(X_train[train], Y[train], epochs=10, verbose=0)\n",
    "    y_pred = model.predict(X_train[test])\n",
    "\n",
    "\n",
    "mse_value, mae_value = model.evaluate(X_train[test], Y[test], verbose=0)\n",
    "\n",
    "print(mse_value)"
   ]
  },
  {
   "cell_type": "code",
   "execution_count": 16,
   "metadata": {},
   "outputs": [
    {
     "name": "stderr",
     "output_type": "stream",
     "text": [
      "/home/miguel.garcialopez/DataScienceMaster/tecnicas_soft_computing_para_aprendizaje_optimizacion/.venv/lib/python3.10/site-packages/keras/src/layers/core/dense.py:87: UserWarning: Do not pass an `input_shape`/`input_dim` argument to a layer. When using Sequential models, prefer using an `Input(shape)` object as the first layer in the model instead.\n",
      "  super().__init__(activity_regularizer=activity_regularizer, **kwargs)\n"
     ]
    },
    {
     "name": "stdout",
     "output_type": "stream",
     "text": [
      "\u001b[1m41/41\u001b[0m \u001b[32m━━━━━━━━━━━━━━━━━━━━\u001b[0m\u001b[37m\u001b[0m \u001b[1m0s\u001b[0m 2ms/step\n",
      "\u001b[1m41/41\u001b[0m \u001b[32m━━━━━━━━━━━━━━━━━━━━\u001b[0m\u001b[37m\u001b[0m \u001b[1m0s\u001b[0m 2ms/step\n",
      "\u001b[1m41/41\u001b[0m \u001b[32m━━━━━━━━━━━━━━━━━━━━\u001b[0m\u001b[37m\u001b[0m \u001b[1m0s\u001b[0m 2ms/step\n",
      "\u001b[1m41/41\u001b[0m \u001b[32m━━━━━━━━━━━━━━━━━━━━\u001b[0m\u001b[37m\u001b[0m \u001b[1m0s\u001b[0m 2ms/step\n",
      "\u001b[1m41/41\u001b[0m \u001b[32m━━━━━━━━━━━━━━━━━━━━\u001b[0m\u001b[37m\u001b[0m \u001b[1m0s\u001b[0m 2ms/step\n",
      "0.5198273062705994\n"
     ]
    }
   ],
   "source": [
    "from keras.optimizers import SGD, RMSprop\n",
    "\n",
    "\n",
    "sgd = SGD(learning_rate=0.1)\n",
    "seed = 7\n",
    "np.random.seed(seed)\n",
    "\n",
    "kfold = StratifiedKFold(n_splits=5, shuffle=True, random_state=seed)\n",
    "for train, test in kfold.split(X, Y):\n",
    "    model = Sequential()\n",
    "    model.add(Dense(64, input_dim=12, activation=\"relu\"))\n",
    "    model.add(Dense(1))\n",
    "    model.compile(optimizer=\"sgd\", loss=\"mse\", metrics=[\"mae\"])\n",
    "    model.fit(X_train[train], Y[train], epochs=10, verbose=0)\n",
    "    y_pred = model.predict(X_train[test])\n",
    "mse_value, mae_value = model.evaluate(X_train[test], Y[test], verbose=0)\n",
    "print(mse_value)"
   ]
  }
 ],
 "metadata": {
  "kernelspec": {
   "display_name": ".venv",
   "language": "python",
   "name": "python3"
  },
  "language_info": {
   "codemirror_mode": {
    "name": "ipython",
    "version": 3
   },
   "file_extension": ".py",
   "mimetype": "text/x-python",
   "name": "python",
   "nbconvert_exporter": "python",
   "pygments_lexer": "ipython3",
   "version": "3.10.16"
  }
 },
 "nbformat": 4,
 "nbformat_minor": 4
}
