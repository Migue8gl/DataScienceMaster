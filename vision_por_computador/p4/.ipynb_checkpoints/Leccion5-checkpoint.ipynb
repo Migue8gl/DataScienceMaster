{
 "cells": [
  {
   "cell_type": "markdown",
   "metadata": {},
   "source": [
    "\n",
    "<div style=\"line-height:2px;border: solid orange\">\n",
    "    <p>\n",
    "    <p style=\"color:blue;font-family:arial;text-align:right;font-size:20\"> Visión por Computador &nbsp;&nbsp;\n",
    "    <p style=\"color:blue;font-family:arial;text-align:right;font-size:16\"> Master en Ciencias de Datos e Ingeniería de Ordenadores   &nbsp;&nbsp;\n",
    "  <p style=\"color:blue;font-family:arial;text-align:right;font-size:16\"> Rosa Mª. Rodríguez Sánchez   &nbsp;&nbsp;\n",
    "    <p style=\"color:blue;font-family:arial;text-align:right;font-size:10\"> Dpto. Ciencias de la Computación e Inteligencia Artificial. &nbsp;&nbsp;  \n",
    "    <p style=\"color:blue;font-family:arial;text-align:right;font-size:10\"> ETSIIT. Universidad de Granada   &nbsp;&nbsp;\n",
    "        <p>\n",
    "</div>"
   ]
  },
  {
   "cell_type": "markdown",
   "metadata": {},
   "source": [
    "## Práctica 4 (Parte I) Filtrado Espacial. Aristas y Puntos Esquina"
   ]
  },
  {
   "cell_type": "markdown",
   "metadata": {},
   "source": [
    "### Objetivos\n",
    "En esta lección veremos como aplicar un filtro sobre una imagen con fines diferentes. Asi veremos:\n",
    "* La operación de convolución. Correlación\n",
    "* Suavizado \n",
    " * Ejemplos de filtros lineales \n",
    " * Ejemplos de filtros no lineales\n",
    "* Ruido. \n",
    "* Detección de fronteras. \n",
    "* Detección de puntos de esquina\n",
    "\n"
   ]
  },
  {
   "cell_type": "markdown",
   "metadata": {},
   "source": [
    "### La operación de convolución. Correlación\n",
    "La operación de correlación entre una imagen I(x,y) y un filtro o máscara K(i,j) se define como:\n",
    "$O(x,y)=\\sum_{i=-N}^{n=N}\\sum_{j=-M}^{m=M} I(x+i,y+j)K(i,j)$ siendo las dimensiones del filtro $2*N+1$ y $2*M+1$. En definitiva si $O(x,y)$ tiene un valor alto, este hecho indica que la  imagen I en el pixel (x,y) y entorno $2*N+1$ $2*M+1$ se parece mucho al filtro K. \n",
    "La operación de convolución es igual excepto que se define como:\n",
    "$O(x,y)=\\sum_{i=-N}^{n=N}\\sum_{j=-M}^{m=M} I(x-i,y-j)K(i,j)$.\n",
    "\n",
    "Cuando los filtros son simétricos la convolución es igual a la correlación.\n",
    "\n",
    "<img src=\"ej_corre.png\" width=60%>\n",
    "\n",
    "OpenCV tiene definido la función cv2.filter2D para convolucionar una imagen con un kernel. \n",
    "\n",
    "Para ellos vamos a crear un filtro media 5x5. Y a continuación vamos a convolucionar con este filtro.\n"
   ]
  },
  {
   "cell_type": "code",
   "execution_count": null,
   "metadata": {},
   "outputs": [],
   "source": [
    "import numpy as np\n",
    "import cv2\n",
    "from matplotlib import pyplot as plt\n",
    "\n",
    "filtro=np.ones((5,5),dtype='float32')*1.0/25.0\n",
    "I=cv2.imread('dalmata.jpg',0)\n",
    "#I=cv2.imread('dalmata.jpg') #se filtra la imagen en color\n",
    "#el valor -1 indica que If tendrá el mismo tipo base que I\n",
    "If=cv2.filter2D(I,-1,filtro)\n",
    "plt.figure(figsize=(10,10))\n",
    "plt.subplot(1,2,1),plt.imshow(I,'gray'),plt.title('Original')\n",
    "plt.subplot(1,2,2),plt.imshow(If,'gray'),plt.title('Filtrada')\n"
   ]
  },
  {
   "cell_type": "markdown",
   "metadata": {},
   "source": [
    "Podemos indicar diferentes formas de tratar los bordes:\n",
    "\n",
    " * BORDER_REPLICATE:     aaaaaa|abcdefgh|hhhhhhh \n",
    " * BORDER_REFLECT:       fedcba|abcdefgh|hgfedcb\n",
    " * BORDER_REFLECT_101:   gfedcb|abcdefgh|gfedcba\n",
    " * BORDER_WRAP:          cdefgh|abcdefgh|abcdefg\n",
    " * BORDER_CONSTANT:      iiiiii|abcdefgh|iiiiiii siendo i=0 cuando usamos imfilter 'i'\n"
   ]
  },
  {
   "cell_type": "code",
   "execution_count": null,
   "metadata": {},
   "outputs": [],
   "source": [
    "import numpy as np\n",
    "import cv2\n",
    "from matplotlib import pyplot as plt\n",
    "M=np.ones((3,3),dtype=np.float32)\n",
    "filtro=np.ones((3,3),dtype='float32')\n",
    "print(filtro)\n",
    "Ifcte=cv2.filter2D(M,-1,filtro,borderType=cv2.BORDER_CONSTANT)\n",
    "print(\" Constante\\n\", Ifcte)\n",
    "\n",
    "Ifcte=cv2.filter2D(M,-1,filtro,borderType=cv2.BORDER_REFLECT)\n",
    "print(\" Reflect \\n\", Ifcte)\n",
    "\n",
    "\n",
    "Ifcte=cv2.filter2D(M,-1,filtro,borderType=cv2.BORDER_REPLICATE)\n",
    "print(\" Replicate \\n\", Ifcte)\n"
   ]
  },
  {
   "cell_type": "code",
   "execution_count": null,
   "metadata": {},
   "outputs": [],
   "source": [
    "import numpy as np\n",
    "import cv2\n",
    "from matplotlib import pyplot as plt\n",
    "\n",
    "filtro=np.ones((5,5),dtype='float32')*1.0/25.0\n",
    "I=cv2.imread('fantastic_village.jpg')\n",
    "\n",
    "#el valor -1 indica que Ifcte tiene el mismo tipo base\n",
    "Ifcte=cv2.filter2D(I,-1,filtro,borderType=cv2.BORDER_CONSTANT)\n",
    "Irep=cv2.filter2D(I,-1,filtro,borderType=cv2.BORDER_REPLICATE)\n",
    "Irefl=cv2.filter2D(I,-1,filtro,borderType=cv2.BORDER_REFLECT)\n",
    "plt.figure(figsize=(20,10))\n",
    "plt.subplot(2,2,1),plt.imshow(cv2.cvtColor(I, cv2.COLOR_BGR2RGB)),plt.title('Original')\n",
    "plt.subplot(2,2,2),plt.imshow(cv2.cvtColor(Ifcte, cv2.COLOR_BGR2RGB)),plt.title('Filtrada Borde Constante')\n",
    "plt.subplot(2,2,3),plt.imshow(cv2.cvtColor(Irep, cv2.COLOR_BGR2RGB)),plt.title('Filtrada Borde Repetido')\n",
    "plt.subplot(2,2,4),plt.imshow(cv2.cvtColor(Irefl, cv2.COLOR_BGR2RGB)),plt.title('Filtrada Borde Reflejado')\n",
    "\n",
    "#Podemos ahora coger un trozo de la esquina superior\n",
    "crop1=Ifcte[0:4,0:I.shape[1]];\n",
    "\n",
    "crop2=Irep[0:4,0:I.shape[1]];\n",
    "crop3=Irefl[0:4,0:I.shape[1]];\n",
    "\n",
    "#crop1=cv2.resize(crop1,(128,128))\n",
    "plt.figure(figsize=(10,6))\n",
    "plt.subplot(321)\n",
    "plt.imshow(crop1,'gray')\n",
    "print(crop1[0,0])\n",
    "plt.subplot(322)\n",
    "#plt.hist(crop1.ravel(),256,[0,256]); \n",
    "plt.plot(range(I.shape[1]),crop1[0,:])\n",
    "plt.subplot(323)\n",
    "plt.imshow(crop2,'gray')\n",
    "print(crop2[0,0])\n",
    "plt.subplot(324)\n",
    "#plt.hist(crop2.ravel(),256,[0,256]); \n",
    "plt.plot(range(I.shape[1]),crop2[0,:])\n",
    "plt.subplot(325)\n",
    "plt.imshow(crop3,'gray')\n",
    "print(crop3[0,0])\n",
    "plt.subplot(326)\n",
    "plt.plot(range(I.shape[1]),crop2[0,:]) "
   ]
  },
  {
   "cell_type": "markdown",
   "metadata": {},
   "source": [
    "### Suavizado de una imagen\n",
    "EL emborramiento de una imagen se logra con filtros denominados paso-bajo. Estos filtros por un lado ayuda a eliminar ruido pero favorece el desenfoque de la imagen, ya que elimina lo que se conoce como contenido de altas frecuencias o detalle. Vamos a ver diferentes filtros para suavizar una imagen.\n",
    "#### Promedio\n",
    "Cuando filtramos con un filtro promedio estamos obteniendo el valor medio de los vecinos y del valor de un pixel donde se centra el filtro. Por ejemplo "
   ]
  },
  {
   "cell_type": "code",
   "execution_count": null,
   "metadata": {},
   "outputs": [],
   "source": [
    "import numpy as np\n",
    "import cv2\n",
    "from matplotlib import pyplot as plt\n",
    "\n",
    "filtro=np.ones((3,3),dtype='float32')*1.0/9.0\n",
    "I=cv2.imread('dalmata.jpg')\n",
    "#el valor -1 indica que Iout tiene el mismo tipo base\n",
    "Iout=cv2.filter2D(I,-1,filtro,(cv2.BORDER_CONSTANT,0))\n",
    "plt.figure(figsize=(10,10))\n",
    "plt.subplot(1,2,1),plt.imshow(cv2.cvtColor(I, cv2.COLOR_BGR2RGB)),plt.title('Original')\n",
    "plt.subplot(1,2,2),plt.imshow(cv2.cvtColor(Iout, cv2.COLOR_BGR2RGB)),plt.title('Suavizada Promedio 3x3')"
   ]
  },
  {
   "cell_type": "markdown",
   "metadata": {},
   "source": [
    "Podemos crear un filtro promedio que no sea cuadrado. De forma que en una dirección se puede obtener mayor desenfoque que en la otra dirección"
   ]
  },
  {
   "cell_type": "code",
   "execution_count": null,
   "metadata": {},
   "outputs": [],
   "source": [
    "import numpy as np\n",
    "import cv2\n",
    "from matplotlib import pyplot as plt\n",
    "\n",
    "filtro=np.ones((3,9),dtype='float32')*1.0/27.0\n",
    "I=cv2.imread('dalmata.jpg',0)\n",
    "#el valor -1 indica que Ifcte tiene el mismo tipo base\n",
    "Iout=cv2.filter2D(I,-1,filtro,(cv2.BORDER_CONSTANT,0))\n",
    "plt.figure(figsize=(12,12))\n",
    "plt.subplot(1,2,1),plt.imshow(I,'gray'),plt.title('Original')\n",
    "plt.subplot(1,2,2),plt.imshow(Iout,'gray'),plt.title('Suavizada Promedio 3x9')"
   ]
  },
  {
   "cell_type": "markdown",
   "metadata": {},
   "source": [
    "Podemos también obtener un filtro promedio con forma de disco "
   ]
  },
  {
   "cell_type": "code",
   "execution_count": null,
   "metadata": {},
   "outputs": [],
   "source": [
    "import numpy as np\n",
    "import cv2\n",
    "from matplotlib import pyplot as plt\n",
    "radio=3\n",
    "\n",
    "filtro=np.ones((radio*2+1,radio*2+1),dtype='float32')\n",
    "x = np.arange(-radio, radio+1, 1)\n",
    "y = np.arange(-radio, radio+1, 1)\n",
    "xx, yy = np.meshgrid(x, y ,sparse=True)\n",
    "z = np.sqrt(xx**2 + yy**2)\n",
    "disco=(z<=radio)*filtro\n",
    "factor=np.sum(disco)\n",
    "disco=disco/factor;\n",
    "\n",
    "plt.figure()\n",
    "h = plt.contourf(x,y,disco)\n",
    "I=cv2.imread('dalmata.jpg',0)\n",
    "Iout=cv2.filter2D(I,-1,disco)\n",
    "plt.figure()\n",
    "plt.imshow(Iout,'gray'),plt.title(\"Suavizada disco radio 3\")\n"
   ]
  },
  {
   "cell_type": "markdown",
   "metadata": {},
   "source": [
    "Podemos usar también la funcion cv2.blur para directamente convolucionar una imagen con un filtro promedio"
   ]
  },
  {
   "cell_type": "code",
   "execution_count": null,
   "metadata": {},
   "outputs": [],
   "source": [
    "import numpy as np\n",
    "import cv2\n",
    "from matplotlib import pyplot as plt\n",
    "#Leemos la imagen en color\n",
    "img = cv2.imread('dalmata.jpg',0)\n",
    "blur = cv2.blur(img,(5,5))\n",
    "plt.figure(figsize=(12,8))\n",
    "plt.subplot(121),plt.imshow(img,'gray'),plt.title('Original')\n",
    "plt.xticks([]), plt.yticks([])\n",
    "plt.subplot(122),plt.imshow(blur,'gray'),plt.title('Suavizada')\n",
    "plt.xticks([]), plt.yticks([])\n"
   ]
  },
  {
   "cell_type": "markdown",
   "metadata": {},
   "source": [
    "#### Gausiana\n",
    "Se usa un kernel gausiano para suavizar la imagen, para ello usamos la función **cv2.GaussianBlur()**. Se debe especificar el ancho y alto del nucleo que debe ser positivo e impar. Tambien podemos especificar la desviación en la dirección X e Y del filtro gausiano, sigmaX=$\\sigma_{X}$ y sigmaY=$\\sigma_{Y}$ respectivamente. Si solamente se especifica sigmaX, sigmaY se supone que toma el mismo valor. Cuando a ambos le damos el valor 0 entonces se deducen a partir del tamaño del kernel. El filtro gausiano es muy efectivo para eliminar ruido gausiano en una imagen.\n"
   ]
  },
  {
   "cell_type": "code",
   "execution_count": null,
   "metadata": {},
   "outputs": [],
   "source": [
    "import numpy as np\n",
    "import cv2\n",
    "from matplotlib import pyplot as plt\n",
    "#Leemos la imagen en color\n",
    "img = cv2.imread('dalmata.jpg',0)\n",
    "#sigma_x y sigma_y se obtiene a partir de las dimensiones por eso el 0\n",
    "blur = cv2.GaussianBlur(img,(5,5),0)\n",
    "plt.figure(figsize=(12,8))\n",
    "plt.subplot(121),plt.imshow(img,'gray'),plt.title('Original')\n",
    "plt.xticks([]), plt.yticks([])\n",
    "plt.subplot(122),plt.imshow(blur,'gray'),plt.title('Suavizada Gausiana')\n",
    "plt.xticks([]), plt.yticks([])"
   ]
  },
  {
   "cell_type": "markdown",
   "metadata": {},
   "source": [
    "Podemos obtener el filtro gausiano de la siguiente forma"
   ]
  },
  {
   "cell_type": "code",
   "execution_count": null,
   "metadata": {},
   "outputs": [],
   "source": [
    "#filtro 5x5 con sigma 1\n",
    "xdir_gauss = cv2.getGaussianKernel(5, 1.0) \n",
    "kernel = np.multiply(xdir_gauss.T, xdir_gauss)\n",
    "print(\"Kernel: \\n\", kernel)\n",
    "from matplotlib import pyplot as plt\n",
    "plt.figure();\n",
    "plt.plot(xdir_gauss)\n",
    "plt.figure();\n",
    "plt.contourf(kernel)\n",
    "Iout=cv2.filter2D(I,-1,kernel)\n",
    "#o haciendolo separable sería \n",
    "#Iout=cv2.filter2D(I,-1,xdir_gauss)\n",
    "#Iout=cv2.filter2D(Iout,-1,xdir_gauss.T)\n",
    "plt.figure();\n",
    "plt.imshow(Iout,'gray')"
   ]
  },
  {
   "cell_type": "markdown",
   "metadata": {},
   "source": [
    "#### Filtro Mediana\n",
    "La función cv2.medianBlur()  obtiene la mediana de los pixeles en la que superpone el kernel de forma que el punto central se susituye por el valor mediana. Este filtro es muy efectivo para eliminar ruido del tipo sal y pimienta. El tamaño del kernel debe ser impar y positivo.\n"
   ]
  },
  {
   "cell_type": "code",
   "execution_count": null,
   "metadata": {},
   "outputs": [],
   "source": [
    "import numpy as np\n",
    "import cv2\n",
    "from matplotlib import pyplot as plt\n",
    "#Leemos la imagen en color\n",
    "img = cv2.imread('dalmata.jpg',0)\n",
    "blur = cv2.medianBlur(img,5)\n",
    "plt.figure(figsize=(12,8))\n",
    "plt.subplot(121),plt.imshow(img,'gray'),plt.title('Original')\n",
    "plt.xticks([]), plt.yticks([])\n",
    "plt.subplot(122),plt.imshow(blur,'gray'),plt.title('Suavizada Mediana')\n",
    "plt.xticks([]), plt.yticks([])"
   ]
  },
  {
   "cell_type": "markdown",
   "metadata": {},
   "source": [
    "#### Filtrado BIlateral\n",
    "Los filtros de suavizado que hemos visto emborrona las aristas. Sin embargo el filtro bilateral cv2.bilateralFilter(), no tiene este efecto colateral y sigue siendo muy efectivo para elimnar ruido mientras que preserva las aristas.\n",
    "El filtro bilateral usa un filtro gausiano multiplicado por otro filtro gausiano que afecta a las intensidades de los pixeles. Este segundo filtro lo que hace es que aquellos pixeles en el entorno del pixel central que no se diferencie mucho a este formaran parte del suavizado. \n",
    "Los parámetros que le damos son:\n",
    "* img- La imagen a filtrar\n",
    "* d − un entero representando el tamaño del entorno\n",
    "* sigmaColor − entero representando el sigma para suavizar\n",
    "* sigmaSpace − entero representando el sigma de la segunda gausiana que mira la diferencia en intensidades"
   ]
  },
  {
   "cell_type": "code",
   "execution_count": null,
   "metadata": {},
   "outputs": [],
   "source": [
    "import numpy as np\n",
    "import cv2\n",
    "from matplotlib import pyplot as plt\n",
    "#Leemos la imagen en color\n",
    "img = cv2.imread('dalmata.jpg',0)\n",
    "blur = cv2.bilateralFilter(img,9,50,75)\n",
    "plt.figure(figsize=(12,8))\n",
    "plt.subplot(121),plt.imshow(img,'gray'),plt.title('Original')\n",
    "plt.xticks([]), plt.yticks([])\n",
    "plt.subplot(122),plt.imshow(blur,'gray'),plt.title('Suavizada Bilateral')\n",
    "plt.xticks([]), plt.yticks([])"
   ]
  },
  {
   "cell_type": "markdown",
   "metadata": {},
   "source": [
    "### Eliminación de Ruido con filtros de Suavizado"
   ]
  },
  {
   "cell_type": "code",
   "execution_count": null,
   "metadata": {},
   "outputs": [],
   "source": [
    "#Inserta ruido s&p en una imagen monobanda\n",
    "def addsalt_pepper(img, SNR):\n",
    "    img_ = img.copy()\n",
    "    h, w = img_.shape\n",
    "    #snr numero de pixeles que se quedaran sin ruido\n",
    "    mask = np.random.choice((0, 1, 2), size=(h, w), p=[SNR, (1 - SNR) / 2., (1 - SNR) / 2.])\n",
    "    img_[mask == 1] = 255 # sal\n",
    "    img_[mask == 2] = 0 #  pimienta\n",
    "    return img_\n"
   ]
  },
  {
   "cell_type": "code",
   "execution_count": null,
   "metadata": {},
   "outputs": [],
   "source": [
    "#Generamos ruido uniforme \n",
    "import numpy as np\n",
    "import cv2\n",
    "from matplotlib import pyplot as plt\n",
    "img = cv2.imread('miki_pluto.jpg',0)\n",
    "uniform_noise = np.zeros((img.shape[0], img.shape[1]),dtype=np.uint8)\n",
    "gaussian_noise = np.zeros((img.shape[0], img.shape[1]),dtype=np.uint8)\n",
    "cv2.randu(uniform_noise,0,255)\n",
    "cv2.randn(gaussian_noise,200,50)\n",
    "ret,impulse_noise = cv2.threshold(uniform_noise,200,255,cv2.THRESH_BINARY)\n",
    "\n",
    "#Añadimos el ruido\n",
    "img_nu=cv2.addWeighted(img,1,uniform_noise,0.5,1)\n",
    "img_ng=cv2.addWeighted(img,1,gaussian_noise,0.5,1)\n",
    "img_ni=cv2.addWeighted(img,1,impulse_noise,0.5,1)\n",
    "img_sp=addsalt_pepper(img, 0.9)\n",
    "plt.figure()\n",
    "plt.imshow(img,'gray'),plt.title('Original')\n",
    "plt.figure(figsize=(10,10))\n",
    "plt.subplot(121)\n",
    "plt.imshow(uniform_noise,'gray'),plt.title(\"Ruido Uniforme\")\n",
    "plt.subplot(122)\n",
    "plt.imshow(img_nu,'gray')\n",
    "plt.figure(figsize=(10,10))\n",
    "plt.subplot(121)\n",
    "plt.imshow(gaussian_noise,'gray'),plt.title(\"Ruido Gaussiano\")\n",
    "plt.subplot(122)\n",
    "plt.imshow(img_ng,'gray')\n",
    "plt.figure(figsize=(10,10))\n",
    "plt.subplot(121)\n",
    "plt.imshow(impulse_noise,'gray'),plt.title(\"Ruido Impulso\")\n",
    "plt.subplot(122)\n",
    "plt.imshow(img_ni,'gray')\n",
    "plt.figure(figsize=(5,5))\n",
    "plt.imshow(img_sp,'gray')\n"
   ]
  },
  {
   "cell_type": "markdown",
   "metadata": {},
   "source": [
    "Ahora analizamos para cada imagen con ruido (de un tipo de ruido) el comportamiento que tienen los filtros de suavizado."
   ]
  },
  {
   "cell_type": "code",
   "execution_count": null,
   "metadata": {},
   "outputs": [],
   "source": [
    "#Ruido uniforme. Como mejora con los filtros de suavizado\n",
    "rmedia_nu= cv2.blur(img_nu,(5,5))\n",
    "rgauss_nu=cv2.cv2.GaussianBlur(img_nu,(5,5),0)\n",
    "rmedian_nu = cv2.medianBlur(img_nu,5)\n",
    "rbila_nu = cv2.bilateralFilter(img_nu,9,50,75)\n",
    "plt.figure(figsize=(12,12))\n",
    "plt.subplot(221)\n",
    "plt.imshow(rmedia_nu,'gray'),plt.title(\"Media\")\n",
    "plt.subplot(222)\n",
    "plt.imshow(rgauss_nu,'gray'),plt.title(\"Gaussian\")\n",
    "plt.subplot(223)\n",
    "plt.imshow(rmedian_nu,'gray'),plt.title(\"Mediana\")\n",
    "plt.subplot(224)\n",
    "plt.imshow(rbila_nu,'gray'),plt.title(\"Bilateral\")\n"
   ]
  },
  {
   "cell_type": "code",
   "execution_count": null,
   "metadata": {},
   "outputs": [],
   "source": [
    "#Ruido gausiano. Como mejora con los filtros de suavizado\n",
    "rmedia_ng= cv2.blur(img_ng,(5,5))\n",
    "rgauss_ng=cv2.cv2.GaussianBlur(img_ng,(5,5),0)\n",
    "rmedian_ng = cv2.medianBlur(img_ng,5)\n",
    "rbila_ng = cv2.bilateralFilter(img_ng,9,50,75)\n",
    "plt.figure(figsize=(15,15))\n",
    "plt.subplot(221)\n",
    "plt.imshow(rmedia_ng,'gray'),plt.title(\"Media\")\n",
    "plt.subplot(222)\n",
    "plt.imshow(rgauss_ng,'gray'),plt.title(\"Gaussian\")\n",
    "plt.subplot(223)\n",
    "plt.imshow(rmedian_ng,'gray'),plt.title(\"Mediana\")\n",
    "plt.subplot(224)\n",
    "plt.imshow(rbila_ng,'gray'),plt.title(\"Bilateral\")"
   ]
  },
  {
   "cell_type": "code",
   "execution_count": null,
   "metadata": {},
   "outputs": [],
   "source": [
    "#Ruido impulso Como mejora con los filtros de suavizado\n",
    "rmedia_ni= cv2.blur(img_ni,(5,5))\n",
    "rgauss_ni=cv2.cv2.GaussianBlur(img_ni,(5,5),0)\n",
    "rmedian_ni = cv2.medianBlur(img_ni,5)\n",
    "rbila_ni = cv2.bilateralFilter(img_ni,9,50,75)\n",
    "plt.figure(figsize=(15,15))\n",
    "plt.subplot(221)\n",
    "plt.imshow(rmedia_ni,'gray'),plt.title(\"Media\")\n",
    "plt.subplot(222)\n",
    "plt.imshow(rgauss_ni,'gray'),plt.title(\"Gaussian\")\n",
    "plt.subplot(223)\n",
    "plt.imshow(rmedian_ni,'gray'),plt.title(\"Mediana\")\n",
    "plt.subplot(224)\n",
    "plt.imshow(rbila_ni,'gray'),plt.title(\"Bilateral\")"
   ]
  },
  {
   "cell_type": "code",
   "execution_count": null,
   "metadata": {},
   "outputs": [],
   "source": [
    "#Ruido sal y pimienta Como mejora con los filtros de suavizado\n",
    "rmedia_sp= cv2.blur(img_sp,(5,5))\n",
    "rgauss_sp=cv2.cv2.GaussianBlur(img_sp,(5,5),0)\n",
    "rmedian_sp = cv2.medianBlur(img_sp,5)\n",
    "rbila_sp = cv2.bilateralFilter(img_sp,9,50,75)\n",
    "plt.figure(figsize=(15,15))\n",
    "plt.subplot(221)\n",
    "plt.imshow(rmedia_sp,'gray'),plt.title(\"Media\")\n",
    "plt.subplot(222)\n",
    "plt.imshow(rgauss_sp,'gray'),plt.title(\"Gaussian\")\n",
    "plt.subplot(223)\n",
    "plt.imshow(rmedian_sp,'gray'),plt.title(\"Mediana\")\n",
    "plt.subplot(224)\n",
    "plt.imshow(rbila_sp,'gray'),plt.title(\"Bilateral\")"
   ]
  },
  {
   "cell_type": "markdown",
   "metadata": {},
   "source": [
    "### Desenfoque de Movimiento \n",
    "El desenfoque por movimiento ocurre en diferentes situaciones. Una de ellas es cuando tomamos un foto mientras que nos estamos moviendo en un dirección. Por ejemplo cuando hacemos una foto desde un coche en movimiento. \n",
    "El siguiente código permite simular este efecto de desenforque.\n"
   ]
  },
  {
   "cell_type": "code",
   "execution_count": null,
   "metadata": {},
   "outputs": [],
   "source": [
    "import numpy as np\n",
    "import cv2\n",
    "from matplotlib import pyplot as plt\n",
    "img = cv2.imread('miki_pluto.jpg')\n",
    "img=cv2.cvtColor(img,cv2.COLOR_BGR2RGB)\n",
    "#creamos el filtro de desenfoque\n",
    "dim=15\n",
    "vertical = np.zeros((dim,dim),dtype=\"uint8\")\n",
    "vertical[int(dim/2),:]=np.ones((dim),dtype=\"uint8\")\n",
    "vertical=vertical/dim\n",
    "output=cv2.filter2D(img,-1,vertical)\n",
    "plt.figure(figsize=(12,12))\n",
    "plt.subplot(1,2,1),plt.imshow(img),plt.title(\"Original\")\n",
    "plt.subplot(1,2,2),plt.imshow(output),plt.title(\"Desenfocada\")\n",
    "\n",
    "\n"
   ]
  },
  {
   "cell_type": "markdown",
   "metadata": {},
   "source": [
    "### Detección de Aristas o Bordes\n",
    "La detección de aristas es una de las operaciones fundamentales cuando realizamos procesamiento de imágenes. Este proceso ayuda a reducir la cantidad de datos (pixeles) para realizar el procesamiento y mantener la estructura de la imagen. Distinguimos diferentes formas de obtener las aristas:\n",
    "* Basados en la primera derivada\n",
    "* Basados en la segunda derivada.\n"
   ]
  },
  {
   "cell_type": "code",
   "execution_count": null,
   "metadata": {},
   "outputs": [],
   "source": [
    "#Basados en le primera derivada\n",
    "import numpy as np\n",
    "import cv2\n",
    "from matplotlib import pyplot as plt\n",
    "img = cv2.imread('miki_pluto.jpg',0)\n",
    "img_g= cv2.GaussianBlur(img,(3,3),0)\n",
    "\n",
    "sobely = cv2.Sobel(img_g,cv2.CV_8U,1,0,ksize=3)  # y\n",
    "sobelx = cv2.Sobel(img_g,cv2.CV_8U,0,1,ksize=3)  # x\n",
    "sobel=sobelx+sobely\n",
    "\n",
    "#prewitt\n",
    "kernelx = np.array([[1,1,1],[0,0,0],[-1,-1,-1]])\n",
    "kernely = np.array([[-1,0,1],[-1,0,1],[-1,0,1]])\n",
    "prewittx = cv2.filter2D(img_g, -1, kernelx)\n",
    "prewitty = cv2.filter2D(img_g, -1, kernely)\n",
    "prewitt=prewittx+prewitty\n",
    "\n",
    "plt.figure(figsize=(16,20))\n",
    "plt.subplot(3,2,1),plt.imshow(img,'gray')\n",
    "plt.title('Original'), plt.xticks([]), plt.yticks([])\n",
    "plt.subplot(3,3,4),plt.imshow(sobelx,'gray')\n",
    "plt.title('Sobel X'), plt.xticks([]), plt.yticks([])\n",
    "plt.subplot(3,3,5),plt.imshow(sobely,'gray')\n",
    "plt.title('Sobel Y'), plt.xticks([]), plt.yticks([])\n",
    "plt.subplot(3,3,6),plt.imshow(sobel,'gray')\n",
    "plt.title('Sobel X+Sobel Y'), plt.xticks([]), plt.yticks([])\n",
    "\n",
    "plt.subplot(3,3,7),plt.imshow(prewittx,'gray')\n",
    "plt.title('Prewitt X'), plt.xticks([]), plt.yticks([])\n",
    "plt.subplot(3,3,8),plt.imshow(prewitty,'gray')\n",
    "plt.title('Prewitt X'), plt.xticks([]), plt.yticks([])\n",
    "plt.subplot(3,3,9),plt.imshow(prewitt,'gray')\n",
    "plt.title('Prewitt X+Prewitt Y'), plt.xticks([]), plt.yticks([])"
   ]
  },
  {
   "cell_type": "code",
   "execution_count": null,
   "metadata": {},
   "outputs": [],
   "source": [
    "#Segunda derivada\n",
    "laplacian = cv2.Laplacian(img_g,cv2.CV_8U)\n",
    "plt.imshow(laplacian,'gray'),plt.title(\"Laplaciana\")"
   ]
  },
  {
   "cell_type": "markdown",
   "metadata": {},
   "source": [
    "**CANNY** El detector de aristas Canny es primera derivada. Existen diferentes implementaciones en cuanto al filtro usado. En la propuesta original de Canny penso en el  filtro primera derivada de una gausiana con el que ya esta evitando el ruido en la imagen. Pero en la práctica también se usa filtros más rápidos como Sobel.  Además tiene una fase de supresión no-máxima (para adelgazar las fronteras) e histeresis (un proceso de umbralización). Los parámetros del filtro son:\n",
    "* La imagen de entrada\n",
    "* minVal and maxVal: son los valores para establecer el proceso de umbralización basado en histérisis.\n",
    "* size el tamaño del filtro de Sobel ."
   ]
  },
  {
   "cell_type": "code",
   "execution_count": null,
   "metadata": {},
   "outputs": [],
   "source": [
    "img_canny = cv2.Canny(img_g,50,100,3)\n",
    "plt.imshow(img_canny,'gray'),plt.title(\"Canny\")"
   ]
  },
  {
   "cell_type": "markdown",
   "metadata": {},
   "source": [
    "### Otros filtros\n",
    "En primer lugar vamos a ver un filtro que permite aumentar la fuerza de las fronteras y mejorar los perfiles. Este se construye como el negativo de la Laplacina por un parámetro alpha."
   ]
  },
  {
   "cell_type": "code",
   "execution_count": null,
   "metadata": {},
   "outputs": [],
   "source": [
    "alfa=0.3\n",
    "h=np.array( [[-alfa,-alfa,-alfa],[-alfa,(8*alfa+1),-alfa],[-alfa,-alfa,-alfa]])\n",
    "img_sharp=cv2.filter2D(img,-1,h)\n",
    "i_canny=cv2.Canny(img_sharp,50,210)\n",
    "plt.figure(figsize=(12,12))\n",
    "plt.subplot(1,3,1)\n",
    "plt.imshow(img,\"gray\"),plt.title(\"Original\")\n",
    "plt.subplot(1,3,2)\n",
    "plt.imshow(img_sharp,'gray'),plt.title(\"Perfilada\")\n",
    "plt.subplot(1,3,3)\n",
    "plt.imshow(i_canny,'gray'),plt.title(\"Perfilada+Canny\")"
   ]
  },
  {
   "cell_type": "markdown",
   "metadata": {},
   "source": [
    "Otra forma de  perfilar es a la imagen restarle el resultado de convolucionar con una Laplaciana"
   ]
  },
  {
   "cell_type": "code",
   "execution_count": null,
   "metadata": {},
   "outputs": [],
   "source": [
    "alfa=0.3\n",
    "h=np.array( [[-alfa,-alfa,-alfa],[-alfa,8*alfa,-alfa],[-alfa,-alfa,-alfa]])\n",
    "img_lap=cv2.filter2D(img,-1,h)\n",
    "out=cv2.addWeighted(img,1,img_lap,-1,0)\n",
    "i_canny=cv2.Canny(out,50,220)\n",
    "plt.figure(figsize=(12,12))\n",
    "plt.subplot(1,3,1)\n",
    "plt.imshow(img,\"gray\"),plt.title(\"Original\")\n",
    "plt.subplot(1,3,2)\n",
    "plt.imshow(out,'gray'),plt.title(\"Perfilada\")\n",
    "plt.subplot(1,3,3)\n",
    "plt.imshow(i_canny,'gray'),plt.title(\"Perfilada+Canny\")"
   ]
  },
  {
   "cell_type": "markdown",
   "metadata": {},
   "source": [
    "Es importante tener en cuenta que este tipo de filtros aplicado a imágenes con desenfoque por movimiento aumentará el desenfoque. "
   ]
  },
  {
   "cell_type": "markdown",
   "metadata": {},
   "source": [
    "### Detección de puntos esquina\n",
    "Los puntos esquina en una imagen son regiones que tienen un fuerte diferencial en intensidad en todas las direcciones. Uno de los algoritmos que opencv tiene implementado es el detector de esquinas de Harris. \n",
    "OpenCV tiene implementada la función cv2.cornerHarris(), en la que los argumentos que necesita son:\n",
    "* img - imagen de entrada, debe ser de niveles de gris y de tipo float32 \n",
    "* blockSize - es el tamaño del entorno a considerar la detección de esquinas. \n",
    "* ksize - tamaño del filtro sobel que se aplica para ver los cambios de intensidades. \n",
    "* k - factor que  se integra en la formulación del detector de Harris.  Conforme sea más grande habrá menos puntos esquina.  \n",
    "\n"
   ]
  },
  {
   "cell_type": "code",
   "execution_count": null,
   "metadata": {},
   "outputs": [],
   "source": [
    "import cv2\n",
    "import numpy as np\n",
    "from matplotlib import pyplot as plt\n",
    "\n",
    "filename = 'chessboard.jpg'\n",
    "img = cv2.imread(filename)\n",
    "gray = cv2.cvtColor(img,cv2.COLOR_BGR2GRAY)\n",
    "img=cv2.cvtColor(img,cv2.COLOR_BGR2RGB)\n",
    "gray = np.float32(gray)\n",
    "dst = cv2.cornerHarris(gray,2,3,0.04)\n",
    "\n",
    "\n",
    "#resultado se dilata para marcar mejor las esquinas \n",
    "dst = cv2.dilate(dst,None)\n",
    "\n",
    "#Umbralización es un factor que depende del tipo de imagen\n",
    "img[dst>0.01*dst.max()]=[255,0,0]\n",
    "plt.figure(figsize=(12,12))\n",
    "plt.imshow(img)\n"
   ]
  },
  {
   "cell_type": "markdown",
   "metadata": {},
   "source": [
    "### Ejercicios\n",
    "<ol>\n",
    "    <li> Utiliza el filtrado para buscar formas en una imagen. Para este ejercicio puedes usar las siguientes imágenes:\n",
    "<ol>\n",
    "    <li>formas.png, estrella.png, ovalo.png, cuadrado.png, cuadrado2.png,cuadrado3.png\n",
    "   <li>texto.png, letra_i.png, letra_k.png, letra_m.png, letra_o.png, letra_p.png\n",
    "   </ol>\n",
    "    <li>Compara el resultado que producen el filtrado gaussiano y el filtro de mediana sobre las imágenes disney_r1.png ... disney_r5.png.    \n",
    "    <li>Analizar la imagen distorsion1.jpg y aplicar diferentes técnicas para mejorarla\n",
    "(eliminación del ruido). En concreto, prueba con suavizados gaussianos y con un suavizado bilateral.\n",
    "    <li>Obtener sobre la imagen formas.png las esquinas usando el método de Harris. Implementar el algoritmo de Moravec y aplicalo para obtener las esquinas de formas.png.    \n",
    "        \n",
    "        \n",
    "</ol>        "
   ]
  }
 ],
 "metadata": {
  "kernelspec": {
   "display_name": "Python 3",
   "language": "python",
   "name": "python3"
  },
  "language_info": {
   "codemirror_mode": {
    "name": "ipython",
    "version": 3
   },
   "file_extension": ".py",
   "mimetype": "text/x-python",
   "name": "python",
   "nbconvert_exporter": "python",
   "pygments_lexer": "ipython3",
   "version": "3.8.5"
  }
 },
 "nbformat": 4,
 "nbformat_minor": 4
}
