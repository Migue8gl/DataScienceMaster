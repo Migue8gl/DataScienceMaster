{
 "cells": [
  {
   "cell_type": "markdown",
   "metadata": {},
   "source": [
    "\n",
    "<div style=\"line-height:2px;border: solid orange\">\n",
    "    <p>\n",
    "    <p style=\"color:blue;font-family:arial;text-align:right;font-size:20\"> Visión por Computador &nbsp;&nbsp;\n",
    "    <p style=\"color:blue;font-family:arial;text-align:right;font-size:16\"> Master en Ciencias de Datos e Ingeniería de Ordenadores   &nbsp;&nbsp;\n",
    "  <p style=\"color:blue;font-family:arial;text-align:right;font-size:16\"> Rosa Mª. Rodríguez Sánchez   &nbsp;&nbsp;\n",
    "    <p style=\"color:blue;font-family:arial;text-align:right;font-size:10\"> Dpto. Ciencias de la Computación e Inteligencia Artificial. &nbsp;&nbsp;  \n",
    "    <p style=\"color:blue;font-family:arial;text-align:right;font-size:10\"> ETSIIT. Universidad de Granada   &nbsp;&nbsp;\n",
    "        <p>\n",
    "</div>"
   ]
  },
  {
   "cell_type": "markdown",
   "metadata": {},
   "source": [
    "## Práctica 4 (Parte II). Operaciones Morfológicas"
   ]
  },
  {
   "cell_type": "markdown",
   "metadata": {},
   "source": [
    "### Introducción\n",
    "Las transformacion morfológicas son operaciones que se realizan sobre imágenes binarias y se basan en la forma de la imagen. La operación viene determinada por lo que se conoce como elemento estructural. Todas las operaciones morfológicas se derivan de dos operaciones básicas: erosión y dilatación.  A partir de estas se derivan otras operaciones como la apertura, clausura, esqueleto,etc. \n"
   ]
  },
  {
   "cell_type": "markdown",
   "metadata": {},
   "source": [
    "### Erosión\n",
    "Esta operación lo que hacer es erosionar las fronteras del objeto en primer plano. Para ello el elemento estructural se desplaza a lo largo de la imagen. Si en la imagen de entrada aparece un 1 este será considerado si y solo sí todos los pixeles bajo el kernel están a 1, en otro caso se pone a cero.\n",
    "<img src=\"erosion_ani.gif\">\n",
    "\n",
    "El efecto es que los pixeles del objeto que están en la frontera son puestos a cero dependiendo del tamaño del kernel y la forma. \n",
    "Supongamos que nuestra imagen es la siguiente:\n",
    "<img src=\"img_j.png\">"
   ]
  },
  {
   "cell_type": "code",
   "execution_count": null,
   "metadata": {},
   "outputs": [],
   "source": [
    "import cv2\n",
    "import numpy as np\n",
    "from matplotlib import pyplot as plt\n",
    "img = cv2.imread('img_j.png',0)\n",
    "kernel = np.ones((5,5),np.uint8)\n",
    "print(kernel)\n",
    "erosion = cv2.erode(img,kernel,iterations = 1)\n",
    "plt.imshow(erosion,'gray'),plt.title(\"Erosión\")\n"
   ]
  },
  {
   "cell_type": "markdown",
   "metadata": {},
   "source": [
    "Si cambiamos el kernel la erosión cambia por ejemplo:"
   ]
  },
  {
   "cell_type": "code",
   "execution_count": null,
   "metadata": {},
   "outputs": [],
   "source": [
    "kernel1 = np.ones((1,5),np.uint8)\n",
    "kernel2= np.ones((5,1),np.uint8)\n",
    "print(\"Kernel1: \",kernel1)\n",
    "print(\"Kernel2: \",kernel2)\n",
    "erosion1 = cv2.erode(img,kernel1,iterations = 1)\n",
    "erosion2 = cv2.erode(img,kernel2,iterations = 1)\n",
    "plt.figure(figsize=(5,5))\n",
    "\n",
    "plt.subplot(1,2,1),plt.imshow(erosion1,'gray'),plt.title(\"Erosion1\")\n",
    "plt.subplot(1,2,2),plt.imshow(erosion2,\"gray\"),plt.title(\"Erosion2\")\n"
   ]
  },
  {
   "cell_type": "markdown",
   "metadata": {},
   "source": [
    "Sobre imágenes que no sean binarias, de niveles de gris, podemos aplicar la erosión. La idea es ahora que en la imagen resultantes se pone el valor mínimo de la imagen original en la que afecta el elemento estructural."
   ]
  },
  {
   "cell_type": "code",
   "execution_count": null,
   "metadata": {},
   "outputs": [],
   "source": [
    "import cv2\n",
    "import numpy as np\n",
    "from matplotlib import pyplot as plt\n",
    "img_gray = cv2.imread('miki_pluto.jpg',0)\n",
    "k = np.ones((1,5),np.uint8)\n",
    "img_g_erode=cv2.erode(img_gray,k,iterations=1) \n",
    "plt.figure(figsize=(10,8))\n",
    "plt.subplot(121),plt.imshow(img_gray,\"gray\"),plt.title(\"Original\")\n",
    "plt.subplot(122),plt.imshow(img_g_erode,\"gray\"),plt.title(\"Erosion\")\n"
   ]
  },
  {
   "cell_type": "markdown",
   "metadata": {},
   "source": [
    "### Dilatación\n",
    "La dilatación es justa la operación opuesta a la erosión. En la imagen de salida habrá un 1 si al menos un pixel bajo el elemento estructural es 1. Por lo tanto cuando el elemento estructural llega a la frontera de los objetos estas fronteras se extienden. \n",
    "Para eliminar ruido se puede combinar la operación de erosión y a continuación la operación de dilatación.\n",
    "De la misma forma que en la erosión, la dilatación del objeto depende de la forma del elemento estructural. \n",
    "<img src=\"dilatacion_ani.gif\">\n"
   ]
  },
  {
   "cell_type": "code",
   "execution_count": null,
   "metadata": {},
   "outputs": [],
   "source": [
    "kernel = np.ones((5,5),np.uint8)\n",
    "dilatacion = cv2.dilate(img,kernel,iterations = 1)\n",
    "plt.imshow(dilatacion,'gray'),plt.title(\"Dilatación\")"
   ]
  },
  {
   "cell_type": "markdown",
   "metadata": {},
   "source": [
    "Podemos obtener una falsa frontera si a la dilatación le restamos la propia imagen. Tambien se puede obtener una frontera interior si a la imagen original le restamos la erosion"
   ]
  },
  {
   "cell_type": "code",
   "execution_count": null,
   "metadata": {},
   "outputs": [],
   "source": [
    "f_ext=dilatacion -img\n",
    "f_int=img-erosion\n",
    "plt.figure(figsize=(8,8))\n",
    "plt.subplot(1,2,1),plt.imshow(f_ext,\"gray\"),plt.title(\"Frontera Exterior\")\n",
    "plt.subplot(1,2,2),plt.imshow(f_int,\"gray\"),plt.title(\"Frontera Interior\")"
   ]
  },
  {
   "cell_type": "markdown",
   "metadata": {},
   "source": [
    "Sobre imágenes no binarias también podemos obtener la dilatación. Así en la imagen resultante\n",
    "en un pixel se pone el máximo de la imagen de entrada de entre los pixeles que afecta el \n",
    "elemento estructural."
   ]
  },
  {
   "cell_type": "code",
   "execution_count": null,
   "metadata": {},
   "outputs": [],
   "source": [
    "import cv2\n",
    "import numpy as np\n",
    "from matplotlib import pyplot as plt\n",
    "img_gray = cv2.imread('miki_pluto.jpg',0)\n",
    "k = np.ones((1,5),np.uint8)\n",
    "img_g_dilate=cv2.dilate(img_gray,k,iterations=1) \n",
    "plt.figure(figsize=(10,8))\n",
    "plt.subplot(121),plt.imshow(img_gray,\"gray\"),plt.title(\"Original\")\n",
    "plt.subplot(122),plt.imshow(img_g_dilate,\"gray\"),plt.title(\"Dilatacion\")"
   ]
  },
  {
   "cell_type": "markdown",
   "metadata": {},
   "source": [
    "## Apertura\n",
    "Es la operación que surge de aplicar en primer lugar una erosión y a continuación una dilatación. Es una operación que puede ser útil para eliminar ruido. "
   ]
  },
  {
   "cell_type": "code",
   "execution_count": null,
   "metadata": {},
   "outputs": [],
   "source": [
    "def addsalt_pepper(img, SNR):\n",
    "    img_ = img.copy()\n",
    "    h, w = img_.shape\n",
    "    #snr numero de pixeles que se quedaran sin ruido\n",
    "    mask = np.random.choice((0, 1, 2), size=(h, w), p=[SNR, (1 - SNR) / 2., (1 - SNR) / 2.])\n",
    "    img_[mask == 1] = 255 # sal\n",
    "    img_[mask == 2] = 0 #  pimienta\n",
    "    return img_\n",
    "\n",
    "img = cv2.imread('img_j.png',0)\n",
    "img_s = addsalt_pepper(img,0.99)\n",
    "kernel = np.ones((1,3),np.uint8)\n",
    "opening = cv2.morphologyEx(img_s, cv2.MORPH_OPEN, kernel,iterations=1)\n",
    "plt.figure(figsize=(10,8))\n",
    "plt.subplot(121),plt.imshow(img_s,\"gray\"),plt.title(\"Original+Ruido SP\")\n",
    "plt.subplot(122),plt.imshow(opening,\"gray\"),plt.title(\"Apertura\")\n"
   ]
  },
  {
   "cell_type": "markdown",
   "metadata": {},
   "source": [
    "Otro ejemplo interesante resulta cuando tenemos dos regiones conectadas por un puente muy débil. La apertura obtendrá la separación de estas dos regiones."
   ]
  },
  {
   "cell_type": "code",
   "execution_count": null,
   "metadata": {},
   "outputs": [],
   "source": [
    "import cv2\n",
    "import numpy as np\n",
    "from matplotlib import pyplot as plt\n",
    "img=np.zeros((256,256),dtype='uint8')\n",
    "img= cv2.circle(img, (128,64),32 ,255,-1)\n",
    "img= cv2.circle(img, (128,192),32 ,255,-1)\n",
    "img=cv2.rectangle(img,(124,96),(128,160),255,-1)\n",
    "kernel = np.ones((1,6),np.uint8)\n",
    "opening = cv2.morphologyEx(img, cv2.MORPH_OPEN, kernel,iterations=1)\n",
    "plt.figure(figsize=(8,8))\n",
    "plt.subplot(1,2,1),plt.imshow(img,\"gray\"),plt.title(\"Original\")\n",
    "plt.subplot(1,2,2),plt.imshow(opening,\"gray\"),plt.title(\"Apertura\")\n",
    "  "
   ]
  },
  {
   "cell_type": "markdown",
   "metadata": {},
   "source": [
    "### Clausura\n",
    "Es la operación que surge por la concatenación de la dilatación y a continuación la erosión. Es una operación que resulta útil cuando pretendemos tapar agujeros. "
   ]
  },
  {
   "cell_type": "code",
   "execution_count": null,
   "metadata": {},
   "outputs": [],
   "source": [
    "import random\n",
    "import cv2\n",
    "import numpy as np\n",
    "from matplotlib import pyplot as plt\n",
    "img=np.zeros((256,256),dtype='uint8')\n",
    "img_black=np.ones((16,16),dtype='uint8')*255\n",
    "\n",
    "img= cv2.circle(img, (128,128),64 ,255,-1)\n",
    "\n",
    "img_black= cv2.circle(img_black, (8,8),2 ,0,-1)\n",
    "#Generamos posiciones aleatorias\n",
    "N=16;\n",
    "x1=128-64\n",
    "x2=128+64;\n",
    "y1=128-64\n",
    "y2=128+64\n",
    "for i in range(N):\n",
    "    x=random.randint(x1,x2)\n",
    "    y=random.randint(y1,y2)\n",
    "    if (np.sqrt((x-128)*(x-128)+(y-128)*(y-128))<50):\n",
    "        img[y-8:y+8,x-8:x+8]=img_black;\n",
    "\n",
    "kernel = np.ones((5,5),np.uint8)        \n",
    "closing = cv2.morphologyEx(img, cv2.MORPH_CLOSE, kernel)        \n",
    "plt.figure(figsize=(8,8))        \n",
    "plt.subplot(1,2,1),plt.imshow(img,'gray') ,plt.title(\"Original\")   \n",
    "plt.subplot(1,2,2),plt.imshow(closing,'gray') ,plt.title(\"Clausura\")   \n",
    "    "
   ]
  },
  {
   "cell_type": "markdown",
   "metadata": {},
   "source": [
    "### Gradiente Morfológico\n",
    "Es la diferencia entre la dilatacion y la erosión."
   ]
  },
  {
   "cell_type": "code",
   "execution_count": null,
   "metadata": {},
   "outputs": [],
   "source": [
    "img = cv2.imread('img_j.png',0)\n",
    "img_s = addsalt_pepper(img,0.99)\n",
    "kernel = np.ones((2,3),np.uint8)\n",
    "gradient = cv2.morphologyEx(img, cv2.MORPH_GRADIENT, kernel)\n",
    "plt.figure(figsize=(8,8))        \n",
    "plt.subplot(1,2,1),plt.imshow(img,'gray') ,plt.title(\"Original\")   \n",
    "plt.subplot(1,2,2),plt.imshow(gradient,'gray') ,plt.title(\"Mor. Gradiente\")   "
   ]
  },
  {
   "cell_type": "markdown",
   "metadata": {},
   "source": [
    "### Black Hat y Top Hat\n",
    "Black Hat es la diferencia entre la clausura y la imagen.\n",
    "Top hat es la diferencia la imagen y la apertura "
   ]
  },
  {
   "cell_type": "code",
   "execution_count": null,
   "metadata": {},
   "outputs": [],
   "source": [
    "import cv2\n",
    "import numpy as np\n",
    "from matplotlib import pyplot as plt\n",
    "img = cv2.imread('miki_pluto.jpg',0)\n",
    "Ineg= (255-img)\n",
    "k = np.ones((5,5),np.uint8)\n",
    "blackhat = cv2.morphologyEx(img, cv2.MORPH_BLACKHAT, k)\n",
    "tophat =cv2.morphologyEx(img, cv2.MORPH_TOPHAT, k)\n",
    "aper=cv2.morphologyEx(img, cv2.MORPH_OPEN, k)\n",
    "clau=cv2.morphologyEx(img, cv2.MORPH_CLOSE, k)\n",
    "aper_neg =cv2.morphologyEx(Ineg, cv2.MORPH_OPEN, k)\n",
    "plt.figure(figsize=(15,12))        \n",
    "plt.subplot(2,3,1),plt.imshow(img,'gray') ,plt.title(\"Original\")   \n",
    "plt.subplot(2,3,2),plt.imshow(blackhat,'gray') ,plt.title(\"Black hat\")   \n",
    "plt.subplot(2,3,3),plt.imshow(tophat,'gray') ,plt.title(\"Top hat\")   \n",
    "plt.subplot(2,3,4),plt.imshow(aper,'gray') ,plt.title(\"Apertura\")   \n",
    "plt.subplot(2,3,5),plt.imshow(clau,'gray') ,plt.title(\"Clausura\")   \n",
    "plt.subplot(2,3,6),plt.imshow(aper_neg,'gray') ,plt.title(\"Apertura Negativo\")   "
   ]
  },
  {
   "cell_type": "markdown",
   "metadata": {},
   "source": [
    "### Esqueleto\n",
    "Es la representación minimal de un objeto. Un punto de la imagen original estará en el esqueleto si se pierde al realizar una apertura. Es decir si erosionamos y luego al dilatar no recuperamos ese punto. El número de veces que se aplica este proceso es el numero de veces que podemos erosionar la imagen original y no obtenemos la imagen negra (sin objetos). "
   ]
  },
  {
   "cell_type": "code",
   "execution_count": null,
   "metadata": {},
   "outputs": [],
   "source": [
    "import cv2\n",
    "import numpy as np\n",
    "from matplotlib import pyplot as plt\n",
    "import time\n",
    "img = cv2.imread('estrella.png',0)\n",
    "original=img.copy()\n",
    "element = cv2.getStructuringElement(cv2.MORPH_CROSS, (3,3))\n",
    "skel = np.zeros(img.shape, np.uint8)\n",
    "\n",
    "iter=0;\n",
    "i_save=[1,3,5,7]\n",
    "save_imgs=[]\n",
    "while True:\n",
    "    iter=iter+1\n",
    "    #Aplicamos la apertura: Podemos perder algún punto al hacer la erosion\n",
    "    #que no se recupera con la dilatación\n",
    "    open = cv2.morphologyEx(img, cv2.MORPH_OPEN, element)\n",
    "    #temp contendra los puntos que fueron erosionados y al dilatar no se recuperaron\n",
    "    temp = cv2.subtract(img, open)\n",
    "    if (iter in i_save):\n",
    "        save_imgs.append(temp) \n",
    "    #Erosionamos la imagen para controlar hasta cuando continuar\n",
    "    eroded = cv2.erode(img, element)\n",
    "    #Añadirmos al esqueleto final los puntos que se perdieron con la apertura\n",
    "    skel = cv2.bitwise_or(skel,temp)\n",
    "    #En la siguiente iteracion trabajamos con la erosionada\n",
    "    img = eroded.copy()\n",
    "    #Si no existe ningun pixel ya hemos erosionado todo. \n",
    "    if cv2.countNonZero(img)==0:\n",
    "        break\n",
    "plt.figure(figsize=(10,8))        \n",
    "plt.subplot(2,2,1),plt.imshow(save_imgs[0],'gray') ,plt.title(\"iter 1\")           \n",
    "plt.subplot(2,2,2),plt.imshow(save_imgs[1],'gray') ,plt.title(\"iter 3\")           \n",
    "plt.subplot(2,2,3),plt.imshow(save_imgs[2],'gray') ,plt.title(\"iter 5\")           \n",
    "plt.subplot(2,2,4),plt.imshow(save_imgs[3],'gray') ,plt.title(\"iter 7\")           \n",
    "plt.figure(figsize=(10,8))        \n",
    "plt.subplot(1,2,1),plt.imshow(original,'gray') ,plt.title(\"Original\")   \n",
    "plt.subplot(1,2,2),plt.imshow(skel,'gray') ,plt.title(\"Esqueleto\")"
   ]
  },
  {
   "cell_type": "markdown",
   "metadata": {},
   "source": [
    "### Ejercicio\n",
    "<ol>\n",
    "    <li> Utiliza algunas de las operaciones morfológicas  para buscar formas en una imagen.  Como ayuda a este ejercicio pensad que el elemento estructural puede ser la imagen que queréis buscar. Para este ejercicio puedes usar las siguientes imágenes:\n",
    "<ol>\n",
    "    <li>formas.png, estrella.png, ovalo.png, cuadrado.png, cuadrado2.png,cuadrado3.png\n",
    "   <li>texto.png, letra_i.png, letra_k.png, letra_m.png, letra_o.png, letra_p.png\n",
    "   </ol>\n",
    "</ol>        "
   ]
  }
 ],
 "metadata": {
  "kernelspec": {
   "display_name": "Python 3",
   "language": "python",
   "name": "python3"
  },
  "language_info": {
   "codemirror_mode": {
    "name": "ipython",
    "version": 3
   },
   "file_extension": ".py",
   "mimetype": "text/x-python",
   "name": "python",
   "nbconvert_exporter": "python",
   "pygments_lexer": "ipython3",
   "version": "3.7.6"
  }
 },
 "nbformat": 4,
 "nbformat_minor": 4
}
