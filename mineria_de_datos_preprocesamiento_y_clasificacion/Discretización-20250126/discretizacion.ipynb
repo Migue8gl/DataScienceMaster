{
 "cells": [
  {
   "cell_type": "markdown",
   "metadata": {},
   "source": [
    "# Discretización\n",
    "\n",
    "## Discretizando usando umbral\n",
    "\n",
    "A veces no nos interesa mostrar si un valor numérico es suficientemente alto o no.\n",
    "Vienen bien para algunos clasificadores, como el *Bernoulli Restricted Boltzmann Machine*, y son muy populares en procesamiento de texto.\n",
    "\n",
    "Por ejemplo, a partir del número de cigarros al día identificar si es un fumador habitual."
   ]
  },
  {
   "cell_type": "code",
   "execution_count": 40,
   "metadata": {},
   "outputs": [
    {
     "name": "stdout",
     "output_type": "stream",
     "text": [
      "[[0 1 1 0 0]]\n"
     ]
    }
   ],
   "source": [
    "from sklearn.preprocessing import Binarizer\n",
    "cigarros_semana = [5, 10, 20, 4, 8]\n",
    "bin = Binarizer(threshold=8)\n",
    "fumador_habitual = bin.fit_transform([cigarros_semana])\n",
    "print(fumador_habitual)"
   ]
  },
  {
   "cell_type": "markdown",
   "metadata": {},
   "source": [
    "## Discretización usando rangos\n",
    "\n",
    "A menudo no nos interesa un valor numéricos (ej: `age`) sino convertirlo en un conjunto discreto de valores (*joven*, *adulto*, *mayor*).\n",
    "\n",
    "La clase `K-bins` permite discretizar."
   ]
  },
  {
   "cell_type": "code",
   "execution_count": 41,
   "metadata": {},
   "outputs": [
    {
     "name": "stdout",
     "output_type": "stream",
     "text": [
      "[array([4.3, 5.4, 6.3, 7.9]) array([2. , 2.9, 3.2, 4.4])\n",
      " array([1.        , 2.63333333, 4.9       , 6.9       ])\n",
      " array([0.1       , 0.86666667, 1.6       , 2.5       ])]\n"
     ]
    }
   ],
   "source": [
    "from sklearn.preprocessing import KBinsDiscretizer\n",
    "import pandas as pd\n",
    "import numpy as np\n",
    "from sklearn import datasets\n",
    "iris_dataset = datasets.load_iris(as_frame=True)\n",
    "X_iris = iris_dataset.data.copy()\n",
    "iris_targets = iris_dataset.target.copy()\n",
    "#Build a discretizer object indicating three bins for every feature\n",
    "est = KBinsDiscretizer(n_bins=[3, 3, 3, 3], encode='ordinal').fit(X_iris)\n",
    "#Check feature maximum and minimum values \n",
    "# print(np.max(X_iris, axis = 0))\n",
    "# print(np.min(X_iris, axis = 0))\n",
    "#Check binning intervals\n",
    "print(est.bin_edges_)"
   ]
  },
  {
   "cell_type": "markdown",
   "metadata": {},
   "source": [
    "---"
   ]
  },
  {
   "cell_type": "code",
   "execution_count": 42,
   "metadata": {},
   "outputs": [
    {
     "name": "stdout",
     "output_type": "stream",
     "text": [
      "   sepal length (cm)  sepal width (cm)  petal length (cm)  petal width (cm)\n",
      "0                5.1               3.5                1.4               0.2\n",
      "1                4.9               3.0                1.4               0.2\n",
      "2                4.7               3.2                1.3               0.2\n",
      "3                4.6               3.1                1.5               0.2\n",
      "4                5.0               3.6                1.4               0.2\n",
      "   sepal length (cm)  sepal width (cm)  petal length (cm)  petal width (cm)\n",
      "0                0.0               2.0                0.0               0.0\n",
      "1                0.0               1.0                0.0               0.0\n",
      "2                0.0               2.0                0.0               0.0\n",
      "3                0.0               1.0                0.0               0.0\n",
      "4                0.0               2.0                0.0               0.0\n"
     ]
    }
   ],
   "source": [
    "#Print discretization results\n",
    "print(X_iris.iloc[:5,])\n",
    "discretized_X = pd.DataFrame(est.transform(X_iris), columns=X_iris.columns)\n",
    "print(discretized_X.iloc[:5,])"
   ]
  },
  {
   "cell_type": "markdown",
   "metadata": {},
   "source": [
    "## Distintas estrategias de discretización\n",
    "\n",
    "El criterio de discretización puede ser cambiado con el parámetro `strategy`.\n",
    "\n",
    "Vamos a usar un conjunto pequeño de ejemplo:\n",
    "\n",
    "```python\n",
    "data_train_df = pd.DataFrame({'age': [30, 41, 42, 21],\n",
    "                         'pelo': targets_train,\n",
    "                         'ojos': ['azules', 'verdes', 'marrones', 'marrones']})\n",
    "data_test_df = pd.DataFrame({'age': [25, 23],\n",
    "                             'pelo': targets_test,\n",
    "                             'ojos': ['verdes', 'azules']})\n",
    "print(data_train_df)\n",
    "```\n",
    "\n",
    "Una tendencia común sería una discretización de ancho uniforme:\n"
   ]
  },
  {
   "cell_type": "code",
   "execution_count": 43,
   "metadata": {},
   "outputs": [
    {
     "name": "stdout",
     "output_type": "stream",
     "text": [
      "   age       pelo      ojos\n",
      "0   30      rubio    azules\n",
      "1   41     moreno    verdes\n",
      "2   42  pelirrojo  marrones\n",
      "3   21       azul  marrones\n"
     ]
    }
   ],
   "source": [
    "targets_train = [\"rubio\", \"moreno\", \"pelirrojo\", \"azul\"]\n",
    "targets_test = [\"moreno\", \"pelirrojo\"]\n",
    "\n",
    "data_train_df = pd.DataFrame({'age': [30, 41, 42, 21],\n",
    "                         'pelo': targets_train,\n",
    "                         'ojos': ['azules', 'verdes', 'marrones', 'marrones']})\n",
    "data_test_df = pd.DataFrame({'age': [25, 23],\n",
    "                             'pelo': targets_test,\n",
    "                             'ojos': ['verdes', 'azules']})\n",
    "print(data_train_df)"
   ]
  },
  {
   "cell_type": "code",
   "execution_count": 44,
   "metadata": {},
   "outputs": [
    {
     "name": "stdout",
     "output_type": "stream",
     "text": [
      "[array([21. , 25.2, 29.4, 33.6, 37.8, 42. ])]\n",
      "[[2.]\n",
      " [4.]\n",
      " [4.]\n",
      " [0.]]\n"
     ]
    }
   ],
   "source": [
    "est = KBinsDiscretizer(n_bins=5, encode='ordinal', strategy='uniform')\n",
    "age_disc = est.fit_transform(data_train_df[['age']])\n",
    "print(est.bin_edges_)\n",
    "print(age_disc)"
   ]
  },
  {
   "cell_type": "markdown",
   "metadata": {},
   "source": [
    ". . .\n",
    "\n",
    "No todos los rangos tienen interés, pueden concentrarse."
   ]
  },
  {
   "cell_type": "markdown",
   "metadata": {},
   "source": [
    "---\n",
    "\n",
    "A menudo la mejor estrategia depende de la frecuencia, procurando que todos los intervalos discretizados tengan la misma cantidad de ejemplos (comportamiento por defecto)."
   ]
  },
  {
   "cell_type": "code",
   "execution_count": 45,
   "metadata": {},
   "outputs": [
    {
     "name": "stdout",
     "output_type": "stream",
     "text": [
      "[array([21. , 26.4, 32.2, 38.8, 41.4, 42. ])]\n",
      "[[1.]\n",
      " [3.]\n",
      " [4.]\n",
      " [0.]]\n"
     ]
    }
   ],
   "source": [
    "est = KBinsDiscretizer(n_bins=5, encode='ordinal', strategy='quantile')\n",
    "age_disc = est.fit_transform(data_train_df[['age']])\n",
    "print(est.bin_edges_)\n",
    "print(age_disc)"
   ]
  },
  {
   "cell_type": "markdown",
   "metadata": {},
   "source": [
    "De esta manera, discretiza más en detalle los intervalos más comunes.\n",
    "\n",
    "---"
   ]
  },
  {
   "cell_type": "markdown",
   "metadata": {},
   "source": [
    "La otra opción es la estrategia `kmean` que aplica una clasificación `kmeans` sobre cada atributo."
   ]
  },
  {
   "cell_type": "code",
   "execution_count": 46,
   "metadata": {},
   "outputs": [
    {
     "name": "stdout",
     "output_type": "stream",
     "text": [
      "[array([4.3       , 5.53309253, 6.54877049, 7.9       ])\n",
      " array([2.        , 2.85216858, 3.43561538, 4.4       ])\n",
      " array([1.        , 2.87637037, 4.95950081, 6.9       ])\n",
      " array([0.1       , 0.79151852, 1.70547504, 2.5       ])]\n",
      "   sepal length (cm)  sepal width (cm)  petal length (cm)  petal width (cm)\n",
      "0                0.0               2.0                0.0               0.0\n",
      "1                0.0               1.0                0.0               0.0\n",
      "2                0.0               1.0                0.0               0.0\n",
      "3                0.0               1.0                0.0               0.0\n",
      "4                0.0               2.0                0.0               0.0\n"
     ]
    },
    {
     "name": "stderr",
     "output_type": "stream",
     "text": [
      "c:\\Users\\julian\\anaconda3\\lib\\site-packages\\sklearn\\cluster\\_kmeans.py:1429: UserWarning: KMeans is known to have a memory leak on Windows with MKL, when there are less chunks than available threads. You can avoid it by setting the environment variable OMP_NUM_THREADS=1.\n",
      "  warnings.warn(\n",
      "c:\\Users\\julian\\anaconda3\\lib\\site-packages\\sklearn\\cluster\\_kmeans.py:1429: UserWarning: KMeans is known to have a memory leak on Windows with MKL, when there are less chunks than available threads. You can avoid it by setting the environment variable OMP_NUM_THREADS=1.\n",
      "  warnings.warn(\n",
      "c:\\Users\\julian\\anaconda3\\lib\\site-packages\\sklearn\\cluster\\_kmeans.py:1429: UserWarning: KMeans is known to have a memory leak on Windows with MKL, when there are less chunks than available threads. You can avoid it by setting the environment variable OMP_NUM_THREADS=1.\n",
      "  warnings.warn(\n",
      "c:\\Users\\julian\\anaconda3\\lib\\site-packages\\sklearn\\cluster\\_kmeans.py:1429: UserWarning: KMeans is known to have a memory leak on Windows with MKL, when there are less chunks than available threads. You can avoid it by setting the environment variable OMP_NUM_THREADS=1.\n",
      "  warnings.warn(\n"
     ]
    }
   ],
   "source": [
    "#Build a discretizer object indicating three bins for every feature and using the kmeans strategy\n",
    "est = KBinsDiscretizer(n_bins=[3, 3, 3, 3], encode='ordinal', strategy='kmeans').fit(X_iris)\n",
    "#Check binning intervals and results\n",
    "print(est.bin_edges_)\n",
    "discretized_X = pd.DataFrame(est.transform(X_iris), columns=X_iris.columns)\n",
    "print(discretized_X.iloc[:5,])"
   ]
  },
  {
   "cell_type": "markdown",
   "metadata": {},
   "source": [
    "## Discretización con MDLP de Fayyad\n",
    "\n",
    "This is an implementation of Usama Fayyad's entropy based expert binning method.\n",
    "\n",
    "Please read the original (http://web.donga.ac.kr/kjunwoo/files/Multi%20interval%20discretization%20of%20continuous%20valued%20attributes%20for%20classification%20learning.pdf) here for more information."
   ]
  },
  {
   "cell_type": "code",
   "execution_count": 47,
   "metadata": {},
   "outputs": [
    {
     "name": "stdout",
     "output_type": "stream",
     "text": [
      "[[5.1 3.5 1.4 0.2]\n",
      " [4.9 3.  1.4 0.2]\n",
      " [4.7 3.2 1.3 0.2]\n",
      " [4.6 3.1 1.5 0.2]\n",
      " [5.  3.6 1.4 0.2]]\n",
      "[[0. 2. 0. 0.]\n",
      " [0. 1. 0. 0.]\n",
      " [0. 1. 0. 0.]\n",
      " [0. 1. 0. 0.]\n",
      " [0. 2. 0. 0.]]\n",
      "[5.55, 6.15]\n",
      "{0: {0: '-inf_to_5.55', 1: '5.55_to_6.15', 2: '6.15_to_inf'}, 1: {0: '-inf_to_2.95', 1: '2.95_to_3.3499999999999996', 2: '3.3499999999999996_to_inf'}, 2: {0: '-inf_to_2.45', 1: '2.45_to_4.75', 2: '4.75_to_inf'}, 3: {0: '-inf_to_0.8', 1: '0.8_to_1.75', 2: '1.75_to_inf'}}\n"
     ]
    }
   ],
   "source": [
    "from MDLP import MDLP_Discretizer\n",
    "\n",
    "feature_names, class_names = iris_dataset['feature_names'], iris_dataset['target_names']\n",
    "\n",
    "numeric_features = np.arange(X_iris.shape[1]) \n",
    "discretizer = MDLP_Discretizer(features=numeric_features)\n",
    "\n",
    "#fit necesita numpy arrays\n",
    "X = X_iris.to_numpy()\n",
    "y = iris_targets.to_numpy()\n",
    "\n",
    "discretizer.fit(X, y)\n",
    "\n",
    "X_mdlp = discretizer.transform(X) # recordar que habría que aplicar este mismo transform a los datos de test si se hace una partición\n",
    "\n",
    "# Imprimimos el principio del conjunto original y el transformado\n",
    "print(X[:5,])\n",
    "print(X_mdlp[:5,])\n",
    "\n",
    "# Ver los puntos de corte del primer atributo, por ejemplo\n",
    "print(discretizer._cuts[0])\n",
    "print(discretizer._bin_descriptions)"
   ]
  },
  {
   "cell_type": "markdown",
   "metadata": {},
   "source": [
    "## Discretización usando CAIM\n",
    "\n",
    "CAIM es un algoritmo de discretización muy usado. En Python estaba disponible en el paquete `caimcaim`, pero por problema de dependencias lo he incluido en el zip:"
   ]
  },
  {
   "cell_type": "markdown",
   "metadata": {},
   "source": [
    "---"
   ]
  },
  {
   "cell_type": "code",
   "execution_count": 48,
   "metadata": {},
   "outputs": [
    {
     "name": "stdout",
     "output_type": "stream",
     "text": [
      "Categorical []\n",
      "# 0  GLOBAL CAIM  26.636271740334553\n",
      "# 1  GLOBAL CAIM  17.382507167267576\n",
      "# 2  GLOBAL CAIM  45.55892255892255\n",
      "# 3  GLOBAL CAIM  46.16156736446592\n",
      "   sepal length (cm)  sepal width (cm)  petal length (cm)  petal width (cm)\n",
      "0                5.1               3.5                1.4               0.2\n",
      "1                4.9               3.0                1.4               0.2\n",
      "2                4.7               3.2                1.3               0.2\n",
      "3                4.6               3.1                1.5               0.2\n",
      "4                5.0               3.6                1.4               0.2\n",
      "   sepal length (cm)  sepal width (cm)  petal length (cm)  petal width (cm)\n",
      "0                0.0               2.0                0.0               0.0\n",
      "1                0.0               2.0                0.0               0.0\n",
      "2                0.0               2.0                0.0               0.0\n",
      "3                0.0               2.0                0.0               0.0\n",
      "4                0.0               2.0                0.0               0.0\n"
     ]
    }
   ],
   "source": [
    "from caimcaim import CAIMD\n",
    "caim_dis = CAIMD()\n",
    "caim_dis.fit(X_iris, iris_targets)\n",
    "print(X_iris.iloc[:5,])\n",
    "discretized_X = caim_dis.transform(X_iris)\n",
    "print(discretized_X.iloc[:5,:])"
   ]
  },
  {
   "cell_type": "markdown",
   "metadata": {},
   "source": [
    "## Ejercicios de discretización\n",
    "\n",
    "Aparte de considerar nuestro querido conjunto *Iris*, planteamos practicar sobre el conjunto  \"IMDB-Movie-Data.csv\"."
   ]
  },
  {
   "cell_type": "code",
   "execution_count": 49,
   "metadata": {},
   "outputs": [
    {
     "data": {
      "text/plain": [
       "Index(['Rank', 'Title', 'Genre', 'Description', 'Director', 'Actors', 'Year',\n",
       "       'Runtime (Minutes)', 'Rating', 'Votes', 'Revenue (Millions)',\n",
       "       'Metascore'],\n",
       "      dtype='object')"
      ]
     },
     "execution_count": 49,
     "metadata": {},
     "output_type": "execute_result"
    }
   ],
   "source": [
    "import pandas as pd\n",
    "df = pd.read_csv(\"IMDB-Movie-Data.csv\")\n",
    "df.columns"
   ]
  },
  {
   "cell_type": "markdown",
   "metadata": {},
   "source": [
    "1. Discretiza los ingresos en 10 intervalos de igual rango.\n",
    "\n",
    "2. Discretiza los ingresos en 10 intervalos según la frecuencia.\n",
    "\n",
    "3. Discretizar las películas entre populares (un 8 o más) y menos.\n",
    "\n",
    "4. Aplica MDLP y CAIM sobre el conjunto elegido.\n",
    "\n",
    "5. Usa un decision tree sobre diferentes estrategias de discretización. ¿Qué diferencias en la profundidad del árbol y el rendimiento observas?"
   ]
  }
 ],
 "metadata": {
  "kernelspec": {
   "display_name": "base",
   "language": "python",
   "name": "python3"
  },
  "language_info": {
   "codemirror_mode": {
    "name": "ipython",
    "version": 3
   },
   "file_extension": ".py",
   "mimetype": "text/x-python",
   "name": "python",
   "nbconvert_exporter": "python",
   "pygments_lexer": "ipython3",
   "version": "3.10.15"
  }
 },
 "nbformat": 4,
 "nbformat_minor": 4
}
