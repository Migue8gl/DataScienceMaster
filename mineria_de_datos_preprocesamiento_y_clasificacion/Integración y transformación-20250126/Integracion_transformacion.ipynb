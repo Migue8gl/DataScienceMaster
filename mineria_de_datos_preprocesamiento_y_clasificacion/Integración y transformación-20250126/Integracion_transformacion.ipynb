{
 "cells": [
  {
   "cell_type": "markdown",
   "metadata": {},
   "source": [
    "\n",
    "# Preprocesamiento de datos. Integración y transformación de datos📈\n",
    "\n",
    "Paquetes necesarios que hay que instalar antes de comenzar:\n",
    "- sklearn\n",
    "- imbalanced-learn\n",
    "- matplotlib\n",
    "- seaborn\n",
    "- pandas"
   ]
  },
  {
   "cell_type": "markdown",
   "metadata": {},
   "source": [
    "# Repaso: Manejo de Pandas\n",
    "\n",
    "## Selección de datos\n",
    "\n",
    "Antes de nada vamos a recordar cómo seleccionar atributos e instancias.\n",
    "\n",
    "Cargamos pandas."
   ]
  },
  {
   "cell_type": "code",
   "execution_count": 1,
   "metadata": {},
   "outputs": [],
   "source": [
    "import pandas as pd\n",
    "from pandas.core.common import random_state"
   ]
  },
  {
   "cell_type": "markdown",
   "metadata": {},
   "source": [
    "Leemos datos"
   ]
  },
  {
   "cell_type": "code",
   "execution_count": 2,
   "metadata": {},
   "outputs": [
    {
     "name": "stdout",
     "output_type": "stream",
     "text": [
      "             name  height mass hair_color skin_color eye_color birth_year  \\\n",
      "0  Luke Skywalker   172.0   77      blond       fair      blue      19BBY   \n",
      "1           C-3PO   167.0   75        NaN       gold    yellow     112BBY   \n",
      "\n",
      "  gender homeworld species  \n",
      "0   male  Tatooine   Human  \n",
      "1    NaN  Tatooine   Droid  \n"
     ]
    }
   ],
   "source": [
    "df = pd.read_csv(\"sw_characters.csv\")\n",
    "print(df.head(2))"
   ]
  },
  {
   "cell_type": "markdown",
   "metadata": {},
   "source": [
    "---\n",
    "\n",
    "Podemos consultar los atributos con:"
   ]
  },
  {
   "cell_type": "code",
   "execution_count": 3,
   "metadata": {},
   "outputs": [
    {
     "data": {
      "text/plain": [
       "Index(['name', 'height', 'mass', 'hair_color', 'skin_color', 'eye_color',\n",
       "       'birth_year', 'gender', 'homeworld', 'species'],\n",
       "      dtype='object')"
      ]
     },
     "execution_count": 3,
     "metadata": {},
     "output_type": "execute_result"
    }
   ],
   "source": [
    "df.columns"
   ]
  },
  {
   "cell_type": "markdown",
   "metadata": {},
   "source": [
    "## Selección de atributos\n",
    "\n",
    "Sobre este conjunto de datos haremos las siguientes operaciones de\n",
    "selección (en todas ellas el resultado es un nuevo conjunto de datos):\n",
    "\n",
    "- selección de atributos concretos.\n",
    "- selección de instancias concretas.\n",
    "\n",
    "---"
   ]
  },
  {
   "cell_type": "markdown",
   "metadata": {},
   "source": [
    "1. selección de 3 variables en concreto: **name**, **height**, **gender**."
   ]
  },
  {
   "cell_type": "code",
   "execution_count": 4,
   "metadata": {},
   "outputs": [
    {
     "name": "stdout",
     "output_type": "stream",
     "text": [
      "             name  height gender\n",
      "0  Luke Skywalker   172.0   male\n",
      "1           C-3PO   167.0    NaN\n",
      "2           R2-D2    96.0    NaN\n"
     ]
    }
   ],
   "source": [
    "# se seleccionan algunas caracteristicas: name, height\n",
    "# and gender\n",
    "data1 = df[[\"name\", \"height\", \"gender\"]]\n",
    "print(data1.head(3))"
   ]
  },
  {
   "cell_type": "markdown",
   "metadata": {},
   "source": [
    "---\n",
    "\n",
    "2. todas las variables excepto las indicadas a continuación:\n",
    "**birth_year** y **gender**.\n",
    "\n",
    ". . ."
   ]
  },
  {
   "cell_type": "code",
   "execution_count": 5,
   "metadata": {},
   "outputs": [
    {
     "data": {
      "text/plain": [
       "Index(['name', 'height', 'mass', 'hair_color', 'skin_color', 'eye_color',\n",
       "       'homeworld', 'species'],\n",
       "      dtype='object')"
      ]
     },
     "execution_count": 5,
     "metadata": {},
     "output_type": "execute_result"
    }
   ],
   "source": [
    "# se mantienen todas las variables exceptuando\n",
    "# birth_year y gender\n",
    "df2 = df.drop(['birth_year', 'gender'], axis=1)\n",
    "df2.columns"
   ]
  },
  {
   "cell_type": "markdown",
   "metadata": {},
   "source": [
    "## Selección de instancias\n",
    "\n",
    "Es fácil filtrar un valor numérico o por valor exacto:"
   ]
  },
  {
   "cell_type": "code",
   "execution_count": 6,
   "metadata": {},
   "outputs": [
    {
     "data": {
      "text/html": [
       "<div>\n",
       "<style scoped>\n",
       "    .dataframe tbody tr th:only-of-type {\n",
       "        vertical-align: middle;\n",
       "    }\n",
       "\n",
       "    .dataframe tbody tr th {\n",
       "        vertical-align: top;\n",
       "    }\n",
       "\n",
       "    .dataframe thead th {\n",
       "        text-align: right;\n",
       "    }\n",
       "</style>\n",
       "<table border=\"1\" class=\"dataframe\">\n",
       "  <thead>\n",
       "    <tr style=\"text-align: right;\">\n",
       "      <th></th>\n",
       "      <th>name</th>\n",
       "      <th>height</th>\n",
       "      <th>gender</th>\n",
       "    </tr>\n",
       "  </thead>\n",
       "  <tbody>\n",
       "    <tr>\n",
       "      <th>1</th>\n",
       "      <td>C-3PO</td>\n",
       "      <td>167.0</td>\n",
       "      <td>NaN</td>\n",
       "    </tr>\n",
       "    <tr>\n",
       "      <th>2</th>\n",
       "      <td>R2-D2</td>\n",
       "      <td>96.0</td>\n",
       "      <td>NaN</td>\n",
       "    </tr>\n",
       "    <tr>\n",
       "      <th>7</th>\n",
       "      <td>R5-D4</td>\n",
       "      <td>97.0</td>\n",
       "      <td>NaN</td>\n",
       "    </tr>\n",
       "  </tbody>\n",
       "</table>\n",
       "</div>"
      ],
      "text/plain": [
       "    name  height gender\n",
       "1  C-3PO   167.0    NaN\n",
       "2  R2-D2    96.0    NaN\n",
       "7  R5-D4    97.0    NaN"
      ]
     },
     "execution_count": 6,
     "metadata": {},
     "output_type": "execute_result"
    }
   ],
   "source": [
    "data1[data1[\"gender\"].isnull()]"
   ]
  },
  {
   "cell_type": "markdown",
   "metadata": {},
   "source": [
    "---"
   ]
  },
  {
   "cell_type": "markdown",
   "metadata": {},
   "source": [
    "Se combina con & y | (no dobles) usando paréntesis:"
   ]
  },
  {
   "cell_type": "code",
   "execution_count": 7,
   "metadata": {},
   "outputs": [
    {
     "data": {
      "text/html": [
       "<div>\n",
       "<style scoped>\n",
       "    .dataframe tbody tr th:only-of-type {\n",
       "        vertical-align: middle;\n",
       "    }\n",
       "\n",
       "    .dataframe tbody tr th {\n",
       "        vertical-align: top;\n",
       "    }\n",
       "\n",
       "    .dataframe thead th {\n",
       "        text-align: right;\n",
       "    }\n",
       "</style>\n",
       "<table border=\"1\" class=\"dataframe\">\n",
       "  <thead>\n",
       "    <tr style=\"text-align: right;\">\n",
       "      <th></th>\n",
       "      <th>name</th>\n",
       "      <th>height</th>\n",
       "      <th>gender</th>\n",
       "    </tr>\n",
       "  </thead>\n",
       "  <tbody>\n",
       "    <tr>\n",
       "      <th>2</th>\n",
       "      <td>R2-D2</td>\n",
       "      <td>96.0</td>\n",
       "      <td>NaN</td>\n",
       "    </tr>\n",
       "    <tr>\n",
       "      <th>7</th>\n",
       "      <td>R5-D4</td>\n",
       "      <td>97.0</td>\n",
       "      <td>NaN</td>\n",
       "    </tr>\n",
       "  </tbody>\n",
       "</table>\n",
       "</div>"
      ],
      "text/plain": [
       "    name  height gender\n",
       "2  R2-D2    96.0    NaN\n",
       "7  R5-D4    97.0    NaN"
      ]
     },
     "execution_count": 7,
     "metadata": {},
     "output_type": "execute_result"
    }
   ],
   "source": [
    "selected = (data1[\"gender\"].isnull()) & (data1[\"height\"] < 100)\n",
    "data1[selected]"
   ]
  },
  {
   "cell_type": "markdown",
   "metadata": {},
   "source": [
    "---\n",
    "\n",
    "Es más difícil si queremos filtrar según uno o varios valores:"
   ]
  },
  {
   "cell_type": "code",
   "execution_count": 8,
   "metadata": {},
   "outputs": [
    {
     "data": {
      "text/plain": [
       "count       85\n",
       "unique      30\n",
       "top       fair\n",
       "freq        17\n",
       "Name: skin_color, dtype: object"
      ]
     },
     "execution_count": 8,
     "metadata": {},
     "output_type": "execute_result"
    }
   ],
   "source": [
    "df2.skin_color.describe()"
   ]
  },
  {
   "cell_type": "markdown",
   "metadata": {},
   "source": [
    "----\n",
    "\n",
    "Por varios valores"
   ]
  },
  {
   "cell_type": "code",
   "execution_count": 9,
   "metadata": {},
   "outputs": [
    {
     "data": {
      "text/html": [
       "<div>\n",
       "<style scoped>\n",
       "    .dataframe tbody tr th:only-of-type {\n",
       "        vertical-align: middle;\n",
       "    }\n",
       "\n",
       "    .dataframe tbody tr th {\n",
       "        vertical-align: top;\n",
       "    }\n",
       "\n",
       "    .dataframe thead th {\n",
       "        text-align: right;\n",
       "    }\n",
       "</style>\n",
       "<table border=\"1\" class=\"dataframe\">\n",
       "  <thead>\n",
       "    <tr style=\"text-align: right;\">\n",
       "      <th></th>\n",
       "      <th>name</th>\n",
       "      <th>height</th>\n",
       "      <th>mass</th>\n",
       "      <th>hair_color</th>\n",
       "      <th>skin_color</th>\n",
       "      <th>eye_color</th>\n",
       "      <th>homeworld</th>\n",
       "      <th>species</th>\n",
       "    </tr>\n",
       "  </thead>\n",
       "  <tbody>\n",
       "    <tr>\n",
       "      <th>28</th>\n",
       "      <td>Wicket Systri Warrick</td>\n",
       "      <td>88.0</td>\n",
       "      <td>20</td>\n",
       "      <td>brown</td>\n",
       "      <td>brown</td>\n",
       "      <td>brown</td>\n",
       "      <td>Endor</td>\n",
       "      <td>Ewok</td>\n",
       "    </tr>\n",
       "    <tr>\n",
       "      <th>50</th>\n",
       "      <td>Eeth Koth</td>\n",
       "      <td>171.0</td>\n",
       "      <td>NaN</td>\n",
       "      <td>black</td>\n",
       "      <td>brown</td>\n",
       "      <td>brown</td>\n",
       "      <td>Iridonia</td>\n",
       "      <td>Zabrak</td>\n",
       "    </tr>\n",
       "    <tr>\n",
       "      <th>67</th>\n",
       "      <td>Dexter Jettster</td>\n",
       "      <td>198.0</td>\n",
       "      <td>102</td>\n",
       "      <td>none</td>\n",
       "      <td>brown</td>\n",
       "      <td>yellow</td>\n",
       "      <td>Ojom</td>\n",
       "      <td>Besalisk</td>\n",
       "    </tr>\n",
       "    <tr>\n",
       "      <th>77</th>\n",
       "      <td>Tarfful</td>\n",
       "      <td>234.0</td>\n",
       "      <td>136</td>\n",
       "      <td>brown</td>\n",
       "      <td>brown</td>\n",
       "      <td>blue</td>\n",
       "      <td>Kashyyyk</td>\n",
       "      <td>Wookiee</td>\n",
       "    </tr>\n",
       "  </tbody>\n",
       "</table>\n",
       "</div>"
      ],
      "text/plain": [
       "                     name  height mass hair_color skin_color eye_color  \\\n",
       "28  Wicket Systri Warrick    88.0   20      brown      brown     brown   \n",
       "50              Eeth Koth   171.0  NaN      black      brown     brown   \n",
       "67        Dexter Jettster   198.0  102       none      brown    yellow   \n",
       "77                Tarfful   234.0  136      brown      brown      blue   \n",
       "\n",
       "   homeworld   species  \n",
       "28     Endor      Ewok  \n",
       "50  Iridonia    Zabrak  \n",
       "67      Ojom  Besalisk  \n",
       "77  Kashyyyk   Wookiee  "
      ]
     },
     "execution_count": 9,
     "metadata": {},
     "output_type": "execute_result"
    }
   ],
   "source": [
    "df2[df2.skin_color.isin([\"blonde\", \"brown\"])]"
   ]
  },
  {
   "cell_type": "markdown",
   "metadata": {},
   "source": [
    "---"
   ]
  },
  {
   "cell_type": "markdown",
   "metadata": {},
   "source": [
    "Expresiones regulares"
   ]
  },
  {
   "cell_type": "code",
   "execution_count": 10,
   "metadata": {},
   "outputs": [
    {
     "data": {
      "text/html": [
       "<div>\n",
       "<style scoped>\n",
       "    .dataframe tbody tr th:only-of-type {\n",
       "        vertical-align: middle;\n",
       "    }\n",
       "\n",
       "    .dataframe tbody tr th {\n",
       "        vertical-align: top;\n",
       "    }\n",
       "\n",
       "    .dataframe thead th {\n",
       "        text-align: right;\n",
       "    }\n",
       "</style>\n",
       "<table border=\"1\" class=\"dataframe\">\n",
       "  <thead>\n",
       "    <tr style=\"text-align: right;\">\n",
       "      <th></th>\n",
       "      <th>name</th>\n",
       "      <th>height</th>\n",
       "      <th>mass</th>\n",
       "      <th>hair_color</th>\n",
       "      <th>skin_color</th>\n",
       "      <th>eye_color</th>\n",
       "      <th>homeworld</th>\n",
       "      <th>species</th>\n",
       "    </tr>\n",
       "  </thead>\n",
       "  <tbody>\n",
       "    <tr>\n",
       "      <th>2</th>\n",
       "      <td>R2-D2</td>\n",
       "      <td>96.0</td>\n",
       "      <td>32</td>\n",
       "      <td>NaN</td>\n",
       "      <td>white, blue</td>\n",
       "      <td>red</td>\n",
       "      <td>Naboo</td>\n",
       "      <td>Droid</td>\n",
       "    </tr>\n",
       "    <tr>\n",
       "      <th>37</th>\n",
       "      <td>Watto</td>\n",
       "      <td>137.0</td>\n",
       "      <td>NaN</td>\n",
       "      <td>black</td>\n",
       "      <td>blue, grey</td>\n",
       "      <td>yellow</td>\n",
       "      <td>Toydaria</td>\n",
       "      <td>Toydarian</td>\n",
       "    </tr>\n",
       "    <tr>\n",
       "      <th>43</th>\n",
       "      <td>Ayla Secura</td>\n",
       "      <td>178.0</td>\n",
       "      <td>55</td>\n",
       "      <td>none</td>\n",
       "      <td>blue</td>\n",
       "      <td>hazel</td>\n",
       "      <td>Ryloth</td>\n",
       "      <td>Twi'lek</td>\n",
       "    </tr>\n",
       "    <tr>\n",
       "      <th>44</th>\n",
       "      <td>Dud Bolt</td>\n",
       "      <td>94.0</td>\n",
       "      <td>45</td>\n",
       "      <td>none</td>\n",
       "      <td>blue, grey</td>\n",
       "      <td>yellow</td>\n",
       "      <td>Vulpter</td>\n",
       "      <td>Vulptereen</td>\n",
       "    </tr>\n",
       "    <tr>\n",
       "      <th>45</th>\n",
       "      <td>Gasgano</td>\n",
       "      <td>122.0</td>\n",
       "      <td>NaN</td>\n",
       "      <td>none</td>\n",
       "      <td>white, blue</td>\n",
       "      <td>black</td>\n",
       "      <td>Troiken</td>\n",
       "      <td>Xexto</td>\n",
       "    </tr>\n",
       "    <tr>\n",
       "      <th>55</th>\n",
       "      <td>Mas Amedda</td>\n",
       "      <td>196.0</td>\n",
       "      <td>NaN</td>\n",
       "      <td>none</td>\n",
       "      <td>blue</td>\n",
       "      <td>blue</td>\n",
       "      <td>Champala</td>\n",
       "      <td>Chagrian</td>\n",
       "    </tr>\n",
       "    <tr>\n",
       "      <th>71</th>\n",
       "      <td>Ratts Tyerell</td>\n",
       "      <td>79.0</td>\n",
       "      <td>15</td>\n",
       "      <td>none</td>\n",
       "      <td>grey, blue</td>\n",
       "      <td>NaN</td>\n",
       "      <td>Aleen Minor</td>\n",
       "      <td>Aleena</td>\n",
       "    </tr>\n",
       "    <tr>\n",
       "      <th>75</th>\n",
       "      <td>Shaak Ti</td>\n",
       "      <td>178.0</td>\n",
       "      <td>57</td>\n",
       "      <td>none</td>\n",
       "      <td>red, blue, white</td>\n",
       "      <td>black</td>\n",
       "      <td>Shili</td>\n",
       "      <td>Togruta</td>\n",
       "    </tr>\n",
       "  </tbody>\n",
       "</table>\n",
       "</div>"
      ],
      "text/plain": [
       "             name  height mass hair_color        skin_color eye_color  \\\n",
       "2           R2-D2    96.0   32        NaN       white, blue       red   \n",
       "37          Watto   137.0  NaN      black        blue, grey    yellow   \n",
       "43    Ayla Secura   178.0   55       none              blue     hazel   \n",
       "44       Dud Bolt    94.0   45       none        blue, grey    yellow   \n",
       "45        Gasgano   122.0  NaN       none       white, blue     black   \n",
       "55     Mas Amedda   196.0  NaN       none              blue      blue   \n",
       "71  Ratts Tyerell    79.0   15       none        grey, blue       NaN   \n",
       "75       Shaak Ti   178.0   57       none  red, blue, white     black   \n",
       "\n",
       "      homeworld     species  \n",
       "2         Naboo       Droid  \n",
       "37     Toydaria   Toydarian  \n",
       "43       Ryloth     Twi'lek  \n",
       "44      Vulpter  Vulptereen  \n",
       "45      Troiken       Xexto  \n",
       "55     Champala    Chagrian  \n",
       "71  Aleen Minor      Aleena  \n",
       "75        Shili     Togruta  "
      ]
     },
     "execution_count": 10,
     "metadata": {},
     "output_type": "execute_result"
    }
   ],
   "source": [
    "df2[(~df2.skin_color.isnull()) &\n",
    "    (df2.skin_color.str.contains(\"blo*\", case=True,regex=True))]"
   ]
  },
  {
   "cell_type": "markdown",
   "metadata": {},
   "source": [
    "## Renombrado de variables\n",
    "\n",
    "Se puede hacer directamente editando columns:"
   ]
  },
  {
   "cell_type": "code",
   "execution_count": 11,
   "metadata": {},
   "outputs": [
    {
     "data": {
      "text/plain": [
       "Index(['V1', 'V2', 'V3', 'V4', 'V5', 'V6', 'V7', 'V8'], dtype='object')"
      ]
     },
     "execution_count": 11,
     "metadata": {},
     "output_type": "execute_result"
    }
   ],
   "source": [
    "df_tmp = df2.copy()\n",
    "df_tmp.columns = [\"V1\",\"V2\", \"V3\", \"V4\", \"V5\", \"V6\", \"V7\", \"V8\"]\n",
    "df_tmp.columns"
   ]
  },
  {
   "cell_type": "markdown",
   "metadata": {},
   "source": [
    "Pero lo suyo es renombrar usando un diccionario:"
   ]
  },
  {
   "cell_type": "code",
   "execution_count": 12,
   "metadata": {},
   "outputs": [
    {
     "data": {
      "text/plain": [
       "Index(['name', 'height', 'mass', 'hair_color', 'color_piel', 'eye_color',\n",
       "       'homeworld', 'species'],\n",
       "      dtype='object')"
      ]
     },
     "execution_count": 12,
     "metadata": {},
     "output_type": "execute_result"
    }
   ],
   "source": [
    "df2.rename(columns={\"skin_color\": \"color_piel\"}, inplace=True)\n",
    "df2.columns"
   ]
  },
  {
   "cell_type": "markdown",
   "metadata": {},
   "source": [
    "## Conocer los tipos originales\n",
    "\n",
    "`info` nos devuelve los tipos (`object` son `string`)"
   ]
  },
  {
   "cell_type": "code",
   "execution_count": 13,
   "metadata": {},
   "outputs": [
    {
     "name": "stdout",
     "output_type": "stream",
     "text": [
      "<class 'pandas.core.frame.DataFrame'>\n",
      "RangeIndex: 87 entries, 0 to 86\n",
      "Data columns (total 10 columns):\n",
      " #   Column      Non-Null Count  Dtype  \n",
      "---  ------      --------------  -----  \n",
      " 0   name        87 non-null     object \n",
      " 1   height      81 non-null     float64\n",
      " 2   mass        59 non-null     object \n",
      " 3   hair_color  81 non-null     object \n",
      " 4   skin_color  85 non-null     object \n",
      " 5   eye_color   84 non-null     object \n",
      " 6   birth_year  43 non-null     object \n",
      " 7   gender      84 non-null     object \n",
      " 8   homeworld   77 non-null     object \n",
      " 9   species     82 non-null     object \n",
      "dtypes: float64(1), object(9)\n",
      "memory usage: 6.9+ KB\n"
     ]
    }
   ],
   "source": [
    "df.info()"
   ]
  },
  {
   "cell_type": "markdown",
   "metadata": {},
   "source": [
    "---\n",
    "\n",
    "Para conocer información sobre los valores numéricos se puede hacer:"
   ]
  },
  {
   "cell_type": "code",
   "execution_count": 14,
   "metadata": {},
   "outputs": [
    {
     "data": {
      "text/html": [
       "<div>\n",
       "<style scoped>\n",
       "    .dataframe tbody tr th:only-of-type {\n",
       "        vertical-align: middle;\n",
       "    }\n",
       "\n",
       "    .dataframe tbody tr th {\n",
       "        vertical-align: top;\n",
       "    }\n",
       "\n",
       "    .dataframe thead th {\n",
       "        text-align: right;\n",
       "    }\n",
       "</style>\n",
       "<table border=\"1\" class=\"dataframe\">\n",
       "  <thead>\n",
       "    <tr style=\"text-align: right;\">\n",
       "      <th></th>\n",
       "      <th>height</th>\n",
       "    </tr>\n",
       "  </thead>\n",
       "  <tbody>\n",
       "    <tr>\n",
       "      <th>count</th>\n",
       "      <td>81.000000</td>\n",
       "    </tr>\n",
       "    <tr>\n",
       "      <th>mean</th>\n",
       "      <td>174.358025</td>\n",
       "    </tr>\n",
       "    <tr>\n",
       "      <th>std</th>\n",
       "      <td>34.770429</td>\n",
       "    </tr>\n",
       "    <tr>\n",
       "      <th>min</th>\n",
       "      <td>66.000000</td>\n",
       "    </tr>\n",
       "    <tr>\n",
       "      <th>25%</th>\n",
       "      <td>167.000000</td>\n",
       "    </tr>\n",
       "    <tr>\n",
       "      <th>50%</th>\n",
       "      <td>180.000000</td>\n",
       "    </tr>\n",
       "    <tr>\n",
       "      <th>75%</th>\n",
       "      <td>191.000000</td>\n",
       "    </tr>\n",
       "    <tr>\n",
       "      <th>max</th>\n",
       "      <td>264.000000</td>\n",
       "    </tr>\n",
       "  </tbody>\n",
       "</table>\n",
       "</div>"
      ],
      "text/plain": [
       "           height\n",
       "count   81.000000\n",
       "mean   174.358025\n",
       "std     34.770429\n",
       "min     66.000000\n",
       "25%    167.000000\n",
       "50%    180.000000\n",
       "75%    191.000000\n",
       "max    264.000000"
      ]
     },
     "execution_count": 14,
     "metadata": {},
     "output_type": "execute_result"
    }
   ],
   "source": [
    "df.describe()"
   ]
  },
  {
   "cell_type": "markdown",
   "metadata": {},
   "source": [
    "---"
   ]
  },
  {
   "cell_type": "markdown",
   "metadata": {},
   "source": [
    "Y más en detalle se puede usar `describe` con un atributo:"
   ]
  },
  {
   "cell_type": "code",
   "execution_count": 15,
   "metadata": {},
   "outputs": [
    {
     "data": {
      "text/plain": [
       "count        82\n",
       "unique       37\n",
       "top       Human\n",
       "freq         35\n",
       "Name: species, dtype: object"
      ]
     },
     "execution_count": 15,
     "metadata": {},
     "output_type": "execute_result"
    }
   ],
   "source": [
    "df.species.describe()"
   ]
  },
  {
   "cell_type": "markdown",
   "metadata": {},
   "source": [
    "---\n",
    "\n",
    "Para ver las frecuencias se puede usar `values_counts()`."
   ]
  },
  {
   "cell_type": "code",
   "execution_count": 16,
   "metadata": {},
   "outputs": [
    {
     "data": {
      "text/plain": [
       "species\n",
       "Human       35\n",
       "Droid        5\n",
       "Gungan       3\n",
       "Mirialan     2\n",
       "Wookiee      2\n",
       "Name: count, dtype: int64"
      ]
     },
     "execution_count": 16,
     "metadata": {},
     "output_type": "execute_result"
    }
   ],
   "source": [
    "df.species.value_counts().head()"
   ]
  },
  {
   "cell_type": "markdown",
   "metadata": {},
   "source": [
    "Se puede normalizar (y no ordenar si se quiere):"
   ]
  },
  {
   "cell_type": "code",
   "execution_count": 17,
   "metadata": {},
   "outputs": [
    {
     "data": {
      "text/plain": [
       "species\n",
       "Human       0.426829\n",
       "Droid       0.060976\n",
       "Gungan      0.036585\n",
       "Mirialan    0.024390\n",
       "Wookiee     0.024390\n",
       "Name: proportion, dtype: float64"
      ]
     },
     "execution_count": 17,
     "metadata": {},
     "output_type": "execute_result"
    }
   ],
   "source": [
    "df.species.value_counts(normalize=True).head()"
   ]
  },
  {
   "cell_type": "markdown",
   "metadata": {},
   "source": [
    "---"
   ]
  },
  {
   "cell_type": "markdown",
   "metadata": {},
   "source": [
    "`value_counts()` también permite medir frecuencia de combinaciones:"
   ]
  },
  {
   "cell_type": "code",
   "execution_count": 18,
   "metadata": {},
   "outputs": [
    {
     "data": {
      "text/plain": [
       "species   hair_color\n",
       "Human     brown         0.181818\n",
       "          black         0.103896\n",
       "          none          0.038961\n",
       "          blond         0.038961\n",
       "Gungan    none          0.038961\n",
       "Twi'lek   none          0.025974\n",
       "Mirialan  black         0.025974\n",
       "Human     white         0.025974\n",
       "Name: proportion, dtype: float64"
      ]
     },
     "execution_count": 18,
     "metadata": {},
     "output_type": "execute_result"
    }
   ],
   "source": [
    "df[[\"species\", \"hair_color\"]].value_counts(normalize=True).head(8)"
   ]
  },
  {
   "cell_type": "code",
   "execution_count": 19,
   "metadata": {},
   "outputs": [
    {
     "data": {
      "text/plain": [
       "species       hair_color\n",
       "Aleena        none          1\n",
       "Kel Dor       none          1\n",
       "Mon Calamari  none          1\n",
       "Muun          none          1\n",
       "Nautolan      none          1\n",
       "Name: count, dtype: int64"
      ]
     },
     "execution_count": 19,
     "metadata": {},
     "output_type": "execute_result"
    }
   ],
   "source": [
    "df[[\"species\", \"hair_color\"]].value_counts(normalize=False, ascending=True).head()"
   ]
  },
  {
   "cell_type": "markdown",
   "metadata": {},
   "source": [
    "# Normalización de entrada\n",
    "\n",
    "## Estandarización\n",
    "\n",
    "Estandarización es un requisito de muchos modelos de ML, como los basados en\n",
    "distancias.\n",
    "\n",
    "`scikit-learn` permite hacer estandarización, hay [múltiples\n",
    "opciones](]https://scikit-learn.org/stable/modules/preprocessing.html)"
   ]
  },
  {
   "cell_type": "code",
   "execution_count": 20,
   "metadata": {},
   "outputs": [
    {
     "name": "stdout",
     "output_type": "stream",
     "text": [
      "[5.84333333 3.05733333 3.758      1.19933333]\n",
      "[0.82530129 0.43441097 1.75940407 0.75969263]\n"
     ]
    }
   ],
   "source": [
    "#Build a preprocessing object\n",
    "from sklearn.preprocessing import StandardScaler\n",
    "from sklearn import datasets\n",
    "iris_dataset = datasets.load_iris(as_frame=True)\n",
    "X_iris = iris_dataset.data.copy()\n",
    "scaler = StandardScaler().fit(X_iris)\n",
    "#Check the mean and the std of the training set\n",
    "print(scaler.mean_)\n",
    "print(scaler.scale_)"
   ]
  },
  {
   "cell_type": "markdown",
   "metadata": {},
   "source": [
    "---"
   ]
  },
  {
   "cell_type": "markdown",
   "metadata": {},
   "source": [
    "Una vez entrenado se puede aplicar:"
   ]
  },
  {
   "cell_type": "code",
   "execution_count": 21,
   "metadata": {},
   "outputs": [
    {
     "name": "stdout",
     "output_type": "stream",
     "text": [
      "   sepal length (cm)  sepal width (cm)  petal length (cm)  petal width (cm)\n",
      "0                5.1               3.5                1.4               0.2\n",
      "1                4.9               3.0                1.4               0.2\n",
      "2                4.7               3.2                1.3               0.2\n",
      "3                4.6               3.1                1.5               0.2\n",
      "4                5.0               3.6                1.4               0.2\n",
      "StandardScaler: \n",
      "[[-0.90068117  1.01900435 -1.34022653 -1.3154443 ]\n",
      " [-1.14301691 -0.13197948 -1.34022653 -1.3154443 ]\n",
      " [-1.38535265  0.32841405 -1.39706395 -1.3154443 ]\n",
      " [-1.50652052  0.09821729 -1.2833891  -1.3154443 ]\n",
      " [-1.02184904  1.24920112 -1.34022653 -1.3154443 ]]\n"
     ]
    }
   ],
   "source": [
    "X_iris_scaled = scaler.transform(X_iris)\n",
    "print(X_iris.iloc[:5,:])\n",
    "print(\"StandardScaler: \")\n",
    "print(X_iris_scaled[:5,:])"
   ]
  },
  {
   "cell_type": "markdown",
   "metadata": {},
   "source": [
    "---\n",
    "\n",
    "Confirmemos:"
   ]
  },
  {
   "cell_type": "code",
   "execution_count": 22,
   "metadata": {},
   "outputs": [
    {
     "name": "stdout",
     "output_type": "stream",
     "text": [
      "sepal length (cm)   -4.736952e-16\n",
      "sepal width (cm)    -7.815970e-16\n",
      "petal length (cm)   -4.263256e-16\n",
      "petal width (cm)    -4.736952e-16\n",
      "dtype: float64\n",
      "sepal length (cm)    1.00335\n",
      "sepal width (cm)     1.00335\n",
      "petal length (cm)    1.00335\n",
      "petal width (cm)     1.00335\n",
      "dtype: float64\n"
     ]
    }
   ],
   "source": [
    "#Transform the dataset using the preprocessin object and check results\n",
    "X_scaled = pd.DataFrame(scaler.fit_transform(X_iris), columns=X_iris.columns)\n",
    "print(X_scaled.mean(axis=0))\n",
    "print(X_scaled.std(axis=0))"
   ]
  },
  {
   "cell_type": "markdown",
   "metadata": {},
   "source": [
    "---"
   ]
  },
  {
   "cell_type": "markdown",
   "metadata": {},
   "source": [
    "Visualmente"
   ]
  },
  {
   "cell_type": "code",
   "execution_count": 23,
   "metadata": {},
   "outputs": [
    {
     "name": "stderr",
     "output_type": "stream",
     "text": [
      "Matplotlib is building the font cache; this may take a moment.\n",
      "Fontconfig warning: ignoring UTF-8: not a valid region tag\n"
     ]
    },
    {
     "data": {
      "text/plain": [
       "<Axes: ylabel='Density'>"
      ]
     },
     "execution_count": 23,
     "metadata": {},
     "output_type": "execute_result"
    },
    {
     "data": {
      "image/png": "[encoded data removed]",
      "text/plain": [
       "<Figure size 640x480 with 2 Axes>"
      ]
     },
     "metadata": {},
     "output_type": "display_data"
    }
   ],
   "source": [
    "from matplotlib import pyplot as plt\n",
    "fig,axs = plt.subplots(2,1)\n",
    "X_iris.plot.kde(ax=axs[0])\n",
    "X_scaled.plot.kde(ax=axs[1])"
   ]
  },
  {
   "cell_type": "markdown",
   "metadata": {},
   "source": [
    "---\n",
    "\n",
    "Otro muy común es `MinMaxScaler`:"
   ]
  },
  {
   "cell_type": "code",
   "execution_count": 24,
   "metadata": {},
   "outputs": [
    {
     "name": "stdout",
     "output_type": "stream",
     "text": [
      "   sepal length (cm)  sepal width (cm)  petal length (cm)  petal width (cm)\n",
      "0                5.1               3.5                1.4               0.2\n",
      "1                4.9               3.0                1.4               0.2\n",
      "2                4.7               3.2                1.3               0.2\n",
      "3                4.6               3.1                1.5               0.2\n",
      "4                5.0               3.6                1.4               0.2\n",
      "MinMaxScaler: \n",
      "[[0.22222222 0.625      0.06779661 0.04166667]\n",
      " [0.16666667 0.41666667 0.06779661 0.04166667]\n",
      " [0.11111111 0.5        0.05084746 0.04166667]\n",
      " [0.08333333 0.45833333 0.08474576 0.04166667]\n",
      " [0.19444444 0.66666667 0.06779661 0.04166667]]\n"
     ]
    }
   ],
   "source": [
    "from sklearn.preprocessing import MinMaxScaler\n",
    "X_iris_scaled2 = MinMaxScaler().fit_transform(X_iris)\n",
    "print(X_iris.iloc[:5,:])\n",
    "print(\"MinMaxScaler: \")\n",
    "print(X_iris_scaled2[:5,:])"
   ]
  },
  {
   "cell_type": "markdown",
   "metadata": {},
   "source": [
    "## Normalización\n",
    "\n",
    "La normalización es escalar las muestras individuales para que tenga una normal\n",
    "unidad.\n",
    "\n",
    "Es esencial para espresiones cuadráticas, o que usen un *kernel* que mida similaridad de\n",
    "pares de instancias."
   ]
  },
  {
   "cell_type": "code",
   "execution_count": 25,
   "metadata": {},
   "outputs": [
    {
     "name": "stdout",
     "output_type": "stream",
     "text": [
      "   sepal length (cm)  sepal width (cm)  petal length (cm)  petal width (cm)\n",
      "0                5.1               3.5                1.4               0.2\n",
      "1                4.9               3.0                1.4               0.2\n",
      "2                4.7               3.2                1.3               0.2\n",
      "3                4.6               3.1                1.5               0.2\n",
      "   sepal length (cm)  sepal width (cm)  petal length (cm)  petal width (cm)\n",
      "0           0.803773          0.551609           0.220644          0.031521\n",
      "1           0.828133          0.507020           0.236609          0.033801\n",
      "2           0.805333          0.548312           0.222752          0.034269\n",
      "3           0.800030          0.539151           0.260879          0.034784\n"
     ]
    }
   ],
   "source": [
    "from sklearn.preprocessing import normalize\n",
    "print(X_iris.iloc[:4,:])\n",
    "X_normalized = pd.DataFrame(normalize(X_iris), columns=X_iris.columns)\n",
    "print(X_normalized.iloc[:4,:])"
   ]
  },
  {
   "cell_type": "markdown",
   "metadata": {},
   "source": [
    "# Atributos categóricos\n",
    "\n",
    "## Codificando atributos categóricos\n",
    "\n",
    "Es común atributos con valores categóricos. `Scikit-learn` no es capaz de\n",
    "procesarlos, por lo que es necesario transformarlo a valores numéricos.\n",
    "\n",
    "- LabelEncoder y OrdinalEncoder: Asigna un valor numérico por cada categoría.\n",
    "\n",
    "- OneHotEncoder: Codifica cada categoría usando una nueva columna.\n",
    "\n",
    ". . .\n",
    "\n",
    "Los Label/OrdinalEncoder asigna un orden entre las categorías que suele ser\n",
    "'falso' si ese concepto no existe.\n",
    "\n",
    "## LabelEncoder y OrdinalEncoder\n",
    "\n",
    "Ambos asignan un valor numérico distinto a cada categoría.\n",
    "\n",
    "Diferencia:\n",
    "\n",
    "- `OrdinalEncoder` puede procesar varias columnas, se usa para características.\n",
    "\n",
    "- `LabelEncoder` solo procesa un elemento, se usa para el atributo objetivo\n",
    "  (*target*).\n",
    "\n",
    "---"
   ]
  },
  {
   "cell_type": "markdown",
   "metadata": {},
   "source": [
    "Advertencia: Evitar hacer esto:"
   ]
  },
  {
   "cell_type": "code",
   "execution_count": 26,
   "metadata": {},
   "outputs": [
    {
     "name": "stdout",
     "output_type": "stream",
     "text": [
      "['rubio', 'moreno', 'pelirrojo', 'azul']\n",
      "[3 1 2 0]\n",
      "['moreno', 'pelirrojo']\n",
      "[0 1]\n"
     ]
    }
   ],
   "source": [
    "from sklearn.preprocessing import LabelEncoder\n",
    "targets_train = [\"rubio\", \"moreno\", \"pelirrojo\", \"azul\"]\n",
    "targets_test = [\"moreno\", \"pelirrojo\"]\n",
    "\n",
    "targets_train_num = LabelEncoder().fit_transform(targets_train)\n",
    "targets_test_num = LabelEncoder().fit_transform(targets_test)\n",
    "print(targets_train)\n",
    "print(targets_train_num)\n",
    "print(targets_test)\n",
    "print(targets_test_num)"
   ]
  },
  {
   "cell_type": "markdown",
   "metadata": {},
   "source": [
    ". . .\n",
    "\n",
    "Las etiquetas no coinciden."
   ]
  },
  {
   "cell_type": "markdown",
   "metadata": {},
   "source": [
    "---\n",
    "\n",
    "Para evitarlo hay que hacer *fit* solo con el de entrenamiento."
   ]
  },
  {
   "cell_type": "code",
   "execution_count": 27,
   "metadata": {},
   "outputs": [
    {
     "name": "stdout",
     "output_type": "stream",
     "text": [
      "['rubio', 'moreno', 'pelirrojo', 'azul']\n",
      "[3 1 2 0]\n",
      "['moreno', 'pelirrojo']\n",
      "[1 2]\n"
     ]
    }
   ],
   "source": [
    "labeler_target = LabelEncoder()\n",
    "targets_train_num = labeler_target.fit_transform(targets_train)\n",
    "targets_test_num = labeler_target.transform(targets_test)\n",
    "print(targets_train)\n",
    "print(targets_train_num)\n",
    "print(targets_test)\n",
    "print(targets_test_num)"
   ]
  },
  {
   "cell_type": "markdown",
   "metadata": {},
   "source": [
    ". . .\n",
    "\n",
    "Guardar siempre los labeler (diccionario por nombre, ...).\n",
    "\n",
    "---"
   ]
  },
  {
   "cell_type": "markdown",
   "metadata": {},
   "source": [
    "Ejemplo:"
   ]
  },
  {
   "cell_type": "code",
   "execution_count": 28,
   "metadata": {},
   "outputs": [
    {
     "name": "stdout",
     "output_type": "stream",
     "text": [
      "   age       pelo      ojos\n",
      "0   30      rubio    azules\n",
      "1   41     moreno    verdes\n",
      "2   42  pelirrojo  marrones\n",
      "3   21       azul  marrones\n"
     ]
    }
   ],
   "source": [
    "data_train_df = pd.DataFrame({'age': [30, 41, 42, 21],\n",
    "                         'pelo': targets_train,\n",
    "                         'ojos': ['azules', 'verdes', 'marrones', 'marrones']})\n",
    "data_test_df = pd.DataFrame({'age': [25, 23],\n",
    "                             'pelo': targets_test,\n",
    "                             'ojos': ['verdes', 'azules']})\n",
    "print(data_train_df)"
   ]
  },
  {
   "cell_type": "markdown",
   "metadata": {},
   "source": [
    "Vamos a aplicar el etiquetado."
   ]
  },
  {
   "cell_type": "markdown",
   "metadata": {},
   "source": [
    "---\n",
    "\n",
    "- Opción 1: Sólo con Label Encoder:"
   ]
  },
  {
   "cell_type": "code",
   "execution_count": 29,
   "metadata": {},
   "outputs": [
    {
     "name": "stdout",
     "output_type": "stream",
     "text": [
      "   age  pelo  ojos\n",
      "0   30     3     0\n",
      "1   41     1     2\n",
      "2   42     2     1\n",
      "3   21     0     1\n",
      "   age  pelo  ojos\n",
      "0   25     1     2\n",
      "1   23     2     0\n"
     ]
    }
   ],
   "source": [
    "labelers = {}\n",
    "cols = {}\n",
    "atribs = [\"pelo\", \"ojos\"]\n",
    "data_train_num = data_train_df.copy()\n",
    "data_test_num = data_test_df.copy()\n",
    "\n",
    "for i in atribs:\n",
    "    cols[i] = LabelEncoder()\n",
    "    data_train_num[i] = cols[i].fit_transform(data_train_num[i])\n",
    "    data_test_num[i] = cols[i].transform(data_test_num[i])\n",
    "\n",
    "print(data_train_num)\n",
    "print(data_test_num)"
   ]
  },
  {
   "cell_type": "markdown",
   "metadata": {},
   "source": [
    "---"
   ]
  },
  {
   "cell_type": "markdown",
   "metadata": {},
   "source": [
    "- Opción 2: Usando `OrdinalEncoder`"
   ]
  },
  {
   "cell_type": "code",
   "execution_count": 30,
   "metadata": {},
   "outputs": [
    {
     "name": "stdout",
     "output_type": "stream",
     "text": [
      "   age  pelo  ojos\n",
      "0   30     3     0\n",
      "1   41     1     2\n",
      "2   42     2     1\n",
      "3   21     0     1\n",
      "   age  pelo  ojos\n",
      "0   25     1     2\n",
      "1   23     2     0\n"
     ]
    }
   ],
   "source": [
    "from sklearn.preprocessing import OrdinalEncoder\n",
    "import numpy as np\n",
    "atribs = [\"pelo\", \"ojos\"]\n",
    "labelers = OrdinalEncoder(dtype=np.int32) # Por defecto usa float\n",
    "data_train_num = data_train_df.copy()\n",
    "data_test_num = data_test_df.copy()\n",
    "\n",
    "data_train_num[atribs] = labelers.fit_transform(data_train_df[atribs])\n",
    "data_test_num[atribs] = labelers.transform(data_test_df[atribs])\n",
    "\n",
    "print(data_train_num)\n",
    "print(data_test_num)"
   ]
  },
  {
   "cell_type": "markdown",
   "metadata": {},
   "source": [
    "## Inversión\n",
    "\n",
    "También se puede invertir el etiquetado:"
   ]
  },
  {
   "cell_type": "code",
   "execution_count": 31,
   "metadata": {},
   "outputs": [
    {
     "name": "stdout",
     "output_type": "stream",
     "text": [
      "[['rubio' 'azules']\n",
      " ['moreno' 'verdes']\n",
      " ['pelirrojo' 'marrones']\n",
      " ['azul' 'marrones']]\n"
     ]
    }
   ],
   "source": [
    "print(labelers.inverse_transform(data_train_num[atribs]))"
   ]
  },
  {
   "cell_type": "markdown",
   "metadata": {},
   "source": [
    "## *LabelEncoder*, *OrdinalEncoder* y orden\n",
    "\n",
    "Esta codificación está considerando un orden entre categorías.\n",
    "\n",
    "En algunos casos como ['pequeño', 'mediano', 'grande'] puede tener sentido pero\n",
    "la mayoría de las veces no.\n",
    "\n",
    "Cuando no (como 'pelo' o 'color' del ejemplo anterior) es necesario aplicar\n",
    "*OneHotEncoder*."
   ]
  },
  {
   "cell_type": "markdown",
   "metadata": {},
   "source": [
    "---\n",
    "\n",
    "`OneHotEncoder` crea una columna por categoría (ej: 'azul') indicando si se cumple\n",
    "o no.\n",
    "\n",
    "- Aumenta el número de columnas.\n",
    "\n",
    "- Evita suponer un orden."
   ]
  },
  {
   "cell_type": "code",
   "execution_count": 56,
   "metadata": {},
   "outputs": [
    {
     "name": "stdout",
     "output_type": "stream",
     "text": [
      "[[0 0 0 1 1 0 0]\n",
      " [0 1 0 0 0 0 1]\n",
      " [0 0 1 0 0 1 0]\n",
      " [1 0 0 0 0 1 0]]\n"
     ]
    }
   ],
   "source": [
    "from sklearn.preprocessing import OneHotEncoder\n",
    "\n",
    "# Por defecto es matriz sparse\n",
    "encoder = OneHotEncoder(sparse_output=False, dtype=np.int32)\n",
    "data_train_hot = encoder.fit_transform(data_train_df[atribs])\n",
    "print(data_train_hot)"
   ]
  },
  {
   "cell_type": "markdown",
   "metadata": {},
   "source": [
    "---"
   ]
  },
  {
   "cell_type": "markdown",
   "metadata": {},
   "source": [
    "Se puede convertir a *dataframe*:"
   ]
  },
  {
   "cell_type": "code",
   "execution_count": 57,
   "metadata": {},
   "outputs": [
    {
     "name": "stdout",
     "output_type": "stream",
     "text": [
      "['pelo_azul' 'pelo_moreno' 'pelo_pelirrojo' 'pelo_rubio' 'ojos_azules'\n",
      " 'ojos_marrones' 'ojos_verdes']\n",
      "   pelo_azul  pelo_moreno  pelo_pelirrojo  pelo_rubio  ojos_azules  \\\n",
      "0          0            0               0           1            1   \n",
      "1          0            1               0           0            0   \n",
      "2          0            0               1           0            0   \n",
      "3          1            0               0           0            0   \n",
      "\n",
      "   ojos_marrones  ojos_verdes  age  \n",
      "0              0            0   30  \n",
      "1              0            1   41  \n",
      "2              1            0   42  \n",
      "3              1            0   21  \n"
     ]
    }
   ],
   "source": [
    "new_columns = encoder.get_feature_names_out()\n",
    "print(new_columns)\n",
    "data_train_hot = pd.DataFrame(data_train_hot, columns=new_columns)\n",
    "# Copio el resto de atributos\n",
    "data_train_hot['age'] = data_train_df['age']\n",
    "print(data_train_hot)"
   ]
  },
  {
   "cell_type": "markdown",
   "metadata": {},
   "source": [
    "## Dummies en Pandas\n",
    "\n",
    "Pandas ya soporta el *hotencoding*, pero presenta problemas."
   ]
  },
  {
   "cell_type": "code",
   "execution_count": 35,
   "metadata": {},
   "outputs": [
    {
     "data": {
      "text/html": [
       "<div>\n",
       "<style scoped>\n",
       "    .dataframe tbody tr th:only-of-type {\n",
       "        vertical-align: middle;\n",
       "    }\n",
       "\n",
       "    .dataframe tbody tr th {\n",
       "        vertical-align: top;\n",
       "    }\n",
       "\n",
       "    .dataframe thead th {\n",
       "        text-align: right;\n",
       "    }\n",
       "</style>\n",
       "<table border=\"1\" class=\"dataframe\">\n",
       "  <thead>\n",
       "    <tr style=\"text-align: right;\">\n",
       "      <th></th>\n",
       "      <th>pelo_azul</th>\n",
       "      <th>pelo_moreno</th>\n",
       "      <th>pelo_pelirrojo</th>\n",
       "      <th>pelo_rubio</th>\n",
       "      <th>ojos_azules</th>\n",
       "      <th>ojos_marrones</th>\n",
       "      <th>ojos_verdes</th>\n",
       "    </tr>\n",
       "  </thead>\n",
       "  <tbody>\n",
       "    <tr>\n",
       "      <th>0</th>\n",
       "      <td>False</td>\n",
       "      <td>False</td>\n",
       "      <td>False</td>\n",
       "      <td>True</td>\n",
       "      <td>True</td>\n",
       "      <td>False</td>\n",
       "      <td>False</td>\n",
       "    </tr>\n",
       "    <tr>\n",
       "      <th>1</th>\n",
       "      <td>False</td>\n",
       "      <td>True</td>\n",
       "      <td>False</td>\n",
       "      <td>False</td>\n",
       "      <td>False</td>\n",
       "      <td>False</td>\n",
       "      <td>True</td>\n",
       "    </tr>\n",
       "    <tr>\n",
       "      <th>2</th>\n",
       "      <td>False</td>\n",
       "      <td>False</td>\n",
       "      <td>True</td>\n",
       "      <td>False</td>\n",
       "      <td>False</td>\n",
       "      <td>True</td>\n",
       "      <td>False</td>\n",
       "    </tr>\n",
       "    <tr>\n",
       "      <th>3</th>\n",
       "      <td>True</td>\n",
       "      <td>False</td>\n",
       "      <td>False</td>\n",
       "      <td>False</td>\n",
       "      <td>False</td>\n",
       "      <td>True</td>\n",
       "      <td>False</td>\n",
       "    </tr>\n",
       "  </tbody>\n",
       "</table>\n",
       "</div>"
      ],
      "text/plain": [
       "   pelo_azul  pelo_moreno  pelo_pelirrojo  pelo_rubio  ojos_azules  \\\n",
       "0      False        False           False        True         True   \n",
       "1      False         True           False       False        False   \n",
       "2      False        False            True       False        False   \n",
       "3       True        False           False       False        False   \n",
       "\n",
       "   ojos_marrones  ojos_verdes  \n",
       "0          False        False  \n",
       "1          False         True  \n",
       "2           True        False  \n",
       "3           True        False  "
      ]
     },
     "execution_count": 35,
     "metadata": {},
     "output_type": "execute_result"
    }
   ],
   "source": [
    "pd.get_dummies(data_train_df[['pelo', 'ojos']])"
   ]
  },
  {
   "cell_type": "markdown",
   "metadata": {},
   "source": [
    "Recomiendo usar `OneHotEncoder` por tener más opciones.\n",
    "\n",
    "## Valores binarios\n",
    "\n",
    "Si el valor numérico es binario, ej: vivo/muerto no es necesario aplicar el\n",
    "*hotencoding*."
   ]
  },
  {
   "cell_type": "code",
   "execution_count": 36,
   "metadata": {},
   "outputs": [
    {
     "name": "stdout",
     "output_type": "stream",
     "text": [
      "   x0_unemployed  x1_from Asia  x1_from Europe  x1_from US  x2_uses Chrome  \\\n",
      "0            0.0           0.0             0.0         1.0             0.0   \n",
      "1            1.0           0.0             1.0         0.0             0.0   \n",
      "2            1.0           1.0             0.0         0.0             1.0   \n",
      "\n",
      "   x2_uses Firefox  x2_uses Safari  \n",
      "0              0.0             1.0  \n",
      "1              1.0             0.0  \n",
      "2              0.0             0.0  \n"
     ]
    }
   ],
   "source": [
    "columns = [\"Employed\", \"Place\", 'Browser']\n",
    "X = [['employed', 'from US', 'uses Safari'], ['unemployed', 'from Europe', 'uses Firefox'], ['unemployed', 'from Asia', 'uses Chrome']]\n",
    "enc = OneHotEncoder(drop='if_binary')\n",
    "trans_X = enc.fit_transform(X)\n",
    "transformed_X = pd.DataFrame(trans_X.toarray(), columns=enc.get_feature_names_out())\n",
    "print(transformed_X)"
   ]
  },
  {
   "cell_type": "markdown",
   "metadata": {},
   "source": [
    "## LabelBinarizer\n",
    "\n",
    "`OneHotEncoder` es para convertir atributos, `LabelBinarizer` es para convertir\n",
    "el target (por ejemplo: para redes neuronales).\n",
    "\n",
    "La diferencia principal es:\n",
    "\n",
    "- `LabelBinarizer` devuelve una matriz numpy, `OneHotEncoder` devuelve por\n",
    "  defecto matriz *sparse*.\n",
    "\n",
    "- `LabelBinarizer` devuelve de tipo entero, `OneHotEncoder` devuelve por defecto de\n",
    "  tipo `float`.\n",
    "\n",
    "- `OneHotEncoder` puede convertir distintos atributos a la vez, `LabelBinarizer`\n",
    "  no."
   ]
  },
  {
   "cell_type": "markdown",
   "metadata": {},
   "source": [
    "---"
   ]
  },
  {
   "cell_type": "code",
   "execution_count": 37,
   "metadata": {},
   "outputs": [
    {
     "data": {
      "text/plain": [
       "array([[1, 0, 0],\n",
       "       [0, 0, 1],\n",
       "       [0, 1, 0],\n",
       "       [0, 1, 0]])"
      ]
     },
     "execution_count": 37,
     "metadata": {},
     "output_type": "execute_result"
    }
   ],
   "source": [
    "from sklearn.preprocessing import LabelBinarizer\n",
    "\n",
    "lb = LabelBinarizer()\n",
    "lb.fit_transform(data_train_df['ojos'])\n",
    "# Da error\n",
    "# lb.fit_transform(data_train_df['ojos','pelo'])"
   ]
  },
  {
   "cell_type": "markdown",
   "metadata": {},
   "source": [
    "¿Cuándo usar `LabelBinarizer`?\n",
    "\n",
    ". . .\n",
    "\n",
    "Para etiquetar el objetivo.\n",
    "\n",
    "## Multilabel\n",
    "\n",
    "¿Qué pasa cuando un atributo es una combinación de valores?\n",
    "\n",
    "Ejemplo: género de una película.\n",
    "\n",
    "La clase `Multilabel` permite identificar:"
   ]
  },
  {
   "cell_type": "code",
   "execution_count": 38,
   "metadata": {},
   "outputs": [
    {
     "name": "stdout",
     "output_type": "stream",
     "text": [
      "[[0 1 1]\n",
      " [1 0 0]]\n"
     ]
    },
    {
     "data": {
      "text/plain": [
       "['comedy', 'sci-fi', 'thriller']"
      ]
     },
     "execution_count": 38,
     "metadata": {},
     "output_type": "execute_result"
    }
   ],
   "source": [
    "from sklearn.preprocessing import MultiLabelBinarizer\n",
    "mlb = MultiLabelBinarizer()\n",
    "print(mlb.fit_transform([{'sci-fi', 'thriller'}, {'comedy'}]))\n",
    "list(mlb.classes_)"
   ]
  },
  {
   "cell_type": "markdown",
   "metadata": {},
   "source": [
    "---"
   ]
  },
  {
   "cell_type": "markdown",
   "metadata": {},
   "source": [
    "Aviso: Trabaja con vector de conjunto, no con vector:"
   ]
  },
  {
   "cell_type": "code",
   "execution_count": 39,
   "metadata": {},
   "outputs": [
    {
     "name": "stdout",
     "output_type": "stream",
     "text": [
      "[[1 1 0 0 1 0 1 0 0 0 0 1 0 0]\n",
      " [0 0 0 1 0 1 1 1 0 0 1 0 1 0]\n",
      " [0 1 1 1 0 0 0 0 1 1 0 0 0 1]]\n"
     ]
    },
    {
     "data": {
      "text/plain": [
       "['-', 'c', 'd', 'e', 'f', 'h', 'i', 'l', 'm', 'o', 'r', 's', 't', 'y']"
      ]
     },
     "execution_count": 39,
     "metadata": {},
     "output_type": "execute_result"
    }
   ],
   "source": [
    "mlb = MultiLabelBinarizer()\n",
    "print(mlb.fit_transform(['sci-fi', 'thriller', 'comedy']))\n",
    "list(mlb.classes_)"
   ]
  },
  {
   "cell_type": "markdown",
   "metadata": {},
   "source": [
    "La otra opción es un vector de vectores:"
   ]
  },
  {
   "cell_type": "code",
   "execution_count": 40,
   "metadata": {},
   "outputs": [
    {
     "name": "stdout",
     "output_type": "stream",
     "text": [
      "[[0 1 1]\n",
      " [1 0 0]]\n"
     ]
    },
    {
     "data": {
      "text/plain": [
       "['comedy', 'sci-fi', 'thriller']"
      ]
     },
     "execution_count": 40,
     "metadata": {},
     "output_type": "execute_result"
    }
   ],
   "source": [
    "mlb = MultiLabelBinarizer()\n",
    "print(mlb.fit_transform([['sci-fi', 'thriller'], ['comedy']]))\n",
    "list(mlb.classes_)"
   ]
  },
  {
   "cell_type": "markdown",
   "metadata": {},
   "source": [
    "# Distancias de atributos categóricos\n",
    "\n",
    "Tal y como hemos visto en teoría, vamos a explorar algunas formas de estimar las distancias entre atributos nominales. Nos ceñiremos a scikit-learn y su paquete https://scikit-learn.org/1.5/modules/generated/sklearn.metrics.DistanceMetric.html.\n",
    "\n",
    "## Distancia Coseno\n",
    "\n",
    "Para calcular el coseno de dos elementos, necesitaremos una conversión a atributos numéricos. Consideremos, por ejemplo, la transformación One-hot-encoding.\n"
   ]
  },
  {
   "cell_type": "code",
   "execution_count": 41,
   "metadata": {},
   "outputs": [
    {
     "name": "stdout",
     "output_type": "stream",
     "text": [
      "[[1.         0.         0.        ]\n",
      " [0.         1.         0.33333333]\n",
      " [0.         0.33333333 1.        ]]\n"
     ]
    }
   ],
   "source": [
    "# obtenemos la matriz de distancias con el coseno de los datos de transformed_X\n",
    "from sklearn.metrics.pairwise import cosine_similarity\n",
    "\n",
    "cosine_similarity(transformed_X)\n",
    "# imprimir la matriz de distancias\n",
    "print(cosine_similarity(transformed_X))"
   ]
  },
  {
   "cell_type": "markdown",
   "metadata": {},
   "source": [
    "## Distancia Jaccard"
   ]
  },
  {
   "cell_type": "code",
   "execution_count": 42,
   "metadata": {},
   "outputs": [
    {
     "name": "stdout",
     "output_type": "stream",
     "text": [
      "Distancias de Jaccard:\n",
      " [[0.         1.         1.         0.66666667]\n",
      " [1.         0.         1.         0.66666667]\n",
      " [1.         1.         0.         1.        ]\n",
      " [0.66666667 0.66666667 1.         0.        ]]\n"
     ]
    },
    {
     "name": "stderr",
     "output_type": "stream",
     "text": [
      "/opt/anaconda3/lib/python3.12/site-packages/sklearn/metrics/pairwise.py:2361: DataConversionWarning: Data was converted to boolean for metric jaccard\n",
      "  warnings.warn(msg, DataConversionWarning)\n"
     ]
    }
   ],
   "source": [
    "import numpy as np\n",
    "from sklearn.metrics.pairwise import pairwise_distances\n",
    "from sklearn.preprocessing import LabelBinarizer\n",
    "\n",
    "# Datos de ejemplo de un conjunto de juguete donde dos atributos son nominales y pueden tener valores repetidos\n",
    "data = np.array([\n",
    "    ['rojo', 'azul'],\n",
    "    ['verde', 'rojo'],\n",
    "    ['azul', 'verde'],\n",
    "    ['rojo', 'rojo']\n",
    "])\n",
    "\n",
    "# Seleccionamos los dos atributos que nos interesan\n",
    "atributo1 = data[:, 0]  # Primer atributo\n",
    "atributo2 = data[:, 1]  # Segundo atributo\n",
    "\n",
    "# Usamos LabelBinarizer para convertir los atributos nominales en representación binaria\n",
    "lb = LabelBinarizer()\n",
    "\n",
    "# Convertimos ambos atributos\n",
    "atributo1_bin = lb.fit_transform(atributo1)\n",
    "atributo2_bin = lb.fit_transform(atributo2)\n",
    "\n",
    "# Concatenamos las dos matrices binarias para representar los atributos combinados\n",
    "combined_attributes = np.hstack((atributo1_bin, atributo2_bin))\n",
    "\n",
    "# Calculamos la distancia de Jaccard\n",
    "distancia_jaccard = pairwise_distances(combined_attributes, metric='jaccard')\n",
    "\n",
    "# Mostramos el resultado\n",
    "print(\"Distancias de Jaccard:\\n\", distancia_jaccard)\n"
   ]
  },
  {
   "cell_type": "markdown",
   "metadata": {},
   "source": [
    "## Value difference metric"
   ]
  },
  {
   "cell_type": "markdown",
   "metadata": {},
   "source": [
    "Instalar la biblioteca imbalanced-learn en primer lugar:\n",
    "https://anaconda.org/conda-forge/imbalanced-learn"
   ]
  },
  {
   "cell_type": "code",
   "execution_count": 43,
   "metadata": {},
   "outputs": [
    {
     "name": "stdout",
     "output_type": "stream",
     "text": [
      "[[0.         1.44444444 1.         0.44444444 1.         1.44444444]\n",
      " [1.44444444 0.         4.44444444 1.         0.44444444 4.        ]\n",
      " [1.         4.44444444 0.         1.44444444 4.         0.44444444]\n",
      " [0.44444444 1.         1.44444444 0.         1.44444444 1.        ]\n",
      " [1.         0.44444444 4.         1.44444444 0.         4.44444444]\n",
      " [1.44444444 4.         0.44444444 1.         4.44444444 0.        ]]\n"
     ]
    }
   ],
   "source": [
    "from imblearn.metrics.pairwise import ValueDifferenceMetric\n",
    "\n",
    "\n",
    "# Datos de ejemplo (atributos nominales y clase)\n",
    "data = pd.DataFrame({\n",
    "    'atributo1': ['rojo', 'verde', 'azul', 'rojo', 'verde', 'azul'],\n",
    "    'atributo2': ['caliente', 'frío', 'caliente', 'frío', 'caliente', 'frío'],\n",
    "    'clase': [1, 1, 0, 0, 1, 0]\n",
    "})\n",
    "\n",
    "# es necesario hacer una codificacion de las variables nominales en binarias con OrdinalEncoder por ejemplo\n",
    "# para poder aplicar la distancia VDM\n",
    "from sklearn.preprocessing import OrdinalEncoder\n",
    "data_encoded = OrdinalEncoder(dtype=np.int32).fit_transform(data[['atributo1', 'atributo2']])\n",
    "\n",
    "\n",
    "# aplicamos la distancia VDM a los atributos 1 y 2\n",
    "vdm = ValueDifferenceMetric().fit(data_encoded, data['clase'])\n",
    "\n",
    "pairwise_distance = vdm.pairwise(data_encoded)\n",
    "\n",
    "#a continuacion se muestra la matriz de distancias\n",
    "print(pairwise_distance)"
   ]
  },
  {
   "cell_type": "markdown",
   "metadata": {},
   "source": [
    "## Estudio de la correlación entre atributos\n",
    "\n",
    "Con el método corr de $pandas$ se puede analizar la correlación entre atributos para intentar observar si hay redundancia entre los mismos."
   ]
  },
  {
   "cell_type": "code",
   "execution_count": 44,
   "metadata": {},
   "outputs": [
    {
     "name": "stdout",
     "output_type": "stream",
     "text": [
      "                 x0_unemployed  x1_from Asia  x1_from Europe  x1_from US  \\\n",
      "x0_unemployed              1.0           0.5             0.5        -1.0   \n",
      "x1_from Asia               0.5           1.0            -0.5        -0.5   \n",
      "x1_from Europe             0.5          -0.5             1.0        -0.5   \n",
      "x1_from US                -1.0          -0.5            -0.5         1.0   \n",
      "x2_uses Chrome             0.5           1.0            -0.5        -0.5   \n",
      "x2_uses Firefox            0.5          -0.5             1.0        -0.5   \n",
      "x2_uses Safari            -1.0          -0.5            -0.5         1.0   \n",
      "\n",
      "                 x2_uses Chrome  x2_uses Firefox  x2_uses Safari  \n",
      "x0_unemployed               0.5              0.5            -1.0  \n",
      "x1_from Asia                1.0             -0.5            -0.5  \n",
      "x1_from Europe             -0.5              1.0            -0.5  \n",
      "x1_from US                 -0.5             -0.5             1.0  \n",
      "x2_uses Chrome              1.0             -0.5            -0.5  \n",
      "x2_uses Firefox            -0.5              1.0            -0.5  \n",
      "x2_uses Safari             -0.5             -0.5             1.0  \n"
     ]
    }
   ],
   "source": [
    "#si intentamos obtener la matriz de correlación de un dataframe que contiene variables categóricas, obtendremos un error\n",
    "#correlation_matrix = df.corr()\n",
    "\n",
    "#vamos a usar una versión con una transformación previa de las variables categóricas a numéricas\n",
    "correlation_matrix = transformed_X.corr()\n",
    "print(correlation_matrix)\n"
   ]
  },
  {
   "cell_type": "code",
   "execution_count": 45,
   "metadata": {},
   "outputs": [
    {
     "data": {
      "image/png": "[encoded data removed]",
      "text/plain": [
       "<Figure size 640x480 with 2 Axes>"
      ]
     },
     "metadata": {},
     "output_type": "display_data"
    }
   ],
   "source": [
    "#vamos a imprimir la matriz de correlación crear un mapa de calor\n",
    "import seaborn as sns\n",
    "sns.heatmap(correlation_matrix, annot=True)\n",
    "plt.show()\n"
   ]
  },
  {
   "cell_type": "code",
   "execution_count": 46,
   "metadata": {},
   "outputs": [
    {
     "data": {
      "text/plain": [
       "<Axes: >"
      ]
     },
     "execution_count": 46,
     "metadata": {},
     "output_type": "execute_result"
    },
    {
     "data": {
      "image/png": "[encoded data removed]",
      "text/plain": [
       "<Figure size 640x480 with 2 Axes>"
      ]
     },
     "metadata": {},
     "output_type": "display_data"
    }
   ],
   "source": [
    "#vamos a eliminar una de las variables que está totalmente correlacionada con otra\n",
    "transformed_X = transformed_X.drop(columns='x0_unemployed')\n",
    "\n",
    "correlation_matrix = transformed_X.corr()\n",
    "sns.heatmap(correlation_matrix, annot=True)"
   ]
  },
  {
   "cell_type": "markdown",
   "metadata": {},
   "source": [
    "# Pipelines y ColumnTransformer\n",
    "\n",
    "## Aplicar `OneHotEncoder`\n",
    "\n",
    "Scikit-learn permite combinar transformaciones con `ColumnTransformer`."
   ]
  },
  {
   "cell_type": "code",
   "execution_count": 47,
   "metadata": {},
   "outputs": [
    {
     "name": "stdout",
     "output_type": "stream",
     "text": [
      "   onehotencoder__pelo_azul  onehotencoder__pelo_moreno  \\\n",
      "0                       0.0                         0.0   \n",
      "1                       0.0                         1.0   \n",
      "2                       0.0                         0.0   \n",
      "3                       1.0                         0.0   \n",
      "\n",
      "   onehotencoder__pelo_pelirrojo  onehotencoder__pelo_rubio  \\\n",
      "0                            0.0                        1.0   \n",
      "1                            0.0                        0.0   \n",
      "2                            1.0                        0.0   \n",
      "3                            0.0                        0.0   \n",
      "\n",
      "   onehotencoder__ojos_azules  onehotencoder__ojos_marrones  \\\n",
      "0                         1.0                           0.0   \n",
      "1                         0.0                           0.0   \n",
      "2                         0.0                           1.0   \n",
      "3                         0.0                           1.0   \n",
      "\n",
      "   onehotencoder__ojos_verdes  remainder__age  \n",
      "0                         0.0            30.0  \n",
      "1                         1.0            41.0  \n",
      "2                         0.0            42.0  \n",
      "3                         0.0            21.0  \n"
     ]
    }
   ],
   "source": [
    "from sklearn.compose import make_column_transformer\n",
    "\n",
    "transformer = make_column_transformer(\n",
    "    (OneHotEncoder(), ['pelo', 'ojos']),\n",
    "  remainder='passthrough') # Para ignorar el resto y no dar error\n",
    "\n",
    "transformed = transformer.fit_transform(data_train_df)\n",
    "data_train_num = pd.DataFrame(transformed, columns=transformer.get_feature_names_out())\n",
    "print(data_train_num)"
   ]
  },
  {
   "cell_type": "markdown",
   "metadata": {},
   "source": [
    "---\n",
    "\n",
    "`ColumnTransformer` permite procesar distintos datasets.\n",
    "\n",
    "En conjunción con make_column_selector (que permite filtrar atributos por su tipo) es muy potente y cómodo."
   ]
  },
  {
   "cell_type": "code",
   "execution_count": 48,
   "metadata": {},
   "outputs": [
    {
     "data": {
      "text/plain": [
       "array([[ 0.90453403,  1.        ,  0.        ,  0.        ],\n",
       "       [-1.50755672,  1.        ,  0.        ,  0.        ],\n",
       "       [-0.30151134,  0.        ,  1.        ,  0.        ],\n",
       "       [ 0.90453403,  0.        ,  0.        ,  1.        ]])"
      ]
     },
     "execution_count": 48,
     "metadata": {},
     "output_type": "execute_result"
    }
   ],
   "source": [
    "from sklearn.compose import make_column_transformer\n",
    "from sklearn.compose import make_column_selector\n",
    "\n",
    "X = pd.DataFrame({'city': ['London', 'London', 'Paris', 'Sallisaw'],\n",
    "                  'rating': [5, 3, 4, 5]})\n",
    "ct = make_column_transformer(\n",
    "      (StandardScaler(),\n",
    "       make_column_selector(dtype_include=np.number)),  # rating\n",
    "      (OneHotEncoder(),\n",
    "       make_column_selector(dtype_include=object)))  # city\n",
    "ct.fit_transform(X)"
   ]
  },
  {
   "cell_type": "markdown",
   "metadata": {},
   "source": [
    "## Pipelines\n",
    "\n",
    "Facilitan aplicar distintos preprocesamientos.\n",
    "\n",
    "Un *pipeline* se compone de una serie de transformaciones que van sufriendo el\n",
    "dataset (se puede incluir el modelo a aprender).\n",
    "\n",
    "Un *pipeline* se usa igual que un modelo."
   ]
  },
  {
   "cell_type": "code",
   "execution_count": 49,
   "metadata": {},
   "outputs": [
    {
     "data": {
      "text/plain": [
       "0.9736842105263158"
      ]
     },
     "execution_count": 49,
     "metadata": {},
     "output_type": "execute_result"
    }
   ],
   "source": [
    "from sklearn.svm import SVC\n",
    "from sklearn.preprocessing import StandardScaler\n",
    "from sklearn.pipeline import Pipeline\n",
    "iris_targets = iris_dataset.target\n",
    "from sklearn.model_selection import cross_val_score, train_test_split\n",
    "X_train, X_test, y_train, y_test = train_test_split(X_iris, iris_targets,\n",
    "                                                    random_state=0)\n",
    "pipe = Pipeline([('scaler', StandardScaler()), ('svc', SVC())])\n",
    "pipe.fit(X_train, y_train)\n",
    "pipe.score(X_test, y_test)"
   ]
  },
  {
   "cell_type": "markdown",
   "metadata": {},
   "source": [
    "---"
   ]
  },
  {
   "cell_type": "markdown",
   "metadata": {},
   "source": [
    "También se puede aplicar con validación cruzada:"
   ]
  },
  {
   "cell_type": "code",
   "execution_count": 50,
   "metadata": {},
   "outputs": [
    {
     "name": "stdout",
     "output_type": "stream",
     "text": [
      "[0.96666667 0.96666667 0.96666667 0.93333333 1.        ]\n",
      "0.9666666666666666\n"
     ]
    }
   ],
   "source": [
    "from sklearn.model_selection import cross_val_score\n",
    "\n",
    "pipe = Pipeline([('scaler', StandardScaler()), ('svc', SVC())])\n",
    "scores = cross_val_score(pipe, X_iris, iris_targets, cv=5)\n",
    "print(scores)\n",
    "print(scores.mean())"
   ]
  },
  {
   "cell_type": "markdown",
   "metadata": {},
   "source": [
    "Por comodidad se puede usar `make_pipeline` con tantos atributos como\n",
    "procesamientos y/o mdelos."
   ]
  },
  {
   "cell_type": "code",
   "execution_count": 51,
   "metadata": {},
   "outputs": [
    {
     "data": {
      "text/plain": [
       "array([0.96666667, 0.96666667, 0.96666667, 0.93333333, 1.        ])"
      ]
     },
     "execution_count": 51,
     "metadata": {},
     "output_type": "execute_result"
    }
   ],
   "source": [
    "from sklearn.pipeline import make_pipeline\n",
    "from sklearn.svm import SVC\n",
    "\n",
    "model = make_pipeline(StandardScaler(), SVC(C=1))\n",
    "cross_val_score(model, X_iris, iris_targets, cv=5)"
   ]
  },
  {
   "cell_type": "markdown",
   "metadata": {},
   "source": [
    "## Generación de atributos polinomiales\n",
    "\n",
    "A veces es útil añadir complejidad a un modelo añadiendo características no lineales. `scikit-learn` incorpora dos estrategias:\n",
    "\n",
    "- Polinomiales.\n",
    "\n",
    "- Usando *splines*, trozos polinomiales.\n",
    "\n",
    "---"
   ]
  },
  {
   "cell_type": "markdown",
   "metadata": {},
   "source": [
    "## Polinomiales\n",
    "\n",
    "Construye atributos como combinación polinomial de los existentes.\n",
    "\n",
    "Si la entrada es [a, b] y se usa grado 2, los atributos polinomiales serían [1, a, b, a^2, ab, b^2]."
   ]
  },
  {
   "cell_type": "markdown",
   "metadata": {},
   "source": [
    "---"
   ]
  },
  {
   "cell_type": "code",
   "execution_count": 52,
   "metadata": {},
   "outputs": [
    {
     "name": "stdout",
     "output_type": "stream",
     "text": [
      "   sepal length (cm)  sepal width (cm)  petal length (cm)  petal width (cm)\n",
      "0                5.1               3.5                1.4               0.2\n",
      "1                4.9               3.0                1.4               0.2\n",
      "2                4.7               3.2                1.3               0.2\n",
      "    0    1    2    3    4      5      6     7     8      9     10    11    12  \\\n",
      "0  1.0  5.1  3.5  1.4  0.2  26.01  17.85  7.14  1.02  12.25  4.90  0.70  1.96   \n",
      "1  1.0  4.9  3.0  1.4  0.2  24.01  14.70  6.86  0.98   9.00  4.20  0.60  1.96   \n",
      "2  1.0  4.7  3.2  1.3  0.2  22.09  15.04  6.11  0.94  10.24  4.16  0.64  1.69   \n",
      "\n",
      "     13    14  \n",
      "0  0.28  0.04  \n",
      "1  0.28  0.04  \n",
      "2  0.26  0.04  \n"
     ]
    }
   ],
   "source": [
    "from sklearn.preprocessing import PolynomialFeatures\n",
    "#Build a polynomial features generator for the squared augmentation, this transforms (X1,X2) to (1,X1,X2,X1^2,X1X2,X2^2)\n",
    "poly = PolynomialFeatures(degree=2).fit(X_iris)\n",
    "print(X_iris.iloc[:3,])\n",
    "poly_X = pd.DataFrame(poly.transform(X_iris))\n",
    "print(poly_X.iloc[:3,])"
   ]
  },
  {
   "cell_type": "markdown",
   "metadata": {},
   "source": [
    "---"
   ]
  },
  {
   "cell_type": "markdown",
   "metadata": {},
   "source": [
    "A veces interesa solo las interacciones, se puede usar `interaction_only`."
   ]
  },
  {
   "cell_type": "code",
   "execution_count": 53,
   "metadata": {},
   "outputs": [
    {
     "name": "stdout",
     "output_type": "stream",
     "text": [
      "   sepal length (cm)  sepal width (cm)  petal length (cm)  petal width (cm)\n",
      "0                5.1               3.5                1.4               0.2\n",
      "1                4.9               3.0                1.4               0.2\n",
      "2                4.7               3.2                1.3               0.2\n",
      "3                4.6               3.1                1.5               0.2\n",
      "4                5.0               3.6                1.4               0.2\n",
      "    0    1    2    3    4      5     6     7     8     9     10\n",
      "0  1.0  5.1  3.5  1.4  0.2  17.85  7.14  1.02  4.90  0.70  0.28\n",
      "1  1.0  4.9  3.0  1.4  0.2  14.70  6.86  0.98  4.20  0.60  0.28\n",
      "2  1.0  4.7  3.2  1.3  0.2  15.04  6.11  0.94  4.16  0.64  0.26\n",
      "3  1.0  4.6  3.1  1.5  0.2  14.26  6.90  0.92  4.65  0.62  0.30\n",
      "4  1.0  5.0  3.6  1.4  0.2  18.00  7.00  1.00  5.04  0.72  0.28\n"
     ]
    }
   ],
   "source": [
    "#Sometimes only interaction terms are required, which can be obtained by setting interaction_only=True\n",
    "poly = PolynomialFeatures(degree=2, interaction_only=True).fit(X_iris)\n",
    "print(X_iris.iloc[:5,])\n",
    "poly_X = pd.DataFrame(poly.transform(X_iris))\n",
    "print(poly_X.iloc[:5,])"
   ]
  },
  {
   "cell_type": "markdown",
   "metadata": {},
   "source": [
    "# Ejercicios\n",
    "\n",
    "Leamos el conjunto de datos para practicar."
   ]
  },
  {
   "cell_type": "code",
   "execution_count": 54,
   "metadata": {},
   "outputs": [
    {
     "data": {
      "text/plain": [
       "Index(['id', 'amount_tsh', 'date_recorded', 'funder', 'gps_height',\n",
       "       'installer', 'longitude', 'latitude', 'wpt_name', 'num_private',\n",
       "       'basin', 'subvillage', 'region', 'region_code', 'district_code', 'lga',\n",
       "       'ward', 'population', 'public_meeting', 'recorded_by',\n",
       "       'scheme_management', 'scheme_name', 'permit', 'construction_year',\n",
       "       'extraction_type', 'extraction_type_group', 'extraction_type_class',\n",
       "       'management', 'management_group', 'payment', 'payment_type',\n",
       "       'water_quality', 'quality_group', 'quantity', 'quantity_group',\n",
       "       'source', 'source_type', 'source_class', 'waterpoint_type',\n",
       "       'waterpoint_type_group', 'status_group'],\n",
       "      dtype='object')"
      ]
     },
     "execution_count": 54,
     "metadata": {},
     "output_type": "execute_result"
    }
   ],
   "source": [
    "import pandas as pd\n",
    "df = pd.read_csv(\"tanzania_water_pump_org.csv\")\n",
    "df.columns"
   ]
  },
  {
   "cell_type": "markdown",
   "metadata": {},
   "source": [
    "---\n",
    "\n",
    "## Ejercicios de tratamiento de datos básico\n",
    "\n",
    "1. Mostrar algún diagrama para mostrar casos de nulos.\n",
    "\n",
    "2. Eliminar atributos con un número de nulos mayor que el 30%.\n",
    "\n",
    "3. Mostrar distribución de nulos.\n",
    "\n",
    "4. Comparar el número de filas eliminando y no eliminando nulos.\n",
    "\n",
    "5. Eliminar nulos sobre el original aplicando reemplazo correspondiente.\n"
   ]
  },
  {
   "cell_type": "markdown",
   "metadata": {},
   "source": [
    "## Ejercicios de transformación\n",
    "\n",
    "1. Cree atributos polinomiales sobre iris y aplique KNN --> ¿Hay diferencias de rendimiento?"
   ]
  },
  {
   "cell_type": "markdown",
   "metadata": {},
   "source": [
    "## Ejercicios de etiquetado\n",
    "\n",
    "1. Borrar la descripción.\n",
    "\n",
    "2. En el dataset de IMDB etiquetar el género usando el MultiLabel.\n",
    "\n",
    "3. Etiquetar el director usando etiquetado.\n",
    "\n",
    "4. Etiquetar el director usando HotEncoder.\n",
    "\n",
    "5. Comparar resultados entre 3 y 4.\n",
    "\n",
    "## Ejercicios de distancia\n",
    "\n",
    "1. Aplica la distancia de Jaccard entre dos películas del mismo director (¿Repite actores?)\n",
    "\n",
    "2. Repite el punto 1 para las otras distancias de atributos nominales vistas (Coseno por ej.)\n",
    "\n",
    "3. Utliza el parámetro \"metric=cosine\" en KNN frente a la distancia euclídea para ver qué diferencia de rendimiento hay (aplica OneHotEncoding para hacer la distancia coseno al conjunto de datos).\n",
    "\n",
    "## Ejercicios de Pipeline\n",
    "\n",
    "1. Aplicar con ColumnTransformer y Pipeline para automatizar las transformaciones anteriores con el IMDB (sin aplicar el paso 5 anterior)."
   ]
  }
 ],
 "metadata": {
  "kernelspec": {
   "display_name": "base",
   "language": "python",
   "name": "python3"
  },
  "language_info": {
   "codemirror_mode": {
    "name": "ipython",
    "version": 3
   },
   "file_extension": ".py",
   "mimetype": "text/x-python",
   "name": "python",
   "nbconvert_exporter": "python",
   "pygments_lexer": "ipython3",
   "version": "3.12.4"
  }
 },
 "nbformat": 4,
 "nbformat_minor": 4
}
