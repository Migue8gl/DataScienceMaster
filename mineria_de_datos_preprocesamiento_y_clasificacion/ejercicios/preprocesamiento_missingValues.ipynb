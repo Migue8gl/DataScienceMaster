{
 "cells": [
  {
   "cell_type": "markdown",
   "metadata": {},
   "source": [
    "# Valores perdidos\n",
    "\n",
    "\n",
    "Un problema habitual suele consistir en la presencia de datos ausentes o valores perdidos.\n",
    "\n",
    "Es importante tener claro cómo leer los datos indicando la posible ausencia de\n",
    "valor, usando *na_values*:"
   ]
  },
  {
   "cell_type": "code",
   "execution_count": 40,
   "metadata": {},
   "outputs": [
    {
     "ename": "FileNotFoundError",
     "evalue": "[Errno 2] No such file or directory: 'nulos.csv'",
     "output_type": "error",
     "traceback": [
      "\u001b[0;31m---------------------------------------------------------------------------\u001b[0m",
      "\u001b[0;31mFileNotFoundError\u001b[0m                         Traceback (most recent call last)",
      "Cell \u001b[0;32mIn[40], line 4\u001b[0m\n\u001b[1;32m      1\u001b[0m \u001b[38;5;28;01mfrom\u001b[39;00m \u001b[38;5;21;01mpandas\u001b[39;00m \u001b[38;5;28;01mimport\u001b[39;00m read_csv\n\u001b[1;32m      2\u001b[0m \u001b[38;5;28;01mimport\u001b[39;00m \u001b[38;5;21;01mpandas\u001b[39;00m \u001b[38;5;28;01mas\u001b[39;00m \u001b[38;5;21;01mpd\u001b[39;00m\n\u001b[0;32m----> 4\u001b[0m data \u001b[38;5;241m=\u001b[39m \u001b[43mpd\u001b[49m\u001b[38;5;241;43m.\u001b[39;49m\u001b[43mread_csv\u001b[49m\u001b[43m(\u001b[49m\u001b[38;5;124;43m\"\u001b[39;49m\u001b[38;5;124;43mnulos.csv\u001b[39;49m\u001b[38;5;124;43m\"\u001b[39;49m\u001b[43m,\u001b[49m\u001b[43m \u001b[49m\u001b[43mna_values\u001b[49m\u001b[38;5;241;43m=\u001b[39;49m\u001b[43m[\u001b[49m\u001b[38;5;124;43m'\u001b[39;49m\u001b[38;5;124;43m?\u001b[39;49m\u001b[38;5;124;43m'\u001b[39;49m\u001b[43m,\u001b[49m\u001b[43m \u001b[49m\u001b[38;5;124;43m'\u001b[39;49m\u001b[38;5;124;43m'\u001b[39;49m\u001b[43m,\u001b[49m\u001b[43m \u001b[49m\u001b[38;5;124;43m'\u001b[39;49m\u001b[38;5;124;43mNA\u001b[39;49m\u001b[38;5;124;43m'\u001b[39;49m\u001b[43m]\u001b[49m\u001b[43m)\u001b[49m\n\u001b[1;32m      5\u001b[0m data\u001b[38;5;241m.\u001b[39misnull()\u001b[38;5;241m.\u001b[39msum()\n",
      "File \u001b[0;32m~/Desktop/Master/MDPC/venv/lib/python3.12/site-packages/pandas/io/parsers/readers.py:1026\u001b[0m, in \u001b[0;36mread_csv\u001b[0;34m(filepath_or_buffer, sep, delimiter, header, names, index_col, usecols, dtype, engine, converters, true_values, false_values, skipinitialspace, skiprows, skipfooter, nrows, na_values, keep_default_na, na_filter, verbose, skip_blank_lines, parse_dates, infer_datetime_format, keep_date_col, date_parser, date_format, dayfirst, cache_dates, iterator, chunksize, compression, thousands, decimal, lineterminator, quotechar, quoting, doublequote, escapechar, comment, encoding, encoding_errors, dialect, on_bad_lines, delim_whitespace, low_memory, memory_map, float_precision, storage_options, dtype_backend)\u001b[0m\n\u001b[1;32m   1013\u001b[0m kwds_defaults \u001b[38;5;241m=\u001b[39m _refine_defaults_read(\n\u001b[1;32m   1014\u001b[0m     dialect,\n\u001b[1;32m   1015\u001b[0m     delimiter,\n\u001b[0;32m   (...)\u001b[0m\n\u001b[1;32m   1022\u001b[0m     dtype_backend\u001b[38;5;241m=\u001b[39mdtype_backend,\n\u001b[1;32m   1023\u001b[0m )\n\u001b[1;32m   1024\u001b[0m kwds\u001b[38;5;241m.\u001b[39mupdate(kwds_defaults)\n\u001b[0;32m-> 1026\u001b[0m \u001b[38;5;28;01mreturn\u001b[39;00m \u001b[43m_read\u001b[49m\u001b[43m(\u001b[49m\u001b[43mfilepath_or_buffer\u001b[49m\u001b[43m,\u001b[49m\u001b[43m \u001b[49m\u001b[43mkwds\u001b[49m\u001b[43m)\u001b[49m\n",
      "File \u001b[0;32m~/Desktop/Master/MDPC/venv/lib/python3.12/site-packages/pandas/io/parsers/readers.py:620\u001b[0m, in \u001b[0;36m_read\u001b[0;34m(filepath_or_buffer, kwds)\u001b[0m\n\u001b[1;32m    617\u001b[0m _validate_names(kwds\u001b[38;5;241m.\u001b[39mget(\u001b[38;5;124m\"\u001b[39m\u001b[38;5;124mnames\u001b[39m\u001b[38;5;124m\"\u001b[39m, \u001b[38;5;28;01mNone\u001b[39;00m))\n\u001b[1;32m    619\u001b[0m \u001b[38;5;66;03m# Create the parser.\u001b[39;00m\n\u001b[0;32m--> 620\u001b[0m parser \u001b[38;5;241m=\u001b[39m \u001b[43mTextFileReader\u001b[49m\u001b[43m(\u001b[49m\u001b[43mfilepath_or_buffer\u001b[49m\u001b[43m,\u001b[49m\u001b[43m \u001b[49m\u001b[38;5;241;43m*\u001b[39;49m\u001b[38;5;241;43m*\u001b[39;49m\u001b[43mkwds\u001b[49m\u001b[43m)\u001b[49m\n\u001b[1;32m    622\u001b[0m \u001b[38;5;28;01mif\u001b[39;00m chunksize \u001b[38;5;129;01mor\u001b[39;00m iterator:\n\u001b[1;32m    623\u001b[0m     \u001b[38;5;28;01mreturn\u001b[39;00m parser\n",
      "File \u001b[0;32m~/Desktop/Master/MDPC/venv/lib/python3.12/site-packages/pandas/io/parsers/readers.py:1620\u001b[0m, in \u001b[0;36mTextFileReader.__init__\u001b[0;34m(self, f, engine, **kwds)\u001b[0m\n\u001b[1;32m   1617\u001b[0m     \u001b[38;5;28mself\u001b[39m\u001b[38;5;241m.\u001b[39moptions[\u001b[38;5;124m\"\u001b[39m\u001b[38;5;124mhas_index_names\u001b[39m\u001b[38;5;124m\"\u001b[39m] \u001b[38;5;241m=\u001b[39m kwds[\u001b[38;5;124m\"\u001b[39m\u001b[38;5;124mhas_index_names\u001b[39m\u001b[38;5;124m\"\u001b[39m]\n\u001b[1;32m   1619\u001b[0m \u001b[38;5;28mself\u001b[39m\u001b[38;5;241m.\u001b[39mhandles: IOHandles \u001b[38;5;241m|\u001b[39m \u001b[38;5;28;01mNone\u001b[39;00m \u001b[38;5;241m=\u001b[39m \u001b[38;5;28;01mNone\u001b[39;00m\n\u001b[0;32m-> 1620\u001b[0m \u001b[38;5;28mself\u001b[39m\u001b[38;5;241m.\u001b[39m_engine \u001b[38;5;241m=\u001b[39m \u001b[38;5;28;43mself\u001b[39;49m\u001b[38;5;241;43m.\u001b[39;49m\u001b[43m_make_engine\u001b[49m\u001b[43m(\u001b[49m\u001b[43mf\u001b[49m\u001b[43m,\u001b[49m\u001b[43m \u001b[49m\u001b[38;5;28;43mself\u001b[39;49m\u001b[38;5;241;43m.\u001b[39;49m\u001b[43mengine\u001b[49m\u001b[43m)\u001b[49m\n",
      "File \u001b[0;32m~/Desktop/Master/MDPC/venv/lib/python3.12/site-packages/pandas/io/parsers/readers.py:1880\u001b[0m, in \u001b[0;36mTextFileReader._make_engine\u001b[0;34m(self, f, engine)\u001b[0m\n\u001b[1;32m   1878\u001b[0m     \u001b[38;5;28;01mif\u001b[39;00m \u001b[38;5;124m\"\u001b[39m\u001b[38;5;124mb\u001b[39m\u001b[38;5;124m\"\u001b[39m \u001b[38;5;129;01mnot\u001b[39;00m \u001b[38;5;129;01min\u001b[39;00m mode:\n\u001b[1;32m   1879\u001b[0m         mode \u001b[38;5;241m+\u001b[39m\u001b[38;5;241m=\u001b[39m \u001b[38;5;124m\"\u001b[39m\u001b[38;5;124mb\u001b[39m\u001b[38;5;124m\"\u001b[39m\n\u001b[0;32m-> 1880\u001b[0m \u001b[38;5;28mself\u001b[39m\u001b[38;5;241m.\u001b[39mhandles \u001b[38;5;241m=\u001b[39m \u001b[43mget_handle\u001b[49m\u001b[43m(\u001b[49m\n\u001b[1;32m   1881\u001b[0m \u001b[43m    \u001b[49m\u001b[43mf\u001b[49m\u001b[43m,\u001b[49m\n\u001b[1;32m   1882\u001b[0m \u001b[43m    \u001b[49m\u001b[43mmode\u001b[49m\u001b[43m,\u001b[49m\n\u001b[1;32m   1883\u001b[0m \u001b[43m    \u001b[49m\u001b[43mencoding\u001b[49m\u001b[38;5;241;43m=\u001b[39;49m\u001b[38;5;28;43mself\u001b[39;49m\u001b[38;5;241;43m.\u001b[39;49m\u001b[43moptions\u001b[49m\u001b[38;5;241;43m.\u001b[39;49m\u001b[43mget\u001b[49m\u001b[43m(\u001b[49m\u001b[38;5;124;43m\"\u001b[39;49m\u001b[38;5;124;43mencoding\u001b[39;49m\u001b[38;5;124;43m\"\u001b[39;49m\u001b[43m,\u001b[49m\u001b[43m \u001b[49m\u001b[38;5;28;43;01mNone\u001b[39;49;00m\u001b[43m)\u001b[49m\u001b[43m,\u001b[49m\n\u001b[1;32m   1884\u001b[0m \u001b[43m    \u001b[49m\u001b[43mcompression\u001b[49m\u001b[38;5;241;43m=\u001b[39;49m\u001b[38;5;28;43mself\u001b[39;49m\u001b[38;5;241;43m.\u001b[39;49m\u001b[43moptions\u001b[49m\u001b[38;5;241;43m.\u001b[39;49m\u001b[43mget\u001b[49m\u001b[43m(\u001b[49m\u001b[38;5;124;43m\"\u001b[39;49m\u001b[38;5;124;43mcompression\u001b[39;49m\u001b[38;5;124;43m\"\u001b[39;49m\u001b[43m,\u001b[49m\u001b[43m \u001b[49m\u001b[38;5;28;43;01mNone\u001b[39;49;00m\u001b[43m)\u001b[49m\u001b[43m,\u001b[49m\n\u001b[1;32m   1885\u001b[0m \u001b[43m    \u001b[49m\u001b[43mmemory_map\u001b[49m\u001b[38;5;241;43m=\u001b[39;49m\u001b[38;5;28;43mself\u001b[39;49m\u001b[38;5;241;43m.\u001b[39;49m\u001b[43moptions\u001b[49m\u001b[38;5;241;43m.\u001b[39;49m\u001b[43mget\u001b[49m\u001b[43m(\u001b[49m\u001b[38;5;124;43m\"\u001b[39;49m\u001b[38;5;124;43mmemory_map\u001b[39;49m\u001b[38;5;124;43m\"\u001b[39;49m\u001b[43m,\u001b[49m\u001b[43m \u001b[49m\u001b[38;5;28;43;01mFalse\u001b[39;49;00m\u001b[43m)\u001b[49m\u001b[43m,\u001b[49m\n\u001b[1;32m   1886\u001b[0m \u001b[43m    \u001b[49m\u001b[43mis_text\u001b[49m\u001b[38;5;241;43m=\u001b[39;49m\u001b[43mis_text\u001b[49m\u001b[43m,\u001b[49m\n\u001b[1;32m   1887\u001b[0m \u001b[43m    \u001b[49m\u001b[43merrors\u001b[49m\u001b[38;5;241;43m=\u001b[39;49m\u001b[38;5;28;43mself\u001b[39;49m\u001b[38;5;241;43m.\u001b[39;49m\u001b[43moptions\u001b[49m\u001b[38;5;241;43m.\u001b[39;49m\u001b[43mget\u001b[49m\u001b[43m(\u001b[49m\u001b[38;5;124;43m\"\u001b[39;49m\u001b[38;5;124;43mencoding_errors\u001b[39;49m\u001b[38;5;124;43m\"\u001b[39;49m\u001b[43m,\u001b[49m\u001b[43m \u001b[49m\u001b[38;5;124;43m\"\u001b[39;49m\u001b[38;5;124;43mstrict\u001b[39;49m\u001b[38;5;124;43m\"\u001b[39;49m\u001b[43m)\u001b[49m\u001b[43m,\u001b[49m\n\u001b[1;32m   1888\u001b[0m \u001b[43m    \u001b[49m\u001b[43mstorage_options\u001b[49m\u001b[38;5;241;43m=\u001b[39;49m\u001b[38;5;28;43mself\u001b[39;49m\u001b[38;5;241;43m.\u001b[39;49m\u001b[43moptions\u001b[49m\u001b[38;5;241;43m.\u001b[39;49m\u001b[43mget\u001b[49m\u001b[43m(\u001b[49m\u001b[38;5;124;43m\"\u001b[39;49m\u001b[38;5;124;43mstorage_options\u001b[39;49m\u001b[38;5;124;43m\"\u001b[39;49m\u001b[43m,\u001b[49m\u001b[43m \u001b[49m\u001b[38;5;28;43;01mNone\u001b[39;49;00m\u001b[43m)\u001b[49m\u001b[43m,\u001b[49m\n\u001b[1;32m   1889\u001b[0m \u001b[43m\u001b[49m\u001b[43m)\u001b[49m\n\u001b[1;32m   1890\u001b[0m \u001b[38;5;28;01massert\u001b[39;00m \u001b[38;5;28mself\u001b[39m\u001b[38;5;241m.\u001b[39mhandles \u001b[38;5;129;01mis\u001b[39;00m \u001b[38;5;129;01mnot\u001b[39;00m \u001b[38;5;28;01mNone\u001b[39;00m\n\u001b[1;32m   1891\u001b[0m f \u001b[38;5;241m=\u001b[39m \u001b[38;5;28mself\u001b[39m\u001b[38;5;241m.\u001b[39mhandles\u001b[38;5;241m.\u001b[39mhandle\n",
      "File \u001b[0;32m~/Desktop/Master/MDPC/venv/lib/python3.12/site-packages/pandas/io/common.py:873\u001b[0m, in \u001b[0;36mget_handle\u001b[0;34m(path_or_buf, mode, encoding, compression, memory_map, is_text, errors, storage_options)\u001b[0m\n\u001b[1;32m    868\u001b[0m \u001b[38;5;28;01melif\u001b[39;00m \u001b[38;5;28misinstance\u001b[39m(handle, \u001b[38;5;28mstr\u001b[39m):\n\u001b[1;32m    869\u001b[0m     \u001b[38;5;66;03m# Check whether the filename is to be opened in binary mode.\u001b[39;00m\n\u001b[1;32m    870\u001b[0m     \u001b[38;5;66;03m# Binary mode does not support 'encoding' and 'newline'.\u001b[39;00m\n\u001b[1;32m    871\u001b[0m     \u001b[38;5;28;01mif\u001b[39;00m ioargs\u001b[38;5;241m.\u001b[39mencoding \u001b[38;5;129;01mand\u001b[39;00m \u001b[38;5;124m\"\u001b[39m\u001b[38;5;124mb\u001b[39m\u001b[38;5;124m\"\u001b[39m \u001b[38;5;129;01mnot\u001b[39;00m \u001b[38;5;129;01min\u001b[39;00m ioargs\u001b[38;5;241m.\u001b[39mmode:\n\u001b[1;32m    872\u001b[0m         \u001b[38;5;66;03m# Encoding\u001b[39;00m\n\u001b[0;32m--> 873\u001b[0m         handle \u001b[38;5;241m=\u001b[39m \u001b[38;5;28;43mopen\u001b[39;49m\u001b[43m(\u001b[49m\n\u001b[1;32m    874\u001b[0m \u001b[43m            \u001b[49m\u001b[43mhandle\u001b[49m\u001b[43m,\u001b[49m\n\u001b[1;32m    875\u001b[0m \u001b[43m            \u001b[49m\u001b[43mioargs\u001b[49m\u001b[38;5;241;43m.\u001b[39;49m\u001b[43mmode\u001b[49m\u001b[43m,\u001b[49m\n\u001b[1;32m    876\u001b[0m \u001b[43m            \u001b[49m\u001b[43mencoding\u001b[49m\u001b[38;5;241;43m=\u001b[39;49m\u001b[43mioargs\u001b[49m\u001b[38;5;241;43m.\u001b[39;49m\u001b[43mencoding\u001b[49m\u001b[43m,\u001b[49m\n\u001b[1;32m    877\u001b[0m \u001b[43m            \u001b[49m\u001b[43merrors\u001b[49m\u001b[38;5;241;43m=\u001b[39;49m\u001b[43merrors\u001b[49m\u001b[43m,\u001b[49m\n\u001b[1;32m    878\u001b[0m \u001b[43m            \u001b[49m\u001b[43mnewline\u001b[49m\u001b[38;5;241;43m=\u001b[39;49m\u001b[38;5;124;43m\"\u001b[39;49m\u001b[38;5;124;43m\"\u001b[39;49m\u001b[43m,\u001b[49m\n\u001b[1;32m    879\u001b[0m \u001b[43m        \u001b[49m\u001b[43m)\u001b[49m\n\u001b[1;32m    880\u001b[0m     \u001b[38;5;28;01melse\u001b[39;00m:\n\u001b[1;32m    881\u001b[0m         \u001b[38;5;66;03m# Binary mode\u001b[39;00m\n\u001b[1;32m    882\u001b[0m         handle \u001b[38;5;241m=\u001b[39m \u001b[38;5;28mopen\u001b[39m(handle, ioargs\u001b[38;5;241m.\u001b[39mmode)\n",
      "\u001b[0;31mFileNotFoundError\u001b[0m: [Errno 2] No such file or directory: 'nulos.csv'"
     ]
    }
   ],
   "source": [
    "from pandas import read_csv\n",
    "import pandas as pd\n",
    "\n",
    "data = pd.read_csv(\"nulos.csv\", na_values=['?', '', 'NA'])\n",
    "data.isnull().sum()"
   ]
  },
  {
   "cell_type": "markdown",
   "metadata": {},
   "source": [
    "---\n",
    "\n",
    "Hay múltiples técnicas para tratar los datos perdidos. Es importante valorar si la\n",
    "técnica de aprendizaje es capaz de trabajar con datos perdidos o no.\n",
    "\n",
    "Para conocer los nulos (en porcentaje):"
   ]
  },
  {
   "cell_type": "code",
   "execution_count": null,
   "metadata": {},
   "outputs": [
    {
     "data": {
      "text/plain": [
       "nombre        0.00\n",
       "edad          0.25\n",
       "color_pelo    0.50\n",
       "ciudad        0.00\n",
       "dtype: float64"
      ]
     },
     "execution_count": 2,
     "metadata": {},
     "output_type": "execute_result"
    }
   ],
   "source": [
    "ratio_nulos = data.isnull().sum()/data.shape[0]\n",
    "ratio_nulos"
   ]
  },
  {
   "cell_type": "markdown",
   "metadata": {},
   "source": [
    "## Opción directa (eliminar nulos)\n",
    "\n",
    "Se pueden eliminar o bien los atributos que tienen demasiados nulos, o eliminar\n",
    "tuplas.\n",
    "\n",
    "Eliminar atributos que superen un umbral:"
   ]
  },
  {
   "cell_type": "code",
   "execution_count": null,
   "metadata": {},
   "outputs": [
    {
     "name": "stdout",
     "output_type": "stream",
     "text": [
      "     nombre  edad   ciudad\n",
      "0    Daniel   NaN  Granada\n",
      "1      Luis  46.0  Granada\n",
      "2      Ivan  39.0    Cadiz\n",
      "3  Virginia  41.0    Paris\n"
     ]
    },
    {
     "name": "stderr",
     "output_type": "stream",
     "text": [
      "C:\\Users\\julian\\AppData\\Local\\Temp\\ipykernel_7924\\1999010102.py:4: FutureWarning: Series.__getitem__ treating keys as positions is deprecated. In a future version, integer keys will always be treated as labels (consistent with DataFrame behavior). To access a value by position, use `ser.iloc[pos]`\n",
      "  if ratio_nulos[i] > 0.4:\n",
      "C:\\Users\\julian\\AppData\\Local\\Temp\\ipykernel_7924\\1999010102.py:4: FutureWarning: Series.__getitem__ treating keys as positions is deprecated. In a future version, integer keys will always be treated as labels (consistent with DataFrame behavior). To access a value by position, use `ser.iloc[pos]`\n",
      "  if ratio_nulos[i] > 0.4:\n"
     ]
    }
   ],
   "source": [
    "data2 = data.copy()\n",
    "\n",
    "for i, atrib in enumerate(data):\n",
    "    if ratio_nulos[i] > 0.4:\n",
    "        data2.drop(atrib, axis=1, inplace=True)\n",
    "\n",
    "print(data2)"
   ]
  },
  {
   "cell_type": "markdown",
   "metadata": {},
   "source": [
    "---"
   ]
  },
  {
   "cell_type": "markdown",
   "metadata": {},
   "source": [
    "Eliminar todas las filas con algún nulo"
   ]
  },
  {
   "cell_type": "code",
   "execution_count": null,
   "metadata": {},
   "outputs": [
    {
     "name": "stdout",
     "output_type": "stream",
     "text": [
      "     nombre  edad color_pelo ciudad\n",
      "3  Virginia  41.0      negro  Paris\n"
     ]
    }
   ],
   "source": [
    "data_drop = data.dropna()\n",
    "print(data_drop)"
   ]
  },
  {
   "cell_type": "code",
   "execution_count": null,
   "metadata": {},
   "outputs": [
    {
     "name": "stdout",
     "output_type": "stream",
     "text": [
      "     nombre  edad   ciudad\n",
      "1      Luis  46.0  Granada\n",
      "2      Ivan  39.0    Cadiz\n",
      "3  Virginia  41.0    Paris\n"
     ]
    }
   ],
   "source": [
    "data_drop = data2.dropna()\n",
    "print(data_drop)"
   ]
  },
  {
   "cell_type": "markdown",
   "metadata": {},
   "source": [
    "## Tratar valores perdidos con paquetes externos\n",
    "\n",
    "Dado que los métodos de aprendizaje en `scikit-learn` no son compatibles en su mayoría con valores perdidos,\n",
    "vamos a probar distintas opciones que la propia librería nos permite."
   ]
  },
  {
   "cell_type": "code",
   "execution_count": null,
   "metadata": {},
   "outputs": [],
   "source": [
    "#| echo: false\n",
    "import pandas as pd\n",
    "import numpy as np\n",
    "from sklearn import datasets\n",
    "iris_dataset = datasets.load_iris(as_frame=True)\n",
    "X_iris = iris_dataset.data.copy()"
   ]
  },
  {
   "cell_type": "markdown",
   "metadata": {},
   "source": [
    "Para probar los métodos añadidos nulos al dataset:"
   ]
  },
  {
   "cell_type": "code",
   "execution_count": null,
   "metadata": {},
   "outputs": [],
   "source": [
    "#Prepare the dataset to test sk-learn imputation values tools\n",
    "np.random.seed(42)\n",
    "rows = np.random.randint(0, np.shape(X_iris)[0], 50)\n",
    "# No modifico la última característica\n",
    "cols = np.random.randint(0, np.shape(X_iris)[1]-1, 50)\n",
    "X_iris_missing = X_iris.to_numpy()\n",
    "#Add missing values in random entries from the iris dataset\n",
    "X_iris_missing[rows, cols] = np.NaN\n",
    "X_iris_missing = pd.DataFrame(X_iris_missing, columns=X_iris.columns)"
   ]
  },
  {
   "cell_type": "markdown",
   "metadata": {},
   "source": [
    "---\n",
    "\n",
    "Tenemos ahora nulos"
   ]
  },
  {
   "cell_type": "code",
   "execution_count": null,
   "metadata": {},
   "outputs": [
    {
     "name": "stdout",
     "output_type": "stream",
     "text": [
      "   sepal length (cm)  sepal width (cm)  petal length (cm)  petal width (cm)\n",
      "0                5.1               3.5                1.4               0.2\n",
      "1                4.9               NaN                1.4               0.2\n",
      "2                4.7               3.2                1.3               0.2\n",
      "3                4.6               3.1                1.5               0.2\n",
      "4                5.0               3.6                1.4               0.2\n",
      "5                5.4               3.9                1.7               0.4\n",
      "6                4.6               3.4                1.4               0.3\n",
      "7                NaN               3.4                1.5               0.2\n",
      "8                4.4               2.9                NaN               0.2\n",
      "9                4.9               3.1                1.5               0.1\n"
     ]
    }
   ],
   "source": [
    "print(X_iris_missing.iloc[:10,:])"
   ]
  },
  {
   "cell_type": "markdown",
   "metadata": {},
   "source": [
    "## Visualizando perdidos\n",
    "\n",
    "El paquete [yellowbricks](https://www.scikit-yb.org/en/latest/index.html)\n",
    "presenta muchas opciones visuales.\n",
    "\n",
    "conda install -c districtdatalabs yellowbrick"
   ]
  },
  {
   "cell_type": "code",
   "execution_count": null,
   "metadata": {},
   "outputs": [
    {
     "name": "stderr",
     "output_type": "stream",
     "text": [
      "c:\\Users\\julian\\anaconda3\\lib\\site-packages\\yellowbrick\\contrib\\missing\\bar.py:205: UserWarning: No artists with labels found to put in legend.  Note that artists whose label start with an underscore are ignored when legend() is called with no argument.\n",
      "  self.ax.legend(loc=\"best\")\n"
     ]
    },
    {
     "data": {
      "image/png": "[encoded data removed]",
      "text/plain": [
       "<Figure size 800x550 with 1 Axes>"
      ]
     },
     "metadata": {},
     "output_type": "display_data"
    },
    {
     "data": {
      "text/plain": [
       "<Axes: title={'center': 'Count of Missing Values by Column'}, xlabel='Count'>"
      ]
     },
     "execution_count": 9,
     "metadata": {},
     "output_type": "execute_result"
    }
   ],
   "source": [
    "from yellowbrick.contrib.missing import MissingValuesBar\n",
    "visualizer = MissingValuesBar(features=X_iris_missing.columns)\n",
    "visualizer.fit(X_iris_missing); visualizer.show()"
   ]
  },
  {
   "cell_type": "markdown",
   "metadata": {},
   "source": [
    "## Imputación Univariante\n",
    "\n",
    "Los objetos de tipo *Impute* permite reemplazar los valores nulos. Para ello\n",
    "pueden usar un valor constante o una estadística (media, mediana o más\n",
    "frecuente) para cada columna con nulos.\n"
   ]
  },
  {
   "cell_type": "code",
   "execution_count": null,
   "metadata": {},
   "outputs": [
    {
     "name": "stdout",
     "output_type": "stream",
     "text": [
      "   sepal length (cm)  sepal width (cm)  petal length (cm)  petal width (cm)\n",
      "0           5.100000          3.500000           1.400000               0.2\n",
      "1           4.900000          3.060606           1.400000               0.2\n",
      "2           4.700000          3.200000           1.300000               0.2\n",
      "3           4.600000          3.100000           1.500000               0.2\n",
      "4           5.000000          3.600000           1.400000               0.2\n",
      "5           5.400000          3.900000           1.700000               0.4\n",
      "6           4.600000          3.400000           1.400000               0.3\n",
      "7           5.832836          3.400000           1.500000               0.2\n",
      "8           4.400000          2.900000           3.759124               0.2\n",
      "9           4.900000          3.100000           1.500000               0.1\n"
     ]
    }
   ],
   "source": [
    "from sklearn.impute import SimpleImputer\n",
    "# strategy puede ser \"mean\", \"median\", \"most_frequent\", \"constant\".\n",
    "imp = SimpleImputer(missing_values=np.nan, strategy='mean')\n",
    "imputed_X = pd.DataFrame(imp.fit_transform(X_iris_missing), columns=X_iris.columns)\n",
    "print(imputed_X.iloc[:10,:])"
   ]
  },
  {
   "cell_type": "markdown",
   "metadata": {},
   "source": [
    "## Usando KNN\n",
    "\n",
    "Se pueden imputar usando el algoritmo de K vecinos (KNN). Para cada atributo\n",
    "perdido se calcula a partir de los K vecinos más cercanos que no sea nulo. Los\n",
    "vecinos pueden ser diferentes para cada atributo.\n",
    "\n",
    "Si no encuentra vecinos sin nulos, el atributo es borrado.\n",
    "\n",
    "<!-- Missing values can be imputed by the nearest nearest neighbors imputation approach. An euclidean distance metric that supports missing values is used to find the nearest neighbors. Each missing feature is imputed using values from its nearest neighbors that have a value for the feature. The feature of the neighbors are averaged uniformly or weighted by distance to each neighbor. If a sample has more than one feature missing, then the neighbors for that sample can be different depending on the particular feature being imputed. When the number of available neighbors is less than n_neighbors and there are no defined distances to the training set, the training set average for that feature is used during imputation. If there is at least one neighbor with a defined distance, the weighted or unweighted average of the remaining neighbors will be used during imputation. If a feature is always missing in training, it is removed during transform. -->"
   ]
  },
  {
   "cell_type": "code",
   "execution_count": null,
   "metadata": {},
   "outputs": [
    {
     "name": "stdout",
     "output_type": "stream",
     "text": [
      "   sepal length (cm)  sepal width (cm)  petal length (cm)  petal width (cm)\n",
      "0               5.10              3.50              1.400               0.2\n",
      "1               4.90              3.45              1.400               0.2\n",
      "2               4.70              3.20              1.300               0.2\n",
      "3               4.60              3.10              1.500               0.2\n",
      "4               5.00              3.60              1.400               0.2\n",
      "5               5.40              3.90              1.700               0.4\n",
      "6               4.60              3.40              1.400               0.3\n",
      "7               5.15              3.40              1.500               0.2\n",
      "8               4.40              2.90              1.375               0.2\n",
      "9               4.90              3.10              1.500               0.1\n"
     ]
    }
   ],
   "source": [
    "from sklearn.impute import KNNImputer\n",
    "Knn_imp = KNNImputer(n_neighbors=4).fit(X_iris_missing)\n",
    "imputed_X = pd.DataFrame(Knn_imp.transform(X_iris_missing), columns=X_iris.columns)\n",
    "print(imputed_X.iloc[:10,:])"
   ]
  },
  {
   "cell_type": "markdown",
   "metadata": {},
   "source": [
    "# Multiple imputation\n",
    "\n",
    "## Multiple imputation con regresor lineal (MICE)\n",
    "\n",
    "Asumiendo que los valores que tenemos en el conjunto de datos provienen de una muestra de una distribución, la aproximación de la imputación múltiple propone realizar varias muestras de la distribución para el valor perdido y luego realizar una agregación (la media, la agregación de varios modelos, etc.)"
   ]
  },
  {
   "cell_type": "code",
   "execution_count": null,
   "metadata": {},
   "outputs": [
    {
     "name": "stdout",
     "output_type": "stream",
     "text": [
      "[IterativeImputer] Completing matrix with shape (150, 4)\n",
      "[IterativeImputer] Ending imputation round 1/15, elapsed time 0.01\n",
      "[IterativeImputer] Change: 2.68655517775566, scaled tolerance: 7.900000000000001e-10 \n",
      "[IterativeImputer] Ending imputation round 2/15, elapsed time 0.01\n",
      "[IterativeImputer] Change: 0.6475788532615661, scaled tolerance: 7.900000000000001e-10 \n",
      "[IterativeImputer] Ending imputation round 3/15, elapsed time 0.02\n",
      "[IterativeImputer] Change: 0.3710865841111257, scaled tolerance: 7.900000000000001e-10 \n",
      "[IterativeImputer] Ending imputation round 4/15, elapsed time 0.02\n",
      "[IterativeImputer] Change: 0.20429844677781617, scaled tolerance: 7.900000000000001e-10 \n",
      "[IterativeImputer] Ending imputation round 5/15, elapsed time 0.02\n",
      "[IterativeImputer] Change: 0.104929351587014, scaled tolerance: 7.900000000000001e-10 \n",
      "[IterativeImputer] Ending imputation round 6/15, elapsed time 0.02\n",
      "[IterativeImputer] Change: 0.04918309863007697, scaled tolerance: 7.900000000000001e-10 \n",
      "[IterativeImputer] Ending imputation round 7/15, elapsed time 0.03\n",
      "[IterativeImputer] Change: 0.02618712194691808, scaled tolerance: 7.900000000000001e-10 \n",
      "[IterativeImputer] Ending imputation round 8/15, elapsed time 0.03\n",
      "[IterativeImputer] Change: 0.015022433165508442, scaled tolerance: 7.900000000000001e-10 \n",
      "[IterativeImputer] Ending imputation round 9/15, elapsed time 0.03\n",
      "[IterativeImputer] Change: 0.008957285110333002, scaled tolerance: 7.900000000000001e-10 \n",
      "[IterativeImputer] Ending imputation round 10/15, elapsed time 0.04\n",
      "[IterativeImputer] Change: 0.006372513087278486, scaled tolerance: 7.900000000000001e-10 \n",
      "[IterativeImputer] Ending imputation round 11/15, elapsed time 0.04\n",
      "[IterativeImputer] Change: 0.004173236746041642, scaled tolerance: 7.900000000000001e-10 \n",
      "[IterativeImputer] Ending imputation round 12/15, elapsed time 0.04\n",
      "[IterativeImputer] Change: 0.002557996206143942, scaled tolerance: 7.900000000000001e-10 \n",
      "[IterativeImputer] Ending imputation round 13/15, elapsed time 0.05\n",
      "[IterativeImputer] Change: 0.0015346899204604636, scaled tolerance: 7.900000000000001e-10 \n",
      "[IterativeImputer] Ending imputation round 14/15, elapsed time 0.05\n",
      "[IterativeImputer] Change: 0.0010140433629370893, scaled tolerance: 7.900000000000001e-10 \n",
      "[IterativeImputer] Ending imputation round 15/15, elapsed time 0.06\n",
      "[IterativeImputer] Change: 0.000626259047874056, scaled tolerance: 7.900000000000001e-10 \n",
      "   sepal length (cm)  sepal width (cm)  petal length (cm)  petal width (cm)\n",
      "0           5.100000          3.500000           1.400000               0.2\n",
      "1           4.900000          3.320505           1.400000               0.2\n",
      "2           4.700000          3.200000           1.300000               0.2\n",
      "3           4.600000          3.100000           1.500000               0.2\n",
      "4           5.000000          3.600000           1.400000               0.2\n",
      "5           5.400000          3.900000           1.700000               0.4\n",
      "6           4.600000          3.400000           1.400000               0.3\n",
      "7           5.012408          3.400000           1.500000               0.2\n",
      "8           4.400000          2.900000           1.349762               0.2\n",
      "9           4.900000          3.100000           1.500000               0.1\n"
     ]
    },
    {
     "name": "stderr",
     "output_type": "stream",
     "text": [
      "c:\\Users\\julian\\anaconda3\\lib\\site-packages\\sklearn\\impute\\_iterative.py:825: ConvergenceWarning: [IterativeImputer] Early stopping criterion not reached.\n",
      "  warnings.warn(\n"
     ]
    }
   ],
   "source": [
    "from sklearn.experimental import enable_iterative_imputer\n",
    "from sklearn.impute import IterativeImputer\n",
    "from sklearn.linear_model import LinearRegression\n",
    "\n",
    "lr = LinearRegression()\n",
    "imp = IterativeImputer(estimator=lr, verbose=2, max_iter=15, tol=1e-10, imputation_order='roman') #se puede usar otro estimador\n",
    "\n",
    "imputed_X = pd.DataFrame(imp.fit_transform(X_iris_missing), columns=X_iris.columns)\n",
    "print(imputed_X.iloc[:10,:])"
   ]
  },
  {
   "cell_type": "markdown",
   "metadata": {},
   "source": [
    "## Multiple imputation con Random Forest de sklearn"
   ]
  },
  {
   "cell_type": "code",
   "execution_count": null,
   "metadata": {},
   "outputs": [
    {
     "name": "stdout",
     "output_type": "stream",
     "text": [
      "[IterativeImputer] Completing matrix with shape (150, 4)\n",
      "[IterativeImputer] Ending imputation round 1/15, elapsed time 0.26\n",
      "[IterativeImputer] Change: 3.0363538478806986, scaled tolerance: 7.900000000000001e-10 \n",
      "[IterativeImputer] Ending imputation round 2/15, elapsed time 0.52\n",
      "[IterativeImputer] Change: 1.1793000000000051, scaled tolerance: 7.900000000000001e-10 \n",
      "[IterativeImputer] Ending imputation round 3/15, elapsed time 0.76\n",
      "[IterativeImputer] Change: 0.5329500000000016, scaled tolerance: 7.900000000000001e-10 \n",
      "[IterativeImputer] Ending imputation round 4/15, elapsed time 0.98\n",
      "[IterativeImputer] Change: 0.16400000000000237, scaled tolerance: 7.900000000000001e-10 \n",
      "[IterativeImputer] Ending imputation round 5/15, elapsed time 1.21\n",
      "[IterativeImputer] Change: 0.45194999999999586, scaled tolerance: 7.900000000000001e-10 \n",
      "[IterativeImputer] Ending imputation round 6/15, elapsed time 1.44\n",
      "[IterativeImputer] Change: 0.1666000000000003, scaled tolerance: 7.900000000000001e-10 \n",
      "[IterativeImputer] Ending imputation round 7/15, elapsed time 1.67\n",
      "[IterativeImputer] Change: 0.184399999999997, scaled tolerance: 7.900000000000001e-10 \n",
      "[IterativeImputer] Ending imputation round 8/15, elapsed time 1.91\n",
      "[IterativeImputer] Change: 0.10733333333333128, scaled tolerance: 7.900000000000001e-10 \n",
      "[IterativeImputer] Ending imputation round 9/15, elapsed time 2.16\n",
      "[IterativeImputer] Change: 0.12266666666666715, scaled tolerance: 7.900000000000001e-10 \n",
      "[IterativeImputer] Ending imputation round 10/15, elapsed time 2.39\n",
      "[IterativeImputer] Change: 0.12799999999999967, scaled tolerance: 7.900000000000001e-10 \n",
      "[IterativeImputer] Ending imputation round 11/15, elapsed time 2.63\n",
      "[IterativeImputer] Change: 0.13799999999999546, scaled tolerance: 7.900000000000001e-10 \n",
      "[IterativeImputer] Ending imputation round 12/15, elapsed time 2.86\n",
      "[IterativeImputer] Change: 0.11933333333333351, scaled tolerance: 7.900000000000001e-10 \n",
      "[IterativeImputer] Ending imputation round 13/15, elapsed time 3.09\n",
      "[IterativeImputer] Change: 0.13600000000000767, scaled tolerance: 7.900000000000001e-10 \n",
      "[IterativeImputer] Ending imputation round 14/15, elapsed time 3.33\n",
      "[IterativeImputer] Change: 0.1699999999999946, scaled tolerance: 7.900000000000001e-10 \n",
      "[IterativeImputer] Ending imputation round 15/15, elapsed time 3.56\n",
      "[IterativeImputer] Change: 0.1449999999999978, scaled tolerance: 7.900000000000001e-10 \n",
      "   sepal length (cm)  sepal width (cm)  petal length (cm)  petal width (cm)\n",
      "0              5.100           3.50000              1.400               0.2\n",
      "1              4.900           3.37835              1.400               0.2\n",
      "2              4.700           3.20000              1.300               0.2\n",
      "3              4.600           3.10000              1.500               0.2\n",
      "4              5.000           3.60000              1.400               0.2\n",
      "5              5.400           3.90000              1.700               0.4\n",
      "6              4.600           3.40000              1.400               0.3\n",
      "7              5.062           3.40000              1.500               0.2\n",
      "8              4.400           2.90000              1.321               0.2\n",
      "9              4.900           3.10000              1.500               0.1\n"
     ]
    },
    {
     "name": "stderr",
     "output_type": "stream",
     "text": [
      "c:\\Users\\julian\\anaconda3\\lib\\site-packages\\sklearn\\impute\\_iterative.py:825: ConvergenceWarning: [IterativeImputer] Early stopping criterion not reached.\n",
      "  warnings.warn(\n"
     ]
    }
   ],
   "source": [
    "from sklearn.ensemble import RandomForestRegressor\n",
    "\n",
    "rf = RandomForestRegressor(n_estimators=100)\n",
    "imp = IterativeImputer(estimator=rf, verbose=2, max_iter=15, tol=1e-10, imputation_order='roman')\n",
    "\n",
    "imputed_X = pd.DataFrame(imp.fit_transform(X_iris_missing), columns=X_iris.columns)\n",
    "print(imputed_X.iloc[:10,:])"
   ]
  },
  {
   "cell_type": "markdown",
   "metadata": {},
   "source": [
    "## Visualizando reparto de nulos\n",
    "\n",
    "También se puede ver la distribución de nulos en las instancias (por ver si hay\n",
    "instancias con muchos concentrados).\n",
    "\n",
    "Sklearn permite mostrar visualmente los valores nulos con `MissingIndicator`."
   ]
  },
  {
   "cell_type": "code",
   "execution_count": null,
   "metadata": {},
   "outputs": [
    {
     "name": "stdout",
     "output_type": "stream",
     "text": [
      "[[False False False]\n",
      " [False  True False]\n",
      " [False False False]\n",
      " [False False False]\n",
      " [False False False]\n",
      " [False False False]\n",
      " [False False False]\n",
      " [ True False False]]\n",
      "[0 1 2]\n"
     ]
    }
   ],
   "source": [
    "from sklearn.impute import MissingIndicator\n",
    "indicator = MissingIndicator(missing_values=np.nan).fit(X_iris_missing)\n",
    "print(indicator.transform(X_iris_missing)[:8,:])\n",
    "print(indicator.features_)"
   ]
  },
  {
   "cell_type": "markdown",
   "metadata": {},
   "source": [
    "---"
   ]
  },
  {
   "cell_type": "markdown",
   "metadata": {},
   "source": [
    "Visualmente se puede mostrar usando `yellobrick`"
   ]
  },
  {
   "cell_type": "code",
   "execution_count": null,
   "metadata": {},
   "outputs": [
    {
     "name": "stderr",
     "output_type": "stream",
     "text": [
      "c:\\Users\\julian\\anaconda3\\lib\\site-packages\\yellowbrick\\contrib\\missing\\dispersion.py:175: UserWarning: No artists with labels found to put in legend.  Note that artists whose label start with an underscore are ignored when legend() is called with no argument.\n",
      "  self.ax.legend(loc=\"upper left\", prop={\"size\": 5}, bbox_to_anchor=(1, 1))\n"
     ]
    },
    {
     "data": {
      "image/png": "[encoded data removed]",
      "text/plain": [
       "<Figure size 800x550 with 1 Axes>"
      ]
     },
     "metadata": {},
     "output_type": "display_data"
    },
    {
     "data": {
      "text/plain": [
       "<Axes: title={'center': 'Dispersion of Missing Values by Feature'}, xlabel='Position by index'>"
      ]
     },
     "execution_count": 16,
     "metadata": {},
     "output_type": "execute_result"
    }
   ],
   "source": [
    "from yellowbrick.contrib.missing import MissingValuesDispersion\n",
    "\n",
    "visualizer = MissingValuesDispersion(features=X_iris_missing.columns)\n",
    "visualizer.fit(X_iris_missing)\n",
    "visualizer.show()"
   ]
  },
  {
   "cell_type": "markdown",
   "metadata": {},
   "source": [
    "---\n",
    "\n",
    "La otra opción es cuando se aplique el modelo, añadir el *add_indicator* (falso\n",
    "por defecto) para que lo muestre."
   ]
  },
  {
   "cell_type": "code",
   "execution_count": null,
   "metadata": {},
   "outputs": [
    {
     "name": "stdout",
     "output_type": "stream",
     "text": [
      "   sepal length (cm)  sepal width (cm)  petal length (cm)  petal width (cm)\n",
      "0                5.1               3.5                1.4               0.2\n",
      "1                4.9               NaN                1.4               0.2\n",
      "2                4.7               3.2                1.3               0.2\n",
      "3                4.6               3.1                1.5               0.2\n",
      "4                5.0               3.6                1.4               0.2\n",
      "     0     1    2    3    4    5    6\n",
      "0  5.1  3.50  1.4  0.2  0.0  0.0  0.0\n",
      "1  4.9  3.45  1.4  0.2  0.0  1.0  0.0\n",
      "2  4.7  3.20  1.3  0.2  0.0  0.0  0.0\n",
      "3  4.6  3.10  1.5  0.2  0.0  0.0  0.0\n",
      "4  5.0  3.60  1.4  0.2  0.0  0.0  0.0\n"
     ]
    }
   ],
   "source": [
    "#Build an Knn imutation object and fit it to the data, setting add_indicator=True\n",
    "Knn_imp = KNNImputer(n_neighbors=4, add_indicator=True).fit(X_iris_missing)\n",
    "print(X_iris_missing.head(5))\n",
    "imputed_X = pd.DataFrame(Knn_imp.transform(X_iris_missing))\n",
    "print(imputed_X.head(5))"
   ]
  },
  {
   "cell_type": "markdown",
   "metadata": {},
   "source": [
    "## Biblioteca statsmodels\n",
    "\n",
    "Vamos a usar la biblioteca statsmodels para realizar imputación múltiple modelando la distribución de los datos, lo que es típico en NMAR.\n",
    "\n",
    "conda install -c conda-forge statsmodels"
   ]
  },
  {
   "cell_type": "code",
   "execution_count": null,
   "metadata": {},
   "outputs": [
    {
     "name": "stdout",
     "output_type": "stream",
     "text": [
      "Iteracion0 --> -0.3340772309799395\n",
      "Iteracion1 --> -1.1592221011691515\n",
      "Iteracion2 --> -1.6297584655162969\n",
      "Iteracion3 --> -0.7925233716892872\n",
      "Iteracion4 --> -1.1228785411536388\n",
      "Iteracion5 --> -1.267840032119525\n",
      "Iteracion6 --> -1.621297783634454\n",
      "Iteracion7 --> -1.1610072286950248\n",
      "Iteracion8 --> -0.9341339235850671\n",
      "Iteracion9 --> -0.9556770795963219\n",
      "Iteracion10 --> -1.054772652383291\n",
      "Iteracion11 --> -0.9168655882755052\n",
      "Iteracion12 --> -1.3958162752130172\n",
      "Iteracion13 --> -0.6716444821976467\n",
      "Iteracion14 --> -0.9777891491261392\n",
      "Iteracion15 --> -1.6779886333766694\n",
      "Iteracion16 --> -1.0770510088743945\n",
      "Iteracion17 --> -1.2477404094522546\n",
      "Iteracion18 --> -0.46245428877349015\n",
      "Iteracion19 --> -0.6700555496704577\n",
      "Iteracion20 --> -0.7265089870227317\n",
      "Iteracion21 --> -0.7955997784270064\n",
      "Iteracion22 --> -1.3433971786255356\n",
      "Iteracion23 --> -1.1911278354670352\n",
      "Iteracion24 --> -0.8179108447445829\n",
      "Iteracion25 --> -1.2057943831750997\n",
      "Iteracion26 --> -0.49618597494673056\n",
      "Iteracion27 --> -0.9234945781164563\n",
      "Iteracion28 --> -1.3100332869843507\n",
      "Iteracion29 --> -0.9911580980460231\n",
      "Iteracion30 --> -1.224272090012877\n",
      "Iteracion31 --> -1.1010367649242834\n",
      "Iteracion32 --> -1.0208562439257962\n",
      "Iteracion33 --> -0.6792640032760742\n",
      "Iteracion34 --> -1.3169192327525234\n",
      "Iteracion35 --> -1.0055120461928524\n",
      "Iteracion36 --> -0.878561298852598\n",
      "Iteracion37 --> -1.433479578805851\n",
      "Iteracion38 --> -0.7781392849459824\n",
      "Iteracion39 --> -0.2709604091236889\n",
      "Iteracion40 --> -0.9229284599960823\n",
      "Iteracion41 --> -1.5237322340947503\n",
      "Iteracion42 --> -0.7228404354383142\n",
      "Iteracion43 --> -0.47276616033389046\n",
      "Iteracion44 --> -0.515486371263884\n",
      "Iteracion45 --> -0.27957804241195383\n",
      "Iteracion46 --> -0.8419741404371691\n",
      "Iteracion47 --> -1.1275252268805476\n",
      "Iteracion48 --> -1.3667221696015541\n",
      "Iteracion49 --> -0.5122371667522208\n",
      "Iteracion50 --> -1.548185185475474\n",
      "Iteracion51 --> -1.4214947958877346\n",
      "Iteracion52 --> -1.5329369707436902\n",
      "Iteracion53 --> -1.2994772167849318\n",
      "Iteracion54 --> -0.9457938165770818\n",
      "Iteracion55 --> -0.9302737015373062\n",
      "Iteracion56 --> -0.7648654267973296\n",
      "Iteracion57 --> -1.0105913041821943\n",
      "Iteracion58 --> -1.432907363147509\n",
      "Iteracion59 --> -1.0204347198360093\n",
      "Iteracion60 --> -1.249372132788507\n",
      "Iteracion61 --> -2.1702963820059846\n",
      "Iteracion62 --> -1.4914754982019942\n",
      "Iteracion63 --> -0.7053773073326548\n",
      "Iteracion64 --> -1.1348194177033437\n",
      "Iteracion65 --> -0.6222683490098297\n",
      "Iteracion66 --> -1.00083053195219\n",
      "Iteracion67 --> -1.0681729503847546\n",
      "Iteracion68 --> -1.2833230820040682\n",
      "Iteracion69 --> -1.423110819216044\n",
      "Iteracion70 --> -0.7984304730370049\n",
      "Iteracion71 --> -0.07106715583801315\n",
      "Iteracion72 --> -1.154190892944422\n",
      "Iteracion73 --> -1.5581553960018364\n",
      "Iteracion74 --> -1.1957435676812795\n",
      "Iteracion75 --> -1.3904512924127317\n",
      "Iteracion76 --> -1.6145810647501757\n",
      "Iteracion77 --> -0.6187375296941058\n",
      "Iteracion78 --> -0.8040531541692741\n",
      "Iteracion79 --> -1.2254929437729296\n",
      "Iteracion80 --> -0.6679769637127149\n",
      "Iteracion81 --> -1.1629668991539228\n",
      "Iteracion82 --> -0.5634517258269243\n",
      "Iteracion83 --> -1.2414073819729723\n",
      "Iteracion84 --> -1.1190603501606837\n",
      "Iteracion85 --> -0.1780346997103036\n",
      "Iteracion86 --> -1.1756830251524444\n",
      "Iteracion87 --> -0.779110575106358\n",
      "Iteracion88 --> -1.287523764295313\n",
      "Iteracion89 --> -1.3880702635259718\n",
      "Iteracion90 --> -1.3825346261930798\n",
      "Iteracion91 --> -1.5843912658659602\n",
      "Iteracion92 --> -1.0370501335802502\n",
      "Iteracion93 --> -1.1987058058637101\n",
      "Iteracion94 --> -0.4943765371425902\n",
      "Iteracion95 --> -2.0694453227217426\n",
      "Iteracion96 --> -0.3883928727440894\n",
      "Iteracion97 --> -0.9533633786494939\n",
      "Iteracion98 --> -1.0799275579480767\n",
      "Iteracion99 --> -1.4345691729428376\n",
      "0   -0.641376\n",
      "1   -0.914451\n",
      "2   -0.944044\n",
      "3   -1.001372\n",
      "4   -0.615237\n",
      "5   -0.217979\n",
      "6   -0.814491\n",
      "7   -0.822042\n",
      "8   -1.293776\n",
      "9   -0.944338\n",
      "dtype: float64\n"
     ]
    }
   ],
   "source": [
    "from statsmodels.imputation.bayes_mi import BayesGaussMI, MI\n",
    "\n",
    "# BayesGaussMI asume que las varibles son normales, por lo que vamos a estandarizar primero\n",
    "from sklearn.preprocessing import StandardScaler\n",
    "scaler = StandardScaler()\n",
    "X_iris_missing_scaled = scaler.fit_transform(X_iris_missing)\n",
    "X_iris_missing_scaled = pd.DataFrame(X_iris_missing_scaled, columns=X_iris.columns)\n",
    "\n",
    "bm = BayesGaussMI(X_iris_missing_scaled) # mean_prior y cov_prior son los parámetros de la distribución a priori, que se asume normal y con los datos estandarizados es N(0,1)\n",
    "\n",
    "# Ahora imputamos los valores multiples veces, por ejemplo 100\n",
    "for k in range(100):\n",
    "    bm.update() #cada llamada a update() imputa un valor y actualiza los parámetros de la distribución\n",
    "    #imprimir un ejemplo con valor perdido, por ejemplo fila 7 columna 0\n",
    "    \n",
    "    print('Iteracion' + str(k) +\" --> \" + str(bm.data.iloc[7,0]))\n",
    "    \n",
    "# Ahora vamos a utilizar la media de los valores imputados como valor final\n",
    "imputed_X = bm.data.mean(axis=1)\n",
    "print(imputed_X.head(10))\n"
   ]
  },
  {
   "cell_type": "markdown",
   "metadata": {},
   "source": [
    "Normalmente no se utliza la media de los valores imputados directamente. En su lugar, se ajusta un modelo por cada versión del conjunto imputado y se utilizan para obtener una decisión agregada (por ejemplo, modelos de clasificación simples que voten la clase final)."
   ]
  },
  {
   "cell_type": "code",
   "execution_count": null,
   "metadata": {},
   "outputs": [
    {
     "name": "stdout",
     "output_type": "stream",
     "text": [
      "16\n",
      "Shape of predictions: (20, 150)\n",
      "Predictions array:\n",
      "[[0 0 0 ... 2 2 2]\n",
      " [0 0 0 ... 2 2 2]\n",
      " [0 0 0 ... 2 2 2]\n",
      " ...\n",
      " [0 0 0 ... 2 2 2]\n",
      " [0 0 0 ... 2 2 2]\n",
      " [0 0 0 ... 2 2 2]]\n",
      "Exactitud del modelo SVM con votación: 0.98\n"
     ]
    }
   ],
   "source": [
    "import statsmodels.api as sm\n",
    "from sklearn.ensemble import RandomForestClassifier\n",
    "from sklearn.linear_model import LogisticRegression\n",
    "from sklearn.svm import SVC\n",
    "from sklearn.metrics import accuracy_score\n",
    "from sklearn.linear_model import LogisticRegression\n",
    "from statsmodels.imputation.bayes_mi import BayesGaussMI\n",
    "from sklearn.model_selection import train_test_split\n",
    "from scipy.stats import mode\n",
    "\n",
    "# Supongamos que ya tienes X_iris_missing (datos con valores faltantes) y y_true (etiquetas reales)\n",
    "# Asegúrate de que X_iris_missing sea un DataFrame y tenga una columna 'target' para las etiquetas\n",
    "# Si no tienes la columna 'target', agrega y_true a tus datos\n",
    "y_true = iris_dataset.target.copy()\n",
    "X_iris_missing['target'] = y_true\n",
    "\n",
    "# Estandarización de datos (excepto la columna 'target')\n",
    "features = X_iris_missing.drop(columns='target')\n",
    "scaler = StandardScaler()\n",
    "features_scaled = scaler.fit_transform(features)\n",
    "X_iris_missing_scaled = pd.DataFrame(features_scaled, columns=features.columns)\n",
    "X_iris_missing_scaled['target'] = y_true  # Agregar la columna 'target' nuevamente\n",
    "\n",
    "\n",
    "\n",
    "# **Renombrar columnas para eliminar espacios y caracteres especiales**\n",
    "X_iris_missing_scaled.rename(columns={\n",
    "    'sepal length (cm)': 'sepal_length',\n",
    "    'sepal width (cm)': 'sepal_width',\n",
    "    'petal length (cm)': 'petal_length',\n",
    "    'petal width (cm)': 'petal_width'\n",
    "}, inplace=True)\n",
    "\n",
    "# mostrar los datos perdidos de la columna 'sepal_length'\n",
    "print(X_iris_missing_scaled['sepal_length'].isnull().sum())\n",
    "\n",
    "# Crear instancia de BayesGaussMI\n",
    "bayes_imputer = BayesGaussMI(X_iris_missing_scaled)\n",
    "\n",
    "# Definir funciones para pasar los argumentos y palabras clave al modelo\n",
    "def model_args_fn(data):\n",
    "    return ()\n",
    "\n",
    "def model_kwds_fn(data):\n",
    "    return {'data': data}\n",
    "\n",
    "# Crear una lista para almacenar los conjuntos de datos imputados\n",
    "imputed_datasets = []\n",
    "\n",
    "# Definir una función de callback para capturar las imputaciones\n",
    "def save_imputed_data(result):\n",
    "    # Acceder al conjunto de datos imputado desde result.model.data.frame\n",
    "    imputed_data = result.model.data.frame.copy()\n",
    "    imputed_datasets.append(imputed_data)\n",
    "    return None  # No es necesario devolver nada\n",
    "\n",
    "mi = MI(\n",
    "    imp=bayes_imputer,\n",
    "    model=sm.OLS,\n",
    "    formula=\"sepal_length ~ sepal_width + petal_length + petal_width\", #si usamos los nombres originales de las columnas, hay problemas con los espacios\n",
    "    model_args_fn=model_args_fn,\n",
    "    model_kwds_fn=model_kwds_fn,\n",
    "    nrep=20\n",
    ")\n",
    "\n",
    "# Ejecutar el método fit para realizar las imputaciones y ajustar el modelo\n",
    "mi_results = mi.fit(results_cb=save_imputed_data)\n",
    "\n",
    "# Ahora, aplicar SVM a cada uno de los conjuntos de datos imputados\n",
    "predictions = []\n",
    "for imputed_df in imputed_datasets:\n",
    "    X = imputed_df.drop(columns='target')\n",
    "    y = imputed_df['target'].astype(int)\n",
    "    svm_model = SVC()\n",
    "    svm_model.fit(X, y)\n",
    "    preds = svm_model.predict(X)\n",
    "    predictions.append(preds)\n",
    "\n",
    "# Convertir las predicciones en un array numpy\n",
    "predictions = np.array(predictions)  # Dimensiones: (n_imputaciones, n_muestras)\n",
    "\n",
    "# Verificar el contenido y la forma de 'predictions'\n",
    "print('Shape of predictions:', predictions.shape)\n",
    "print('Predictions array:')\n",
    "print(predictions)\n",
    "\n",
    "# Votación por mayoría simple utilizando 'keepdims=True' en 'mode'\n",
    "final_predictions = mode(predictions, axis=0, keepdims=True).mode[0]\n",
    "\n",
    "# Alternativamente, utilizar 'numpy.bincount'\n",
    "# final_predictions = np.apply_along_axis(lambda x: np.bincount(x).argmax(), axis=0, arr=predictions)\n",
    "\n",
    "# Evaluar las predicciones finales\n",
    "accuracy = accuracy_score(y_true, final_predictions)\n",
    "print(f\"Exactitud del modelo SVM con votación: {accuracy}\")"
   ]
  },
  {
   "cell_type": "markdown",
   "metadata": {},
   "source": [
    "## Estimación MICE con statsmodels\n",
    "\n",
    "Como vimos en sklearn, podemos encadenar las imputaciones para refinar las mismas. En sklearn se utlizaba la clase IterativeImputer. En statsmodels existe la clase MICEData para realizar la misma tarea. Vamos a aprender a usarla (ya que tiene más estimadores y métodos de optimización que sklearn)."
   ]
  },
  {
   "cell_type": "code",
   "execution_count": null,
   "metadata": {},
   "outputs": [
    {
     "name": "stdout",
     "output_type": "stream",
     "text": [
      "Intercepto promedio: 1.0097287264861479\n",
      "       Variable  Coeficiente promedio\n",
      "0  sepal_length             -0.064433\n",
      "1   sepal_width             -0.011258\n",
      "2  petal_length              0.352803\n",
      "3   petal_width              0.491761\n",
      "Exactitud promedio de los modelos: 0.9693333333333334\n"
     ]
    }
   ],
   "source": [
    "import pandas as pd\n",
    "import numpy as np\n",
    "from sklearn.datasets import load_iris\n",
    "from sklearn.preprocessing import StandardScaler\n",
    "import statsmodels.api as sm\n",
    "from statsmodels.imputation.mice import MICEData\n",
    "from sklearn.linear_model import LinearRegression\n",
    "\n",
    "# Cargar el conjunto de datos iris\n",
    "iris_dataset = load_iris()\n",
    "X_iris = pd.DataFrame(iris_dataset.data, columns=iris_dataset.feature_names)\n",
    "y_true = iris_dataset.target\n",
    "\n",
    "# Introducir valores faltantes artificialmente\n",
    "np.random.seed(0)\n",
    "X_iris_missing = X_iris.copy()\n",
    "mask = np.random.rand(*X_iris.shape) < 0.1  # 10% de valores faltantes\n",
    "X_iris_missing = X_iris_missing.mask(mask)\n",
    "\n",
    "# Agregar la columna 'target' al DataFrame\n",
    "X_iris_missing['target'] = y_true\n",
    "\n",
    "# Estandarizar las características (excepto 'target')\n",
    "features = X_iris_missing.drop(columns='target')\n",
    "scaler = StandardScaler()\n",
    "features_scaled = pd.DataFrame(scaler.fit_transform(features), columns=features.columns)\n",
    "features_scaled['target'] = X_iris_missing['target']\n",
    "\n",
    "features_scaled.rename(columns={\n",
    "    'sepal length (cm)': 'sepal_length',\n",
    "    'sepal width (cm)': 'sepal_width',\n",
    "    'petal length (cm)': 'petal_length',\n",
    "    'petal width (cm)': 'petal_width'\n",
    "}, inplace=True)\n",
    "\n",
    "# Crear instancia de MICEData\n",
    "data_imp = MICEData(features_scaled)\n",
    "\n",
    "\n",
    "# Especificar modelos de imputación personalizados (opcional)\n",
    "# Por ejemplo, para imputar 'sepal_length' utilizando regresión lineal:\n",
    "# data_imp.set_imputer('sepal_length', sm.OLS)\n",
    "\n",
    "# Almacenar los conjuntos de datos imputados\n",
    "imputed_datasets = []\n",
    "\n",
    "# Realizar imputaciones múltiples (5 por ejemplo)\n",
    "for _ in range(5):\n",
    "    data_imp.update_all()  # Actualiza las imputaciones de todas las variables\n",
    "    imputed_data = data_imp.data.copy()\n",
    "    imputed_datasets.append(imputed_data)\n",
    "    \n",
    "# Almacenar los coeficientes de cada modelo\n",
    "coefficients = []\n",
    "intercepts = []\n",
    "\n",
    "for imputed_data in imputed_datasets:\n",
    "    # Separar variables predictoras y objetivo\n",
    "    X = imputed_data.drop(columns='target')\n",
    "    y = imputed_data['target']\n",
    "    \n",
    "    # Ajustar modelo de regresión lineal\n",
    "    model = LinearRegression()\n",
    "    model.fit(X, y)\n",
    "    \n",
    "    # Almacenar los coeficientes y el intercepto\n",
    "    coefficients.append(model.coef_)\n",
    "    intercepts.append(model.intercept_)\n",
    "\n",
    "# Convertir las listas a arrays numpy\n",
    "coefficients = np.array(coefficients)\n",
    "intercepts = np.array(intercepts)\n",
    "\n",
    "# Calcular la media de los coeficientes y el intercepto\n",
    "mean_coefficients = np.mean(coefficients, axis=0)\n",
    "mean_intercept = np.mean(intercepts)\n",
    "\n",
    "# Mostrar los coeficientes promedio\n",
    "coef_df = pd.DataFrame({\n",
    "    'Variable': X.columns,\n",
    "    'Coeficiente promedio': mean_coefficients\n",
    "})\n",
    "\n",
    "print(\"Intercepto promedio:\", mean_intercept)\n",
    "print(coef_df)\n",
    "\n",
    "from sklearn.metrics import accuracy_score\n",
    "\n",
    "# Como 'target' es una variable categórica, podemos convertirla en enteros para clasificación\n",
    "accuracy_scores = []\n",
    "\n",
    "for imputed_data in imputed_datasets:\n",
    "    X = imputed_data.drop(columns='target')\n",
    "    y = imputed_data['target'].astype(int)\n",
    "    \n",
    "    # Ajustar un modelo de regresión logística para clasificación\n",
    "    model = LogisticRegression(max_iter=1000)\n",
    "    model.fit(X, y)\n",
    "    y_pred = model.predict(X)\n",
    "    \n",
    "    # Calcular el accuracy\n",
    "    accuracy = accuracy_score(y, y_pred)\n",
    "    accuracy_scores.append(accuracy)\n",
    "\n",
    "# Calcular la media del accuracy\n",
    "mean_accuracy = np.mean(accuracy_scores)\n",
    "print(f\"Exactitud promedio de los modelos: {mean_accuracy}\")\n"
   ]
  },
  {
   "cell_type": "markdown",
   "metadata": {},
   "source": [
    "# Estimación MICE con MiceForest\n",
    "\n",
    "Existe un paquete llamado miceforest que realiza imputaicones múltiples con lightgbm y es muy eficiente. \n",
    "Se suele utilizar cuando no existe certeza sobre la distribución de los datos y se quiere imputar valores faltantes de manera eficiente y no paramétrica."
   ]
  },
  {
   "cell_type": "code",
   "execution_count": null,
   "metadata": {},
   "outputs": [
    {
     "name": "stdout",
     "output_type": "stream",
     "text": [
      "Initialized logger with name mice 1-5\n",
      "Dataset 0\n",
      "1  | sepal length (cm) | sepal width (cm) | petal length (cm) | petal width (cm)\n",
      "2  | sepal length (cm) | sepal width (cm) | petal length (cm) | petal width (cm)\n",
      "3  | sepal length (cm) | sepal width (cm) | petal length (cm) | petal width (cm)\n",
      "4  | sepal length (cm) | sepal width (cm) | petal length (cm) | petal width (cm)\n",
      "5  | sepal length (cm) | sepal width (cm) | petal length (cm) | petal width (cm)\n",
      "Dataset 1\n",
      "1  | sepal length (cm) | sepal width (cm) | petal length (cm) | petal width (cm)\n",
      "2  | sepal length (cm) | sepal width (cm) | petal length (cm) | petal width (cm)\n",
      "3  | sepal length (cm) | sepal width (cm) | petal length (cm) | petal width (cm)\n",
      "4  | sepal length (cm) | sepal width (cm) | petal length (cm) | petal width (cm)\n",
      "5  | sepal length (cm) | sepal width (cm) | petal length (cm) | petal width (cm)\n",
      "Dataset 2\n",
      "1  | sepal length (cm) | sepal width (cm) | petal length (cm) | petal width (cm)\n",
      "2  | sepal length (cm) | sepal width (cm) | petal length (cm) | petal width (cm)\n",
      "3  | sepal length (cm) | sepal width (cm) | petal length (cm) | petal width (cm)\n",
      "4  | sepal length (cm) | sepal width (cm) | petal length (cm) | petal width (cm)\n",
      "5  | sepal length (cm) | sepal width (cm) | petal length (cm) | petal width (cm)\n",
      "Dataset 3\n",
      "1  | sepal length (cm) | sepal width (cm) | petal length (cm) | petal width (cm)\n",
      "2  | sepal length (cm) | sepal width (cm) | petal length (cm) | petal width (cm)\n",
      "3  | sepal length (cm) | sepal width (cm) | petal length (cm) | petal width (cm)\n",
      "4  | sepal length (cm) | sepal width (cm) | petal length (cm) | petal width (cm)\n",
      "5  | sepal length (cm) | sepal width (cm) | petal length (cm) | petal width (cm)\n",
      "Dataset 4\n",
      "1  | sepal length (cm) | sepal width (cm) | petal length (cm) | petal width (cm)\n",
      "2  | sepal length (cm) | sepal width (cm) | petal length (cm) | petal width (cm)\n",
      "3  | sepal length (cm) | sepal width (cm) | petal length (cm) | petal width (cm)\n",
      "4  | sepal length (cm) | sepal width (cm) | petal length (cm) | petal width (cm)\n",
      "5  | sepal length (cm) | sepal width (cm) | petal length (cm) | petal width (cm)\n",
      "Initialized logger with name mice 1-5\n",
      "Dataset 0\n",
      "1  | sepal length (cm) | sepal width (cm) | petal length (cm) | petal width (cm)\n",
      "2  | sepal length (cm) | sepal width (cm) | petal length (cm) | petal width (cm)\n",
      "3  | sepal length (cm) | sepal width (cm) | petal length (cm) | petal width (cm)\n",
      "4  | sepal length (cm) | sepal width (cm) | petal length (cm) | petal width (cm)\n",
      "5  | sepal length (cm) | sepal width (cm) | petal length (cm) | petal width (cm)\n",
      "Exactitud del modelo: 0.9333333333333333\n"
     ]
    }
   ],
   "source": [
    "import pandas as pd\n",
    "import numpy as np\n",
    "from sklearn.datasets import load_iris\n",
    "import miceforest as mf\n",
    "from sklearn.ensemble import RandomForestClassifier\n",
    "from sklearn.metrics import accuracy_score\n",
    "from sklearn.model_selection import train_test_split\n",
    "\n",
    "# Cargar el conjunto de datos iris\n",
    "iris_dataset = load_iris()\n",
    "X_iris = pd.DataFrame(iris_dataset.data, columns=iris_dataset.feature_names)\n",
    "y_true = iris_dataset.target\n",
    "\n",
    "# Introducir valores faltantes artificialmente\n",
    "np.random.seed(0)\n",
    "X_iris_missing = X_iris.copy()\n",
    "mask = np.random.rand(*X_iris.shape) < 0.1  # 10% de valores faltantes\n",
    "X_iris_missing = X_iris_missing.mask(mask)\n",
    "\n",
    "# Crear un objeto de ImputationKernel para miceforest\n",
    "kds = mf.ImputationKernel(\n",
    "    X_iris_missing,\n",
    "    datasets=5,  # Número de conjuntos de datos imputados que deseas generar\n",
    "    save_all_iterations=True,\n",
    "    random_state=0\n",
    ")\n",
    "\n",
    "\n",
    "# Ejecutar la imputación múltiple\n",
    "kds.mice(\n",
    "    iterations=5,\n",
    "    verbose=True\n",
    ")\n",
    "\n",
    "# Obtener el conjunto de datos imputado de la primera iteración\n",
    "X_iris_imputed = kds.complete_data(iteration=0)\n",
    "\n",
    "kds = mf.ImputationKernel(\n",
    "    X_iris_missing,\n",
    "    save_all_iterations=True,\n",
    "    random_state=0\n",
    ")\n",
    "\n",
    "kds.mice(\n",
    "    iterations=5,\n",
    "    verbose=True\n",
    ")\n",
    "\n",
    "# iteration=0: Especifica la iteración de la cual obtener los datos imputados. Puedes elegir entre 0 y iterations - 1.\n",
    "X_iris_imputed = kds.complete_data(iteration=0)\n",
    "\n",
    "\n",
    "\n",
    "# Separar los datos en entrenamiento y prueba\n",
    "X_train, X_test, y_train, y_test = train_test_split(\n",
    "    X_iris_imputed, y_true, test_size=0.2, random_state=0\n",
    ")\n",
    "\n",
    "# Entrenar un modelo de Random Forest\n",
    "model = RandomForestClassifier(random_state=0)\n",
    "model.fit(X_train, y_train)\n",
    "\n",
    "# Realizar predicciones\n",
    "y_pred = model.predict(X_test)\n",
    "\n",
    "# Evaluar el modelo\n",
    "accuracy = accuracy_score(y_test, y_pred)\n",
    "print(f\"Exactitud del modelo: {accuracy}\")\n",
    "\n"
   ]
  },
  {
   "cell_type": "markdown",
   "metadata": {},
   "source": [
    "Si deseas aprovechar las imputaciones múltiples para tener en cuenta la incertidumbre de los datos faltantes, puedes repetir el entrenamiento del modelo en cada conjunto de datos imputado y combinar los resultados al estilo Múltiple Imputation."
   ]
  },
  {
   "cell_type": "code",
   "execution_count": null,
   "metadata": {},
   "outputs": [
    {
     "name": "stdout",
     "output_type": "stream",
     "text": [
      "Exactitud del modelo con votación por mayoría: 0.9666666666666667\n"
     ]
    }
   ],
   "source": [
    "# Almacenar las predicciones de cada imputación\n",
    "predictions = []\n",
    "\n",
    "# Generar predicciones para cada iteración de imputación\n",
    "for i in range(5):\n",
    "    X_imputed = kds.complete_data(iteration=i) # tomamos cada generación de imputación\n",
    "    X_train, X_test, y_train, y_test = train_test_split(\n",
    "        X_imputed, y_true, test_size=0.2, random_state=0\n",
    "    )\n",
    "    model = RandomForestClassifier(random_state=0)\n",
    "    model.fit(X_train, y_train)\n",
    "    y_pred = model.predict(X_test)\n",
    "    predictions.append(y_pred)\n",
    "\n",
    "# Convertir las predicciones en un array numpy\n",
    "predictions = np.array(predictions)  # Dimensiones: (n_imputaciones, n_muestras)\n",
    "\n",
    "# Realizar votación por mayoría\n",
    "from scipy.stats import mode\n",
    "final_predictions = mode(predictions, axis=0, keepdims=True).mode[0]\n",
    "\n",
    "# Evaluar las predicciones finales\n",
    "accuracy = accuracy_score(y_test, final_predictions)\n",
    "print(f\"Exactitud del modelo con votación por mayoría: {accuracy}\") #comparar con el 0.93 de la imputación simple anterior\n"
   ]
  },
  {
   "cell_type": "markdown",
   "metadata": {},
   "source": [
    "# Ejercicios\n",
    "\n",
    "Considera trabajar también con el fichero que guarda registro de pozos de tanzania **tanzania_water_pump_org.csv** (nota: los valores perdidos están representados con cadena vacía) además del iris con valores perdidos artificiales.\n",
    "\n",
    "A continuación, te proporcionamos la forma de cargar dicho conjunto."
   ]
  },
  {
   "cell_type": "code",
   "execution_count": null,
   "metadata": {},
   "outputs": [
    {
     "data": {
      "text/plain": [
       "id                           0\n",
       "amount_tsh                   0\n",
       "date_recorded                0\n",
       "funder                    3637\n",
       "gps_height                   0\n",
       "installer                 3655\n",
       "longitude                    0\n",
       "latitude                     0\n",
       "wpt_name                     2\n",
       "num_private                  0\n",
       "basin                        0\n",
       "subvillage                 371\n",
       "region                       0\n",
       "region_code                  0\n",
       "district_code                0\n",
       "lga                          0\n",
       "ward                         0\n",
       "population                   0\n",
       "public_meeting            3334\n",
       "recorded_by                  0\n",
       "scheme_management         3878\n",
       "scheme_name              28810\n",
       "permit                    3056\n",
       "construction_year            0\n",
       "extraction_type              0\n",
       "extraction_type_group        0\n",
       "extraction_type_class        0\n",
       "management                   0\n",
       "management_group             0\n",
       "payment                      0\n",
       "payment_type                 0\n",
       "water_quality                0\n",
       "quality_group                0\n",
       "quantity                     0\n",
       "quantity_group               0\n",
       "source                       0\n",
       "source_type                  0\n",
       "source_class                 0\n",
       "waterpoint_type              0\n",
       "waterpoint_type_group        0\n",
       "status_group                 0\n",
       "dtype: int64"
      ]
     },
     "execution_count": 18,
     "metadata": {},
     "output_type": "execute_result"
    }
   ],
   "source": [
    "import pandas as pd\n",
    "df = pd.read_csv(\"tanzania_water_pump_org.csv\")\n",
    "df.columns\n",
    "\n",
    "df[df == \"\"] = None\n",
    "missing_values = df.isnull()\n",
    "missing_values[missing_values == True].count()"
   ]
  },
  {
   "cell_type": "markdown",
   "metadata": {},
   "source": [
    "---\n",
    "\n",
    "1. Mostrar algún diagrama para mostrar casos de nulos.\n",
    "\n",
    "2. Eliminar atributos con un número de nulos mayor que el 30%.\n",
    "\n",
    "3. Mostrar distribución de nulos.\n",
    "\n",
    "4. Comparar el número de filas eliminando y no eliminando nulos.\n",
    "\n",
    "5. Eliminar nulos sobre el original aplicando una imputación sencilla (media, etc.).\n",
    "\n",
    "6. Imputar los nulos sobre el original aplicando el KNN.\n",
    "\n",
    "7. Realizar un IterativeImputer usando un SVR como imputador base. Comparar con el resultado de IterativeImputer con LR y RF.\n",
    "\n",
    "8. Cambia la fórmula en la imputación múltiple para imputar otros atributos y pensar qué atributos intervienen (¿la longitu del sépalo influye en la anchura del pétalo por ejemplo?)\n",
    "\n",
    "9. Comparar los resultados de diferentes imputaciones usando una métrica (MSE, RMSE) con los valores originales del dataset.\n",
    "\n",
    "10. ¿Qué ocurre si hay variables categóricas? Utilizar una transformación de datos para procesarlos y comprobar el resultado.\n",
    "\n"
   ]
  },
  {
   "cell_type": "code",
   "execution_count": null,
   "metadata": {},
   "outputs": [
    {
     "data": {
      "text/plain": [
       "<Axes: >"
      ]
     },
     "execution_count": 19,
     "metadata": {},
     "output_type": "execute_result"
    },
    {
     "data": {
      "image/png": "[encoded data removed]",
      "text/plain": [
       "<Figure size 640x480 with 1 Axes>"
      ]
     },
     "metadata": {},
     "output_type": "display_data"
    }
   ],
   "source": [
    "# 1\n",
    "import seaborn as sns\n",
    "\n",
    "sns.heatmap(missing_values, cbar=False, cmap='viridis')"
   ]
  },
  {
   "cell_type": "code",
   "execution_count": 45,
   "metadata": {},
   "outputs": [
    {
     "name": "stdout",
     "output_type": "stream",
     "text": [
      "40\n"
     ]
    }
   ],
   "source": [
    "# 2\n",
    "\n",
    "df = df.drop(df.columns[df.isnull().sum() * 100 / len(df) > 30], axis=1)"
   ]
  },
  {
   "cell_type": "code",
   "execution_count": 56,
   "metadata": {},
   "outputs": [],
   "source": [
    "# 3\n",
    "columns_with_na = df.columns[df.isnull().any()]\n",
    "for column in columns_with_na:\n",
    "    sns.displot(data=df, x=column, kind=\"kde\")\n"
   ]
  }
 ],
 "metadata": {
  "kernelspec": {
   "display_name": "base",
   "language": "python",
   "name": "python3"
  },
  "language_info": {
   "codemirror_mode": {
    "name": "ipython",
    "version": 3
   },
   "file_extension": ".py",
   "mimetype": "text/x-python",
   "name": "python",
   "nbconvert_exporter": "python",
   "pygments_lexer": "ipython3",
   "version": "3.12.6"
  }
 },
 "nbformat": 4,
 "nbformat_minor": 4
}
